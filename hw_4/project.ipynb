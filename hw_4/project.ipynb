{
 "cells": [
  {
   "cell_type": "markdown",
   "metadata": {},
   "source": [
    "Метрикой качества в данной задаче является метрика **ROC-AUC**  \n",
    "Формат вектор прогнозов представлен в файле sample_submit.csv   \n",
    "#### Описание источников данных: \n",
    "\n",
    "train.csv - пары \"заявка - целевая переменная\", для этой выборки нужно собрать признаки и обучить модель;  \n",
    "test.csv - пары \"заявки - прогнозное значение\", для этой выборки нужно собрать признаки и построить прогнозы;  \n",
    "bki.csv - данные БКИ о предыдущих кредитах клиента;  \n",
    "client_profile.csv - клиентский профиль, некоторые знания, которые есть у компании о клиенте;  \n",
    "payments.csv - история платежей клиента;  \n",
    "applications_history.csv - история предыдущих заявок клиента.  \n"
   ]
  },
  {
   "cell_type": "markdown",
   "metadata": {},
   "source": [
    "#### Описание задачи:  \n",
    "Для построения модели в данном соревновании, сначала нужно будет собрать выборку для обучения модели.  \n",
    "Формат соревнования очень похож на то, как в промышленности Data Scinetist'ы строят алгоритмы: сначала нужно провести анализ данных, собрать выборку и после этого строить модели.   \n",
    "В соревновании представлены 4 типа источника данных, которые могут быть интерпретированы как таблицы в базе данных.  Некоторые источники данных уже готовы для моделирования, представлены в агрерированном виде. Другие источники данных требуется представить в удобном для модели виде."
   ]
  },
  {
   "cell_type": "code",
   "execution_count": 1,
   "metadata": {},
   "outputs": [],
   "source": [
    "import os, sys\n",
    "module_path = os.path.abspath(os.path.join(os.pardir))\n",
    "if module_path not in sys.path:\n",
    "    sys.path.append(module_path)"
   ]
  },
  {
   "cell_type": "code",
   "execution_count": 2,
   "metadata": {},
   "outputs": [],
   "source": [
    "import numpy as np\n",
    "import pandas as pd\n",
    "import xgboost as xgb\n",
    "import matplotlib.pyplot as plt\n",
    "import missingno as msno\n",
    "import lightgbm as lgb\n",
    "import catboost as cb\n",
    "from sklearn import metrics\n",
    "import seaborn as sns\n",
    "from scipy.stats import probplot, ks_2samp\n",
    "import warnings\n",
    "from tqdm import tqdm\n",
    "from typing import List, Tuple\n",
    "from scipy.stats import ttest_rel\n",
    "from sklearn.metrics import r2_score, roc_auc_score\n",
    "from sklearn.model_selection import KFold, StratifiedKFold, train_test_split, cross_val_score,GroupKFold,TimeSeriesSplit\n",
    "from classes_and_functions import lgb_param_rnd_test,cb_param_rnd_test,make_cross_validation,make_cross_validation_cb\n",
    "\n",
    "warnings.simplefilter(\"ignore\")\n",
    "%matplotlib inline\n",
    "pd.set_option('display.max_columns', None)"
   ]
  },
  {
   "cell_type": "code",
   "execution_count": 3,
   "metadata": {},
   "outputs": [],
   "source": [
    "PATCH = r'D:\\train\\kagle/'\n",
    "patch_train = PATCH + 'train.csv'\n",
    "patch_test = PATCH + 'test.csv'\n",
    "patch_bki = PATCH + 'bki.csv'\n",
    "patch_client_profile = PATCH + 'client_profile.csv'\n",
    "patch_payments = PATCH + 'payments.csv'\n",
    "patch_applications_history = PATCH + 'applications_history.csv'\n",
    "patch_samble_submit = PATCH + 'sample_submit.csv'\n"
   ]
  },
  {
   "cell_type": "markdown",
   "metadata": {},
   "source": [
    "Осмотрим данные"
   ]
  },
  {
   "cell_type": "code",
   "execution_count": 4,
   "metadata": {},
   "outputs": [
    {
     "data": {
      "text/html": [
       "<div>\n",
       "<style scoped>\n",
       "    .dataframe tbody tr th:only-of-type {\n",
       "        vertical-align: middle;\n",
       "    }\n",
       "\n",
       "    .dataframe tbody tr th {\n",
       "        vertical-align: top;\n",
       "    }\n",
       "\n",
       "    .dataframe thead th {\n",
       "        text-align: right;\n",
       "    }\n",
       "</style>\n",
       "<table border=\"1\" class=\"dataframe\">\n",
       "  <thead>\n",
       "    <tr style=\"text-align: right;\">\n",
       "      <th></th>\n",
       "      <th>APPLICATION_NUMBER</th>\n",
       "      <th>TARGET</th>\n",
       "    </tr>\n",
       "  </thead>\n",
       "  <tbody>\n",
       "    <tr>\n",
       "      <th>0</th>\n",
       "      <td>123724268</td>\n",
       "      <td>0</td>\n",
       "    </tr>\n",
       "    <tr>\n",
       "      <th>1</th>\n",
       "      <td>123456549</td>\n",
       "      <td>0</td>\n",
       "    </tr>\n",
       "    <tr>\n",
       "      <th>2</th>\n",
       "      <td>123428178</td>\n",
       "      <td>0</td>\n",
       "    </tr>\n",
       "    <tr>\n",
       "      <th>3</th>\n",
       "      <td>123619984</td>\n",
       "      <td>0</td>\n",
       "    </tr>\n",
       "    <tr>\n",
       "      <th>4</th>\n",
       "      <td>123671104</td>\n",
       "      <td>0</td>\n",
       "    </tr>\n",
       "    <tr>\n",
       "      <th>...</th>\n",
       "      <td>...</td>\n",
       "      <td>...</td>\n",
       "    </tr>\n",
       "    <tr>\n",
       "      <th>165136</th>\n",
       "      <td>123487967</td>\n",
       "      <td>0</td>\n",
       "    </tr>\n",
       "    <tr>\n",
       "      <th>165137</th>\n",
       "      <td>123536402</td>\n",
       "      <td>0</td>\n",
       "    </tr>\n",
       "    <tr>\n",
       "      <th>165138</th>\n",
       "      <td>123718238</td>\n",
       "      <td>0</td>\n",
       "    </tr>\n",
       "    <tr>\n",
       "      <th>165139</th>\n",
       "      <td>123631557</td>\n",
       "      <td>0</td>\n",
       "    </tr>\n",
       "    <tr>\n",
       "      <th>165140</th>\n",
       "      <td>123433260</td>\n",
       "      <td>0</td>\n",
       "    </tr>\n",
       "  </tbody>\n",
       "</table>\n",
       "<p>165141 rows × 2 columns</p>\n",
       "</div>"
      ],
      "text/plain": [
       "        APPLICATION_NUMBER  TARGET\n",
       "0                123724268       0\n",
       "1                123456549       0\n",
       "2                123428178       0\n",
       "3                123619984       0\n",
       "4                123671104       0\n",
       "...                    ...     ...\n",
       "165136           123487967       0\n",
       "165137           123536402       0\n",
       "165138           123718238       0\n",
       "165139           123631557       0\n",
       "165140           123433260       0\n",
       "\n",
       "[165141 rows x 2 columns]"
      ]
     },
     "execution_count": 4,
     "metadata": {},
     "output_type": "execute_result"
    }
   ],
   "source": [
    "# как сдавать результаты\n",
    "pd.read_csv(patch_samble_submit)\n"
   ]
  },
  {
   "cell_type": "code",
   "execution_count": 5,
   "metadata": {},
   "outputs": [
    {
     "data": {
      "text/html": [
       "<div>\n",
       "<style scoped>\n",
       "    .dataframe tbody tr th:only-of-type {\n",
       "        vertical-align: middle;\n",
       "    }\n",
       "\n",
       "    .dataframe tbody tr th {\n",
       "        vertical-align: top;\n",
       "    }\n",
       "\n",
       "    .dataframe thead th {\n",
       "        text-align: right;\n",
       "    }\n",
       "</style>\n",
       "<table border=\"1\" class=\"dataframe\">\n",
       "  <thead>\n",
       "    <tr style=\"text-align: right;\">\n",
       "      <th></th>\n",
       "      <th>APPLICATION_NUMBER</th>\n",
       "      <th>NAME_CONTRACT_TYPE</th>\n",
       "    </tr>\n",
       "  </thead>\n",
       "  <tbody>\n",
       "    <tr>\n",
       "      <th>0</th>\n",
       "      <td>123724268</td>\n",
       "      <td>Cash</td>\n",
       "    </tr>\n",
       "    <tr>\n",
       "      <th>1</th>\n",
       "      <td>123456549</td>\n",
       "      <td>Cash</td>\n",
       "    </tr>\n",
       "    <tr>\n",
       "      <th>2</th>\n",
       "      <td>123428178</td>\n",
       "      <td>Credit Card</td>\n",
       "    </tr>\n",
       "    <tr>\n",
       "      <th>3</th>\n",
       "      <td>123619984</td>\n",
       "      <td>Cash</td>\n",
       "    </tr>\n",
       "    <tr>\n",
       "      <th>4</th>\n",
       "      <td>123671104</td>\n",
       "      <td>Cash</td>\n",
       "    </tr>\n",
       "    <tr>\n",
       "      <th>...</th>\n",
       "      <td>...</td>\n",
       "      <td>...</td>\n",
       "    </tr>\n",
       "    <tr>\n",
       "      <th>165136</th>\n",
       "      <td>123487967</td>\n",
       "      <td>Cash</td>\n",
       "    </tr>\n",
       "    <tr>\n",
       "      <th>165137</th>\n",
       "      <td>123536402</td>\n",
       "      <td>Cash</td>\n",
       "    </tr>\n",
       "    <tr>\n",
       "      <th>165138</th>\n",
       "      <td>123718238</td>\n",
       "      <td>Cash</td>\n",
       "    </tr>\n",
       "    <tr>\n",
       "      <th>165139</th>\n",
       "      <td>123631557</td>\n",
       "      <td>Cash</td>\n",
       "    </tr>\n",
       "    <tr>\n",
       "      <th>165140</th>\n",
       "      <td>123433260</td>\n",
       "      <td>Cash</td>\n",
       "    </tr>\n",
       "  </tbody>\n",
       "</table>\n",
       "<p>165141 rows × 2 columns</p>\n",
       "</div>"
      ],
      "text/plain": [
       "        APPLICATION_NUMBER NAME_CONTRACT_TYPE\n",
       "0                123724268               Cash\n",
       "1                123456549               Cash\n",
       "2                123428178        Credit Card\n",
       "3                123619984               Cash\n",
       "4                123671104               Cash\n",
       "...                    ...                ...\n",
       "165136           123487967               Cash\n",
       "165137           123536402               Cash\n",
       "165138           123718238               Cash\n",
       "165139           123631557               Cash\n",
       "165140           123433260               Cash\n",
       "\n",
       "[165141 rows x 2 columns]"
      ]
     },
     "execution_count": 5,
     "metadata": {},
     "output_type": "execute_result"
    }
   ],
   "source": [
    "test = pd.read_csv(patch_test)\n",
    "test"
   ]
  },
  {
   "cell_type": "code",
   "execution_count": 6,
   "metadata": {},
   "outputs": [
    {
     "data": {
      "text/plain": [
       "Cash           149432\n",
       "Credit Card     15709\n",
       "Name: NAME_CONTRACT_TYPE, dtype: int64"
      ]
     },
     "execution_count": 6,
     "metadata": {},
     "output_type": "execute_result"
    }
   ],
   "source": [
    "\n",
    "test.NAME_CONTRACT_TYPE.value_counts()"
   ]
  },
  {
   "cell_type": "code",
   "execution_count": 7,
   "metadata": {},
   "outputs": [
    {
     "data": {
      "text/plain": [
       "0"
      ]
     },
     "execution_count": 7,
     "metadata": {},
     "output_type": "execute_result"
    }
   ],
   "source": [
    "sum(test.APPLICATION_NUMBER.duplicated())"
   ]
  },
  {
   "cell_type": "markdown",
   "metadata": {},
   "source": [
    "Дубликатов нет"
   ]
  },
  {
   "cell_type": "code",
   "execution_count": 8,
   "metadata": {},
   "outputs": [
    {
     "name": "stdout",
     "output_type": "stream",
     "text": [
      "<class 'pandas.core.frame.DataFrame'>\n",
      "RangeIndex: 165141 entries, 0 to 165140\n",
      "Data columns (total 2 columns):\n",
      " #   Column              Non-Null Count   Dtype \n",
      "---  ------              --------------   ----- \n",
      " 0   APPLICATION_NUMBER  165141 non-null  int64 \n",
      " 1   NAME_CONTRACT_TYPE  165141 non-null  object\n",
      "dtypes: int64(1), object(1)\n",
      "memory usage: 2.5+ MB\n"
     ]
    }
   ],
   "source": [
    "test.info()"
   ]
  },
  {
   "cell_type": "code",
   "execution_count": 9,
   "metadata": {},
   "outputs": [
    {
     "data": {
      "text/plain": [
       "85962     123423342\n",
       "127477    123423343\n",
       "129290    123423344\n",
       "55321     123423346\n",
       "158817    123423347\n",
       "            ...    \n",
       "142454    123730847\n",
       "141662    123730848\n",
       "75755     123730849\n",
       "9566      123730850\n",
       "76629     123730851\n",
       "Name: APPLICATION_NUMBER, Length: 165141, dtype: int64"
      ]
     },
     "execution_count": 9,
     "metadata": {},
     "output_type": "execute_result"
    }
   ],
   "source": [
    "test.APPLICATION_NUMBER.sort_values()"
   ]
  },
  {
   "cell_type": "markdown",
   "metadata": {},
   "source": [
    "Все заявки в тесте уникальны. Заявки могут быть на наличный и кредитные карты. Нужно дать ответ по 165 141 заявке. Вероятность от  0 до 1   (поскольку метрика ROC-AUC)\n",
    "Похоже , что заявки имеют сквозную нумерацию. Это значить, что в номере заявки заложена информация о времени. При этом видно, что заявки перемешаны"
   ]
  },
  {
   "cell_type": "code",
   "execution_count": 10,
   "metadata": {},
   "outputs": [
    {
     "data": {
      "text/html": [
       "<div>\n",
       "<style scoped>\n",
       "    .dataframe tbody tr th:only-of-type {\n",
       "        vertical-align: middle;\n",
       "    }\n",
       "\n",
       "    .dataframe tbody tr th {\n",
       "        vertical-align: top;\n",
       "    }\n",
       "\n",
       "    .dataframe thead th {\n",
       "        text-align: right;\n",
       "    }\n",
       "</style>\n",
       "<table border=\"1\" class=\"dataframe\">\n",
       "  <thead>\n",
       "    <tr style=\"text-align: right;\">\n",
       "      <th></th>\n",
       "      <th>APPLICATION_NUMBER</th>\n",
       "      <th>TARGET</th>\n",
       "      <th>NAME_CONTRACT_TYPE</th>\n",
       "    </tr>\n",
       "  </thead>\n",
       "  <tbody>\n",
       "    <tr>\n",
       "      <th>0</th>\n",
       "      <td>123687442</td>\n",
       "      <td>0</td>\n",
       "      <td>Cash</td>\n",
       "    </tr>\n",
       "    <tr>\n",
       "      <th>1</th>\n",
       "      <td>123597908</td>\n",
       "      <td>1</td>\n",
       "      <td>Cash</td>\n",
       "    </tr>\n",
       "    <tr>\n",
       "      <th>2</th>\n",
       "      <td>123526683</td>\n",
       "      <td>0</td>\n",
       "      <td>Cash</td>\n",
       "    </tr>\n",
       "    <tr>\n",
       "      <th>3</th>\n",
       "      <td>123710391</td>\n",
       "      <td>1</td>\n",
       "      <td>Cash</td>\n",
       "    </tr>\n",
       "    <tr>\n",
       "      <th>4</th>\n",
       "      <td>123590329</td>\n",
       "      <td>1</td>\n",
       "      <td>Cash</td>\n",
       "    </tr>\n",
       "    <tr>\n",
       "      <th>...</th>\n",
       "      <td>...</td>\n",
       "      <td>...</td>\n",
       "      <td>...</td>\n",
       "    </tr>\n",
       "    <tr>\n",
       "      <th>110088</th>\n",
       "      <td>123458312</td>\n",
       "      <td>0</td>\n",
       "      <td>Cash</td>\n",
       "    </tr>\n",
       "    <tr>\n",
       "      <th>110089</th>\n",
       "      <td>123672463</td>\n",
       "      <td>0</td>\n",
       "      <td>Cash</td>\n",
       "    </tr>\n",
       "    <tr>\n",
       "      <th>110090</th>\n",
       "      <td>123723001</td>\n",
       "      <td>0</td>\n",
       "      <td>Cash</td>\n",
       "    </tr>\n",
       "    <tr>\n",
       "      <th>110091</th>\n",
       "      <td>123554358</td>\n",
       "      <td>0</td>\n",
       "      <td>Cash</td>\n",
       "    </tr>\n",
       "    <tr>\n",
       "      <th>110092</th>\n",
       "      <td>123676265</td>\n",
       "      <td>0</td>\n",
       "      <td>Credit Card</td>\n",
       "    </tr>\n",
       "  </tbody>\n",
       "</table>\n",
       "<p>110093 rows × 3 columns</p>\n",
       "</div>"
      ],
      "text/plain": [
       "        APPLICATION_NUMBER  TARGET NAME_CONTRACT_TYPE\n",
       "0                123687442       0               Cash\n",
       "1                123597908       1               Cash\n",
       "2                123526683       0               Cash\n",
       "3                123710391       1               Cash\n",
       "4                123590329       1               Cash\n",
       "...                    ...     ...                ...\n",
       "110088           123458312       0               Cash\n",
       "110089           123672463       0               Cash\n",
       "110090           123723001       0               Cash\n",
       "110091           123554358       0               Cash\n",
       "110092           123676265       0        Credit Card\n",
       "\n",
       "[110093 rows x 3 columns]"
      ]
     },
     "execution_count": 10,
     "metadata": {},
     "output_type": "execute_result"
    }
   ],
   "source": [
    "train = pd.read_csv(patch_train)\n",
    "train"
   ]
  },
  {
   "cell_type": "code",
   "execution_count": 11,
   "metadata": {},
   "outputs": [
    {
     "data": {
      "text/plain": [
       "Cash           99551\n",
       "Credit Card    10542\n",
       "Name: NAME_CONTRACT_TYPE, dtype: int64"
      ]
     },
     "execution_count": 11,
     "metadata": {},
     "output_type": "execute_result"
    }
   ],
   "source": [
    "train.NAME_CONTRACT_TYPE.value_counts()"
   ]
  },
  {
   "cell_type": "code",
   "execution_count": 12,
   "metadata": {},
   "outputs": [
    {
     "data": {
      "text/plain": [
       "0"
      ]
     },
     "execution_count": 12,
     "metadata": {},
     "output_type": "execute_result"
    }
   ],
   "source": [
    "sum(test.APPLICATION_NUMBER.duplicated())"
   ]
  },
  {
   "cell_type": "markdown",
   "metadata": {},
   "source": [
    "Дубликатов нет"
   ]
  },
  {
   "cell_type": "code",
   "execution_count": 13,
   "metadata": {},
   "outputs": [
    {
     "name": "stdout",
     "output_type": "stream",
     "text": [
      "<class 'pandas.core.frame.DataFrame'>\n",
      "RangeIndex: 110093 entries, 0 to 110092\n",
      "Data columns (total 3 columns):\n",
      " #   Column              Non-Null Count   Dtype \n",
      "---  ------              --------------   ----- \n",
      " 0   APPLICATION_NUMBER  110093 non-null  int64 \n",
      " 1   TARGET              110093 non-null  int64 \n",
      " 2   NAME_CONTRACT_TYPE  110093 non-null  object\n",
      "dtypes: int64(2), object(1)\n",
      "memory usage: 2.5+ MB\n"
     ]
    }
   ],
   "source": [
    "train.info()"
   ]
  },
  {
   "cell_type": "code",
   "execution_count": 14,
   "metadata": {},
   "outputs": [
    {
     "data": {
      "text/plain": [
       "47058     123423341\n",
       "6474      123423345\n",
       "2373      123423349\n",
       "78690     123423351\n",
       "21529     123423352\n",
       "            ...    \n",
       "102567    123730828\n",
       "82146     123730830\n",
       "38743     123730833\n",
       "38221     123730838\n",
       "26422     123730843\n",
       "Name: APPLICATION_NUMBER, Length: 110093, dtype: int64"
      ]
     },
     "execution_count": 14,
     "metadata": {},
     "output_type": "execute_result"
    }
   ],
   "source": [
    "train.APPLICATION_NUMBER.sort_values()"
   ]
  },
  {
   "cell_type": "markdown",
   "metadata": {},
   "source": [
    "Все заявки в трейне уникальны. Заявки могут быть на наличный и кредитные карты. Имеется  110093 заявки ждя обучения с таргетом 0 или 1  \n",
    "Похоже , что заявки имеют сквозную нумерацию. Это значить, что в номере заявки заложена информация о времени. При этом видно, что заявки перемешаны"
   ]
  },
  {
   "cell_type": "code",
   "execution_count": 15,
   "metadata": {},
   "outputs": [
    {
     "data": {
      "text/plain": [
       "(0    101196\n",
       " 1      8897\n",
       " Name: TARGET, dtype: int64,\n",
       " 0    0.919187\n",
       " 1    0.080813\n",
       " Name: TARGET, dtype: float64)"
      ]
     },
     "execution_count": 15,
     "metadata": {},
     "output_type": "execute_result"
    }
   ],
   "source": [
    "train.TARGET.value_counts(),train.TARGET.value_counts(normalize=True)"
   ]
  },
  {
   "cell_type": "markdown",
   "metadata": {},
   "source": [
    "Доля положительного таргета очень маленькая, всего 8%. около 9000 строк всего"
   ]
  },
  {
   "cell_type": "code",
   "execution_count": 16,
   "metadata": {},
   "outputs": [
    {
     "data": {
      "text/html": [
       "<div>\n",
       "<style scoped>\n",
       "    .dataframe tbody tr th:only-of-type {\n",
       "        vertical-align: middle;\n",
       "    }\n",
       "\n",
       "    .dataframe tbody tr th {\n",
       "        vertical-align: top;\n",
       "    }\n",
       "\n",
       "    .dataframe thead th {\n",
       "        text-align: right;\n",
       "    }\n",
       "</style>\n",
       "<table border=\"1\" class=\"dataframe\">\n",
       "  <thead>\n",
       "    <tr style=\"text-align: right;\">\n",
       "      <th></th>\n",
       "      <th>APPLICATION_NUMBER</th>\n",
       "      <th>GENDER</th>\n",
       "      <th>CHILDRENS</th>\n",
       "      <th>TOTAL_SALARY</th>\n",
       "      <th>AMOUNT_CREDIT</th>\n",
       "      <th>AMOUNT_ANNUITY</th>\n",
       "      <th>EDUCATION_LEVEL</th>\n",
       "      <th>FAMILY_STATUS</th>\n",
       "      <th>REGION_POPULATION</th>\n",
       "      <th>AGE</th>\n",
       "      <th>DAYS_ON_LAST_JOB</th>\n",
       "      <th>OWN_CAR_AGE</th>\n",
       "      <th>FLAG_PHONE</th>\n",
       "      <th>FLAG_EMAIL</th>\n",
       "      <th>FAMILY_SIZE</th>\n",
       "      <th>EXTERNAL_SCORING_RATING_1</th>\n",
       "      <th>EXTERNAL_SCORING_RATING_2</th>\n",
       "      <th>EXTERNAL_SCORING_RATING_3</th>\n",
       "      <th>AMT_REQ_CREDIT_BUREAU_HOUR</th>\n",
       "      <th>AMT_REQ_CREDIT_BUREAU_DAY</th>\n",
       "      <th>AMT_REQ_CREDIT_BUREAU_WEEK</th>\n",
       "      <th>AMT_REQ_CREDIT_BUREAU_MON</th>\n",
       "      <th>AMT_REQ_CREDIT_BUREAU_QRT</th>\n",
       "      <th>AMT_REQ_CREDIT_BUREAU_YEAR</th>\n",
       "    </tr>\n",
       "  </thead>\n",
       "  <tbody>\n",
       "    <tr>\n",
       "      <th>0</th>\n",
       "      <td>123666076</td>\n",
       "      <td>F</td>\n",
       "      <td>0</td>\n",
       "      <td>157500.0</td>\n",
       "      <td>270000.0</td>\n",
       "      <td>13500.0</td>\n",
       "      <td>Incomplete higher</td>\n",
       "      <td>Civil marriage</td>\n",
       "      <td>0.008068</td>\n",
       "      <td>8560</td>\n",
       "      <td>1549</td>\n",
       "      <td>NaN</td>\n",
       "      <td>1</td>\n",
       "      <td>0</td>\n",
       "      <td>2.0</td>\n",
       "      <td>0.329471</td>\n",
       "      <td>0.236315</td>\n",
       "      <td>0.678568</td>\n",
       "      <td>0.0</td>\n",
       "      <td>0.0</td>\n",
       "      <td>0.0</td>\n",
       "      <td>0.0</td>\n",
       "      <td>1.0</td>\n",
       "      <td>2.0</td>\n",
       "    </tr>\n",
       "    <tr>\n",
       "      <th>1</th>\n",
       "      <td>123423688</td>\n",
       "      <td>F</td>\n",
       "      <td>0</td>\n",
       "      <td>270000.0</td>\n",
       "      <td>536917.5</td>\n",
       "      <td>28467.0</td>\n",
       "      <td>Secondary / secondary special</td>\n",
       "      <td>Married</td>\n",
       "      <td>0.020246</td>\n",
       "      <td>23187</td>\n",
       "      <td>365243</td>\n",
       "      <td>NaN</td>\n",
       "      <td>0</td>\n",
       "      <td>0</td>\n",
       "      <td>2.0</td>\n",
       "      <td>NaN</td>\n",
       "      <td>0.442295</td>\n",
       "      <td>0.802745</td>\n",
       "      <td>0.0</td>\n",
       "      <td>0.0</td>\n",
       "      <td>0.0</td>\n",
       "      <td>0.0</td>\n",
       "      <td>1.0</td>\n",
       "      <td>1.0</td>\n",
       "    </tr>\n",
       "    <tr>\n",
       "      <th>2</th>\n",
       "      <td>123501780</td>\n",
       "      <td>M</td>\n",
       "      <td>1</td>\n",
       "      <td>427500.0</td>\n",
       "      <td>239850.0</td>\n",
       "      <td>23850.0</td>\n",
       "      <td>Incomplete higher</td>\n",
       "      <td>Married</td>\n",
       "      <td>0.072508</td>\n",
       "      <td>14387</td>\n",
       "      <td>326</td>\n",
       "      <td>18.0</td>\n",
       "      <td>0</td>\n",
       "      <td>0</td>\n",
       "      <td>3.0</td>\n",
       "      <td>0.409017</td>\n",
       "      <td>0.738159</td>\n",
       "      <td>NaN</td>\n",
       "      <td>NaN</td>\n",
       "      <td>NaN</td>\n",
       "      <td>NaN</td>\n",
       "      <td>NaN</td>\n",
       "      <td>NaN</td>\n",
       "      <td>NaN</td>\n",
       "    </tr>\n",
       "    <tr>\n",
       "      <th>3</th>\n",
       "      <td>123588799</td>\n",
       "      <td>M</td>\n",
       "      <td>0</td>\n",
       "      <td>112500.0</td>\n",
       "      <td>254700.0</td>\n",
       "      <td>17149.5</td>\n",
       "      <td>Secondary / secondary special</td>\n",
       "      <td>Married</td>\n",
       "      <td>0.019101</td>\n",
       "      <td>14273</td>\n",
       "      <td>1726</td>\n",
       "      <td>12.0</td>\n",
       "      <td>0</td>\n",
       "      <td>0</td>\n",
       "      <td>2.0</td>\n",
       "      <td>NaN</td>\n",
       "      <td>0.308994</td>\n",
       "      <td>0.590233</td>\n",
       "      <td>0.0</td>\n",
       "      <td>0.0</td>\n",
       "      <td>0.0</td>\n",
       "      <td>0.0</td>\n",
       "      <td>0.0</td>\n",
       "      <td>3.0</td>\n",
       "    </tr>\n",
       "    <tr>\n",
       "      <th>4</th>\n",
       "      <td>123647485</td>\n",
       "      <td>M</td>\n",
       "      <td>0</td>\n",
       "      <td>130500.0</td>\n",
       "      <td>614574.0</td>\n",
       "      <td>19822.5</td>\n",
       "      <td>Lower secondary</td>\n",
       "      <td>Married</td>\n",
       "      <td>0.022625</td>\n",
       "      <td>22954</td>\n",
       "      <td>365243</td>\n",
       "      <td>NaN</td>\n",
       "      <td>0</td>\n",
       "      <td>0</td>\n",
       "      <td>2.0</td>\n",
       "      <td>NaN</td>\n",
       "      <td>0.739408</td>\n",
       "      <td>0.156640</td>\n",
       "      <td>0.0</td>\n",
       "      <td>0.0</td>\n",
       "      <td>1.0</td>\n",
       "      <td>0.0</td>\n",
       "      <td>0.0</td>\n",
       "      <td>6.0</td>\n",
       "    </tr>\n",
       "    <tr>\n",
       "      <th>...</th>\n",
       "      <td>...</td>\n",
       "      <td>...</td>\n",
       "      <td>...</td>\n",
       "      <td>...</td>\n",
       "      <td>...</td>\n",
       "      <td>...</td>\n",
       "      <td>...</td>\n",
       "      <td>...</td>\n",
       "      <td>...</td>\n",
       "      <td>...</td>\n",
       "      <td>...</td>\n",
       "      <td>...</td>\n",
       "      <td>...</td>\n",
       "      <td>...</td>\n",
       "      <td>...</td>\n",
       "      <td>...</td>\n",
       "      <td>...</td>\n",
       "      <td>...</td>\n",
       "      <td>...</td>\n",
       "      <td>...</td>\n",
       "      <td>...</td>\n",
       "      <td>...</td>\n",
       "      <td>...</td>\n",
       "      <td>...</td>\n",
       "    </tr>\n",
       "    <tr>\n",
       "      <th>249995</th>\n",
       "      <td>123657254</td>\n",
       "      <td>M</td>\n",
       "      <td>0</td>\n",
       "      <td>216000.0</td>\n",
       "      <td>45000.0</td>\n",
       "      <td>2425.5</td>\n",
       "      <td>Higher education</td>\n",
       "      <td>Married</td>\n",
       "      <td>0.018850</td>\n",
       "      <td>19150</td>\n",
       "      <td>7415</td>\n",
       "      <td>NaN</td>\n",
       "      <td>0</td>\n",
       "      <td>1</td>\n",
       "      <td>2.0</td>\n",
       "      <td>0.555436</td>\n",
       "      <td>0.581592</td>\n",
       "      <td>0.048259</td>\n",
       "      <td>0.0</td>\n",
       "      <td>0.0</td>\n",
       "      <td>0.0</td>\n",
       "      <td>0.0</td>\n",
       "      <td>1.0</td>\n",
       "      <td>3.0</td>\n",
       "    </tr>\n",
       "    <tr>\n",
       "      <th>249996</th>\n",
       "      <td>123645397</td>\n",
       "      <td>M</td>\n",
       "      <td>0</td>\n",
       "      <td>103500.0</td>\n",
       "      <td>675000.0</td>\n",
       "      <td>28507.5</td>\n",
       "      <td>Higher education</td>\n",
       "      <td>Married</td>\n",
       "      <td>0.014520</td>\n",
       "      <td>19604</td>\n",
       "      <td>1799</td>\n",
       "      <td>16.0</td>\n",
       "      <td>0</td>\n",
       "      <td>0</td>\n",
       "      <td>2.0</td>\n",
       "      <td>NaN</td>\n",
       "      <td>0.676409</td>\n",
       "      <td>0.726711</td>\n",
       "      <td>0.0</td>\n",
       "      <td>0.0</td>\n",
       "      <td>0.0</td>\n",
       "      <td>0.0</td>\n",
       "      <td>0.0</td>\n",
       "      <td>0.0</td>\n",
       "    </tr>\n",
       "    <tr>\n",
       "      <th>249997</th>\n",
       "      <td>123504053</td>\n",
       "      <td>M</td>\n",
       "      <td>0</td>\n",
       "      <td>202500.0</td>\n",
       "      <td>1078200.0</td>\n",
       "      <td>38331.0</td>\n",
       "      <td>Secondary / secondary special</td>\n",
       "      <td>Single / not married</td>\n",
       "      <td>0.031329</td>\n",
       "      <td>8351</td>\n",
       "      <td>124</td>\n",
       "      <td>12.0</td>\n",
       "      <td>0</td>\n",
       "      <td>0</td>\n",
       "      <td>1.0</td>\n",
       "      <td>NaN</td>\n",
       "      <td>0.353665</td>\n",
       "      <td>0.283712</td>\n",
       "      <td>0.0</td>\n",
       "      <td>0.0</td>\n",
       "      <td>0.0</td>\n",
       "      <td>0.0</td>\n",
       "      <td>1.0</td>\n",
       "      <td>4.0</td>\n",
       "    </tr>\n",
       "    <tr>\n",
       "      <th>249998</th>\n",
       "      <td>123547316</td>\n",
       "      <td>F</td>\n",
       "      <td>0</td>\n",
       "      <td>135000.0</td>\n",
       "      <td>500211.0</td>\n",
       "      <td>38839.5</td>\n",
       "      <td>Secondary / secondary special</td>\n",
       "      <td>Married</td>\n",
       "      <td>0.030755</td>\n",
       "      <td>13277</td>\n",
       "      <td>1603</td>\n",
       "      <td>NaN</td>\n",
       "      <td>0</td>\n",
       "      <td>1</td>\n",
       "      <td>2.0</td>\n",
       "      <td>0.305746</td>\n",
       "      <td>0.682462</td>\n",
       "      <td>0.639708</td>\n",
       "      <td>0.0</td>\n",
       "      <td>0.0</td>\n",
       "      <td>0.0</td>\n",
       "      <td>0.0</td>\n",
       "      <td>0.0</td>\n",
       "      <td>3.0</td>\n",
       "    </tr>\n",
       "    <tr>\n",
       "      <th>249999</th>\n",
       "      <td>123616787</td>\n",
       "      <td>F</td>\n",
       "      <td>0</td>\n",
       "      <td>270000.0</td>\n",
       "      <td>573408.0</td>\n",
       "      <td>35077.5</td>\n",
       "      <td>Incomplete higher</td>\n",
       "      <td>Separated</td>\n",
       "      <td>0.072508</td>\n",
       "      <td>18334</td>\n",
       "      <td>3475</td>\n",
       "      <td>NaN</td>\n",
       "      <td>0</td>\n",
       "      <td>0</td>\n",
       "      <td>1.0</td>\n",
       "      <td>NaN</td>\n",
       "      <td>0.708573</td>\n",
       "      <td>0.528093</td>\n",
       "      <td>0.0</td>\n",
       "      <td>0.0</td>\n",
       "      <td>0.0</td>\n",
       "      <td>0.0</td>\n",
       "      <td>0.0</td>\n",
       "      <td>7.0</td>\n",
       "    </tr>\n",
       "  </tbody>\n",
       "</table>\n",
       "<p>250000 rows × 24 columns</p>\n",
       "</div>"
      ],
      "text/plain": [
       "        APPLICATION_NUMBER GENDER  CHILDRENS  TOTAL_SALARY  AMOUNT_CREDIT  \\\n",
       "0                123666076      F          0      157500.0       270000.0   \n",
       "1                123423688      F          0      270000.0       536917.5   \n",
       "2                123501780      M          1      427500.0       239850.0   \n",
       "3                123588799      M          0      112500.0       254700.0   \n",
       "4                123647485      M          0      130500.0       614574.0   \n",
       "...                    ...    ...        ...           ...            ...   \n",
       "249995           123657254      M          0      216000.0        45000.0   \n",
       "249996           123645397      M          0      103500.0       675000.0   \n",
       "249997           123504053      M          0      202500.0      1078200.0   \n",
       "249998           123547316      F          0      135000.0       500211.0   \n",
       "249999           123616787      F          0      270000.0       573408.0   \n",
       "\n",
       "        AMOUNT_ANNUITY                EDUCATION_LEVEL         FAMILY_STATUS  \\\n",
       "0              13500.0              Incomplete higher        Civil marriage   \n",
       "1              28467.0  Secondary / secondary special               Married   \n",
       "2              23850.0              Incomplete higher               Married   \n",
       "3              17149.5  Secondary / secondary special               Married   \n",
       "4              19822.5                Lower secondary               Married   \n",
       "...                ...                            ...                   ...   \n",
       "249995          2425.5               Higher education               Married   \n",
       "249996         28507.5               Higher education               Married   \n",
       "249997         38331.0  Secondary / secondary special  Single / not married   \n",
       "249998         38839.5  Secondary / secondary special               Married   \n",
       "249999         35077.5              Incomplete higher             Separated   \n",
       "\n",
       "        REGION_POPULATION    AGE  DAYS_ON_LAST_JOB  OWN_CAR_AGE  FLAG_PHONE  \\\n",
       "0                0.008068   8560              1549          NaN           1   \n",
       "1                0.020246  23187            365243          NaN           0   \n",
       "2                0.072508  14387               326         18.0           0   \n",
       "3                0.019101  14273              1726         12.0           0   \n",
       "4                0.022625  22954            365243          NaN           0   \n",
       "...                   ...    ...               ...          ...         ...   \n",
       "249995           0.018850  19150              7415          NaN           0   \n",
       "249996           0.014520  19604              1799         16.0           0   \n",
       "249997           0.031329   8351               124         12.0           0   \n",
       "249998           0.030755  13277              1603          NaN           0   \n",
       "249999           0.072508  18334              3475          NaN           0   \n",
       "\n",
       "        FLAG_EMAIL  FAMILY_SIZE  EXTERNAL_SCORING_RATING_1  \\\n",
       "0                0          2.0                   0.329471   \n",
       "1                0          2.0                        NaN   \n",
       "2                0          3.0                   0.409017   \n",
       "3                0          2.0                        NaN   \n",
       "4                0          2.0                        NaN   \n",
       "...            ...          ...                        ...   \n",
       "249995           1          2.0                   0.555436   \n",
       "249996           0          2.0                        NaN   \n",
       "249997           0          1.0                        NaN   \n",
       "249998           1          2.0                   0.305746   \n",
       "249999           0          1.0                        NaN   \n",
       "\n",
       "        EXTERNAL_SCORING_RATING_2  EXTERNAL_SCORING_RATING_3  \\\n",
       "0                        0.236315                   0.678568   \n",
       "1                        0.442295                   0.802745   \n",
       "2                        0.738159                        NaN   \n",
       "3                        0.308994                   0.590233   \n",
       "4                        0.739408                   0.156640   \n",
       "...                           ...                        ...   \n",
       "249995                   0.581592                   0.048259   \n",
       "249996                   0.676409                   0.726711   \n",
       "249997                   0.353665                   0.283712   \n",
       "249998                   0.682462                   0.639708   \n",
       "249999                   0.708573                   0.528093   \n",
       "\n",
       "        AMT_REQ_CREDIT_BUREAU_HOUR  AMT_REQ_CREDIT_BUREAU_DAY  \\\n",
       "0                              0.0                        0.0   \n",
       "1                              0.0                        0.0   \n",
       "2                              NaN                        NaN   \n",
       "3                              0.0                        0.0   \n",
       "4                              0.0                        0.0   \n",
       "...                            ...                        ...   \n",
       "249995                         0.0                        0.0   \n",
       "249996                         0.0                        0.0   \n",
       "249997                         0.0                        0.0   \n",
       "249998                         0.0                        0.0   \n",
       "249999                         0.0                        0.0   \n",
       "\n",
       "        AMT_REQ_CREDIT_BUREAU_WEEK  AMT_REQ_CREDIT_BUREAU_MON  \\\n",
       "0                              0.0                        0.0   \n",
       "1                              0.0                        0.0   \n",
       "2                              NaN                        NaN   \n",
       "3                              0.0                        0.0   \n",
       "4                              1.0                        0.0   \n",
       "...                            ...                        ...   \n",
       "249995                         0.0                        0.0   \n",
       "249996                         0.0                        0.0   \n",
       "249997                         0.0                        0.0   \n",
       "249998                         0.0                        0.0   \n",
       "249999                         0.0                        0.0   \n",
       "\n",
       "        AMT_REQ_CREDIT_BUREAU_QRT  AMT_REQ_CREDIT_BUREAU_YEAR  \n",
       "0                             1.0                         2.0  \n",
       "1                             1.0                         1.0  \n",
       "2                             NaN                         NaN  \n",
       "3                             0.0                         3.0  \n",
       "4                             0.0                         6.0  \n",
       "...                           ...                         ...  \n",
       "249995                        1.0                         3.0  \n",
       "249996                        0.0                         0.0  \n",
       "249997                        1.0                         4.0  \n",
       "249998                        0.0                         3.0  \n",
       "249999                        0.0                         7.0  \n",
       "\n",
       "[250000 rows x 24 columns]"
      ]
     },
     "execution_count": 16,
     "metadata": {},
     "output_type": "execute_result"
    }
   ],
   "source": [
    "client = pd.read_csv(patch_client_profile)\n",
    "client"
   ]
  },
  {
   "cell_type": "markdown",
   "metadata": {},
   "source": [
    "в файле видим некторые данные о клиенте привязанную к заявке. Это уже хорошо. Значть данные были источески актуальны на мамент подачи заявки"
   ]
  },
  {
   "cell_type": "code",
   "execution_count": 17,
   "metadata": {},
   "outputs": [
    {
     "name": "stdout",
     "output_type": "stream",
     "text": [
      "<class 'pandas.core.frame.DataFrame'>\n",
      "RangeIndex: 250000 entries, 0 to 249999\n",
      "Data columns (total 24 columns):\n",
      " #   Column                      Non-Null Count   Dtype  \n",
      "---  ------                      --------------   -----  \n",
      " 0   APPLICATION_NUMBER          250000 non-null  int64  \n",
      " 1   GENDER                      250000 non-null  object \n",
      " 2   CHILDRENS                   250000 non-null  int64  \n",
      " 3   TOTAL_SALARY                250000 non-null  float64\n",
      " 4   AMOUNT_CREDIT               250000 non-null  float64\n",
      " 5   AMOUNT_ANNUITY              249989 non-null  float64\n",
      " 6   EDUCATION_LEVEL             250000 non-null  object \n",
      " 7   FAMILY_STATUS               250000 non-null  object \n",
      " 8   REGION_POPULATION           250000 non-null  float64\n",
      " 9   AGE                         250000 non-null  int64  \n",
      " 10  DAYS_ON_LAST_JOB            250000 non-null  int64  \n",
      " 11  OWN_CAR_AGE                 85041 non-null   float64\n",
      " 12  FLAG_PHONE                  250000 non-null  int64  \n",
      " 13  FLAG_EMAIL                  250000 non-null  int64  \n",
      " 14  FAMILY_SIZE                 249998 non-null  float64\n",
      " 15  EXTERNAL_SCORING_RATING_1   109121 non-null  float64\n",
      " 16  EXTERNAL_SCORING_RATING_2   249468 non-null  float64\n",
      " 17  EXTERNAL_SCORING_RATING_3   200462 non-null  float64\n",
      " 18  AMT_REQ_CREDIT_BUREAU_HOUR  216293 non-null  float64\n",
      " 19  AMT_REQ_CREDIT_BUREAU_DAY   216293 non-null  float64\n",
      " 20  AMT_REQ_CREDIT_BUREAU_WEEK  216293 non-null  float64\n",
      " 21  AMT_REQ_CREDIT_BUREAU_MON   216293 non-null  float64\n",
      " 22  AMT_REQ_CREDIT_BUREAU_QRT   216293 non-null  float64\n",
      " 23  AMT_REQ_CREDIT_BUREAU_YEAR  216293 non-null  float64\n",
      "dtypes: float64(15), int64(6), object(3)\n",
      "memory usage: 45.8+ MB\n"
     ]
    }
   ],
   "source": [
    "client.info()"
   ]
  },
  {
   "cell_type": "code",
   "execution_count": 18,
   "metadata": {},
   "outputs": [
    {
     "data": {
      "text/plain": [
       "0"
      ]
     },
     "execution_count": 18,
     "metadata": {},
     "output_type": "execute_result"
    }
   ],
   "source": [
    "sum(client.APPLICATION_NUMBER.duplicated())"
   ]
  },
  {
   "cell_type": "markdown",
   "metadata": {},
   "source": [
    "Не дублей по заявкам"
   ]
  },
  {
   "cell_type": "markdown",
   "metadata": {},
   "source": [
    "Проверим как покрывают эти данные тест и трейн (тест и трейн в сумме 275 234 записей, в даннойм файле у нас всего 250 000 записей)"
   ]
  },
  {
   "cell_type": "code",
   "execution_count": 19,
   "metadata": {},
   "outputs": [],
   "source": [
    "all_app = pd.concat((test.APPLICATION_NUMBER , train.APPLICATION_NUMBER))"
   ]
  },
  {
   "cell_type": "code",
   "execution_count": 20,
   "metadata": {},
   "outputs": [
    {
     "data": {
      "text/plain": [
       "0"
      ]
     },
     "execution_count": 20,
     "metadata": {},
     "output_type": "execute_result"
    }
   ],
   "source": [
    "sum(all_app.duplicated())"
   ]
  },
  {
   "cell_type": "markdown",
   "metadata": {},
   "source": [
    "На трейне и тесте нет повторяющихся заявок :)"
   ]
  },
  {
   "cell_type": "code",
   "execution_count": 21,
   "metadata": {},
   "outputs": [
    {
     "data": {
      "text/plain": [
       "(1    134176\n",
       " 0     30965\n",
       " Name: is_client_info, dtype: int64,\n",
       " 1    0.812494\n",
       " 0    0.187506\n",
       " Name: is_client_info, dtype: float64)"
      ]
     },
     "execution_count": 21,
     "metadata": {},
     "output_type": "execute_result"
    }
   ],
   "source": [
    "d_map_app_index_client_test = {i:1 for  i in client.APPLICATION_NUMBER.values}\n",
    "test['is_client_info'] = test.APPLICATION_NUMBER.map(d_map_app_index_client_test)\n",
    "test['is_client_info'] = test['is_client_info'].fillna(0)\n",
    "test['is_client_info'] = test['is_client_info'].astype(int)\n",
    "test.is_client_info.value_counts(), test.is_client_info.value_counts(normalize = True)"
   ]
  },
  {
   "cell_type": "code",
   "execution_count": 22,
   "metadata": {},
   "outputs": [
    {
     "data": {
      "text/plain": [
       "(1    89539\n",
       " 0    20554\n",
       " Name: is_client_info, dtype: int64,\n",
       " 1    0.813303\n",
       " 0    0.186697\n",
       " Name: is_client_info, dtype: float64)"
      ]
     },
     "execution_count": 22,
     "metadata": {},
     "output_type": "execute_result"
    }
   ],
   "source": [
    "d_map_app_index_client_train = {i:1 for  i in client.APPLICATION_NUMBER.values}\n",
    "train['is_client_info'] = train.APPLICATION_NUMBER.map(d_map_app_index_client_train)\n",
    "train['is_client_info'] = train['is_client_info'].fillna(0)\n",
    "train['is_client_info'] = train['is_client_info'].astype(int)\n",
    "train.is_client_info.value_counts(),train.is_client_info.value_counts(normalize = True)"
   ]
  },
  {
   "cell_type": "markdown",
   "metadata": {},
   "source": [
    "Как видно на тесте не хватает данных о клдиентах по 30 965 заявкам  \n",
    "На трейне 20 554 з0аявки без данных о клиенте  \n",
    "в обоих случаях это 18 %\n"
   ]
  },
  {
   "cell_type": "code",
   "execution_count": 23,
   "metadata": {},
   "outputs": [
    {
     "data": {
      "text/html": [
       "<div>\n",
       "<style scoped>\n",
       "    .dataframe tbody tr th:only-of-type {\n",
       "        vertical-align: middle;\n",
       "    }\n",
       "\n",
       "    .dataframe tbody tr th {\n",
       "        vertical-align: top;\n",
       "    }\n",
       "\n",
       "    .dataframe thead th {\n",
       "        text-align: right;\n",
       "    }\n",
       "</style>\n",
       "<table border=\"1\" class=\"dataframe\">\n",
       "  <thead>\n",
       "    <tr style=\"text-align: right;\">\n",
       "      <th></th>\n",
       "      <th>APPLICATION_NUMBER</th>\n",
       "      <th>TARGET</th>\n",
       "      <th>NAME_CONTRACT_TYPE</th>\n",
       "      <th>is_client_info</th>\n",
       "    </tr>\n",
       "  </thead>\n",
       "  <tbody>\n",
       "    <tr>\n",
       "      <th>0</th>\n",
       "      <td>123687442</td>\n",
       "      <td>0</td>\n",
       "      <td>Cash</td>\n",
       "      <td>1</td>\n",
       "    </tr>\n",
       "    <tr>\n",
       "      <th>1</th>\n",
       "      <td>123597908</td>\n",
       "      <td>1</td>\n",
       "      <td>Cash</td>\n",
       "      <td>0</td>\n",
       "    </tr>\n",
       "    <tr>\n",
       "      <th>2</th>\n",
       "      <td>123526683</td>\n",
       "      <td>0</td>\n",
       "      <td>Cash</td>\n",
       "      <td>1</td>\n",
       "    </tr>\n",
       "    <tr>\n",
       "      <th>3</th>\n",
       "      <td>123710391</td>\n",
       "      <td>1</td>\n",
       "      <td>Cash</td>\n",
       "      <td>1</td>\n",
       "    </tr>\n",
       "    <tr>\n",
       "      <th>4</th>\n",
       "      <td>123590329</td>\n",
       "      <td>1</td>\n",
       "      <td>Cash</td>\n",
       "      <td>0</td>\n",
       "    </tr>\n",
       "    <tr>\n",
       "      <th>...</th>\n",
       "      <td>...</td>\n",
       "      <td>...</td>\n",
       "      <td>...</td>\n",
       "      <td>...</td>\n",
       "    </tr>\n",
       "    <tr>\n",
       "      <th>110088</th>\n",
       "      <td>123458312</td>\n",
       "      <td>0</td>\n",
       "      <td>Cash</td>\n",
       "      <td>0</td>\n",
       "    </tr>\n",
       "    <tr>\n",
       "      <th>110089</th>\n",
       "      <td>123672463</td>\n",
       "      <td>0</td>\n",
       "      <td>Cash</td>\n",
       "      <td>1</td>\n",
       "    </tr>\n",
       "    <tr>\n",
       "      <th>110090</th>\n",
       "      <td>123723001</td>\n",
       "      <td>0</td>\n",
       "      <td>Cash</td>\n",
       "      <td>0</td>\n",
       "    </tr>\n",
       "    <tr>\n",
       "      <th>110091</th>\n",
       "      <td>123554358</td>\n",
       "      <td>0</td>\n",
       "      <td>Cash</td>\n",
       "      <td>1</td>\n",
       "    </tr>\n",
       "    <tr>\n",
       "      <th>110092</th>\n",
       "      <td>123676265</td>\n",
       "      <td>0</td>\n",
       "      <td>Credit Card</td>\n",
       "      <td>1</td>\n",
       "    </tr>\n",
       "  </tbody>\n",
       "</table>\n",
       "<p>110093 rows × 4 columns</p>\n",
       "</div>"
      ],
      "text/plain": [
       "        APPLICATION_NUMBER  TARGET NAME_CONTRACT_TYPE  is_client_info\n",
       "0                123687442       0               Cash               1\n",
       "1                123597908       1               Cash               0\n",
       "2                123526683       0               Cash               1\n",
       "3                123710391       1               Cash               1\n",
       "4                123590329       1               Cash               0\n",
       "...                    ...     ...                ...             ...\n",
       "110088           123458312       0               Cash               0\n",
       "110089           123672463       0               Cash               1\n",
       "110090           123723001       0               Cash               0\n",
       "110091           123554358       0               Cash               1\n",
       "110092           123676265       0        Credit Card               1\n",
       "\n",
       "[110093 rows x 4 columns]"
      ]
     },
     "execution_count": 23,
     "metadata": {},
     "output_type": "execute_result"
    }
   ],
   "source": [
    "train"
   ]
  },
  {
   "cell_type": "code",
   "execution_count": 24,
   "metadata": {},
   "outputs": [
    {
     "data": {
      "text/html": [
       "<div>\n",
       "<style scoped>\n",
       "    .dataframe tbody tr th:only-of-type {\n",
       "        vertical-align: middle;\n",
       "    }\n",
       "\n",
       "    .dataframe tbody tr th {\n",
       "        vertical-align: top;\n",
       "    }\n",
       "\n",
       "    .dataframe thead th {\n",
       "        text-align: right;\n",
       "    }\n",
       "</style>\n",
       "<table border=\"1\" class=\"dataframe\">\n",
       "  <thead>\n",
       "    <tr style=\"text-align: right;\">\n",
       "      <th></th>\n",
       "      <th>APPLICATION_NUMBER</th>\n",
       "      <th>BUREAU_ID</th>\n",
       "      <th>CREDIT_ACTIVE</th>\n",
       "      <th>CREDIT_CURRENCY</th>\n",
       "      <th>DAYS_CREDIT</th>\n",
       "      <th>CREDIT_DAY_OVERDUE</th>\n",
       "      <th>DAYS_CREDIT_ENDDATE</th>\n",
       "      <th>DAYS_ENDDATE_FACT</th>\n",
       "      <th>AMT_CREDIT_MAX_OVERDUE</th>\n",
       "      <th>CNT_CREDIT_PROLONG</th>\n",
       "      <th>AMT_CREDIT_SUM</th>\n",
       "      <th>AMT_CREDIT_SUM_DEBT</th>\n",
       "      <th>AMT_CREDIT_SUM_LIMIT</th>\n",
       "      <th>AMT_CREDIT_SUM_OVERDUE</th>\n",
       "      <th>CREDIT_TYPE</th>\n",
       "      <th>DAYS_CREDIT_UPDATE</th>\n",
       "      <th>AMT_ANNUITY</th>\n",
       "    </tr>\n",
       "  </thead>\n",
       "  <tbody>\n",
       "    <tr>\n",
       "      <th>0</th>\n",
       "      <td>123538884</td>\n",
       "      <td>5223613</td>\n",
       "      <td>Active</td>\n",
       "      <td>currency 1</td>\n",
       "      <td>718.0</td>\n",
       "      <td>0</td>\n",
       "      <td>377.0</td>\n",
       "      <td>NaN</td>\n",
       "      <td>19386.810</td>\n",
       "      <td>0</td>\n",
       "      <td>675000.00</td>\n",
       "      <td>320265.495</td>\n",
       "      <td>0.0</td>\n",
       "      <td>0.0</td>\n",
       "      <td>Consumer credit</td>\n",
       "      <td>39.0</td>\n",
       "      <td>NaN</td>\n",
       "    </tr>\n",
       "    <tr>\n",
       "      <th>1</th>\n",
       "      <td>123436670</td>\n",
       "      <td>6207544</td>\n",
       "      <td>Closed</td>\n",
       "      <td>currency 1</td>\n",
       "      <td>696.0</td>\n",
       "      <td>0</td>\n",
       "      <td>511.0</td>\n",
       "      <td>511.0</td>\n",
       "      <td>0.000</td>\n",
       "      <td>0</td>\n",
       "      <td>93111.66</td>\n",
       "      <td>0.000</td>\n",
       "      <td>0.0</td>\n",
       "      <td>0.0</td>\n",
       "      <td>Consumer credit</td>\n",
       "      <td>505.0</td>\n",
       "      <td>NaN</td>\n",
       "    </tr>\n",
       "    <tr>\n",
       "      <th>2</th>\n",
       "      <td>123589020</td>\n",
       "      <td>6326395</td>\n",
       "      <td>Closed</td>\n",
       "      <td>currency 1</td>\n",
       "      <td>165.0</td>\n",
       "      <td>0</td>\n",
       "      <td>149.0</td>\n",
       "      <td>160.0</td>\n",
       "      <td>NaN</td>\n",
       "      <td>0</td>\n",
       "      <td>36000.00</td>\n",
       "      <td>0.000</td>\n",
       "      <td>0.0</td>\n",
       "      <td>0.0</td>\n",
       "      <td>Consumer credit</td>\n",
       "      <td>150.0</td>\n",
       "      <td>0.0</td>\n",
       "    </tr>\n",
       "    <tr>\n",
       "      <th>3</th>\n",
       "      <td>123494590</td>\n",
       "      <td>6606618</td>\n",
       "      <td>Active</td>\n",
       "      <td>currency 1</td>\n",
       "      <td>55.0</td>\n",
       "      <td>0</td>\n",
       "      <td>310.0</td>\n",
       "      <td>NaN</td>\n",
       "      <td>NaN</td>\n",
       "      <td>0</td>\n",
       "      <td>38664.00</td>\n",
       "      <td>37858.500</td>\n",
       "      <td>NaN</td>\n",
       "      <td>0.0</td>\n",
       "      <td>Consumer credit</td>\n",
       "      <td>15.0</td>\n",
       "      <td>NaN</td>\n",
       "    </tr>\n",
       "    <tr>\n",
       "      <th>4</th>\n",
       "      <td>123446603</td>\n",
       "      <td>5046832</td>\n",
       "      <td>Active</td>\n",
       "      <td>currency 1</td>\n",
       "      <td>358.0</td>\n",
       "      <td>0</td>\n",
       "      <td>35.0</td>\n",
       "      <td>NaN</td>\n",
       "      <td>NaN</td>\n",
       "      <td>0</td>\n",
       "      <td>67500.00</td>\n",
       "      <td>0.000</td>\n",
       "      <td>0.0</td>\n",
       "      <td>0.0</td>\n",
       "      <td>Credit card</td>\n",
       "      <td>116.0</td>\n",
       "      <td>NaN</td>\n",
       "    </tr>\n",
       "    <tr>\n",
       "      <th>...</th>\n",
       "      <td>...</td>\n",
       "      <td>...</td>\n",
       "      <td>...</td>\n",
       "      <td>...</td>\n",
       "      <td>...</td>\n",
       "      <td>...</td>\n",
       "      <td>...</td>\n",
       "      <td>...</td>\n",
       "      <td>...</td>\n",
       "      <td>...</td>\n",
       "      <td>...</td>\n",
       "      <td>...</td>\n",
       "      <td>...</td>\n",
       "      <td>...</td>\n",
       "      <td>...</td>\n",
       "      <td>...</td>\n",
       "      <td>...</td>\n",
       "    </tr>\n",
       "    <tr>\n",
       "      <th>945229</th>\n",
       "      <td>123673441</td>\n",
       "      <td>5235365</td>\n",
       "      <td>Closed</td>\n",
       "      <td>currency 1</td>\n",
       "      <td>2759.0</td>\n",
       "      <td>0</td>\n",
       "      <td>1298.0</td>\n",
       "      <td>1834.0</td>\n",
       "      <td>NaN</td>\n",
       "      <td>0</td>\n",
       "      <td>332725.50</td>\n",
       "      <td>0.000</td>\n",
       "      <td>NaN</td>\n",
       "      <td>0.0</td>\n",
       "      <td>Consumer credit</td>\n",
       "      <td>1707.0</td>\n",
       "      <td>NaN</td>\n",
       "    </tr>\n",
       "    <tr>\n",
       "      <th>945230</th>\n",
       "      <td>123539211</td>\n",
       "      <td>5899696</td>\n",
       "      <td>Active</td>\n",
       "      <td>currency 1</td>\n",
       "      <td>359.0</td>\n",
       "      <td>0</td>\n",
       "      <td>1467.0</td>\n",
       "      <td>NaN</td>\n",
       "      <td>NaN</td>\n",
       "      <td>0</td>\n",
       "      <td>1471500.00</td>\n",
       "      <td>1320183.000</td>\n",
       "      <td>0.0</td>\n",
       "      <td>0.0</td>\n",
       "      <td>Consumer credit</td>\n",
       "      <td>47.0</td>\n",
       "      <td>NaN</td>\n",
       "    </tr>\n",
       "    <tr>\n",
       "      <th>945231</th>\n",
       "      <td>123686333</td>\n",
       "      <td>5445504</td>\n",
       "      <td>Closed</td>\n",
       "      <td>currency 1</td>\n",
       "      <td>1102.0</td>\n",
       "      <td>0</td>\n",
       "      <td>725.0</td>\n",
       "      <td>370.0</td>\n",
       "      <td>NaN</td>\n",
       "      <td>0</td>\n",
       "      <td>112500.00</td>\n",
       "      <td>0.000</td>\n",
       "      <td>0.0</td>\n",
       "      <td>0.0</td>\n",
       "      <td>Consumer credit</td>\n",
       "      <td>233.0</td>\n",
       "      <td>NaN</td>\n",
       "    </tr>\n",
       "    <tr>\n",
       "      <th>945232</th>\n",
       "      <td>123508200</td>\n",
       "      <td>6679628</td>\n",
       "      <td>Active</td>\n",
       "      <td>currency 1</td>\n",
       "      <td>1579.0</td>\n",
       "      <td>0</td>\n",
       "      <td>2085.0</td>\n",
       "      <td>NaN</td>\n",
       "      <td>2339.955</td>\n",
       "      <td>0</td>\n",
       "      <td>108000.00</td>\n",
       "      <td>0.000</td>\n",
       "      <td>0.0</td>\n",
       "      <td>0.0</td>\n",
       "      <td>Credit card</td>\n",
       "      <td>16.0</td>\n",
       "      <td>NaN</td>\n",
       "    </tr>\n",
       "    <tr>\n",
       "      <th>945233</th>\n",
       "      <td>123616774</td>\n",
       "      <td>6037196</td>\n",
       "      <td>Closed</td>\n",
       "      <td>currency 1</td>\n",
       "      <td>1240.0</td>\n",
       "      <td>0</td>\n",
       "      <td>1127.0</td>\n",
       "      <td>1126.0</td>\n",
       "      <td>NaN</td>\n",
       "      <td>0</td>\n",
       "      <td>74250.00</td>\n",
       "      <td>0.000</td>\n",
       "      <td>NaN</td>\n",
       "      <td>0.0</td>\n",
       "      <td>Consumer credit</td>\n",
       "      <td>1012.0</td>\n",
       "      <td>0.0</td>\n",
       "    </tr>\n",
       "  </tbody>\n",
       "</table>\n",
       "<p>945234 rows × 17 columns</p>\n",
       "</div>"
      ],
      "text/plain": [
       "        APPLICATION_NUMBER  BUREAU_ID CREDIT_ACTIVE CREDIT_CURRENCY  \\\n",
       "0                123538884    5223613        Active      currency 1   \n",
       "1                123436670    6207544        Closed      currency 1   \n",
       "2                123589020    6326395        Closed      currency 1   \n",
       "3                123494590    6606618        Active      currency 1   \n",
       "4                123446603    5046832        Active      currency 1   \n",
       "...                    ...        ...           ...             ...   \n",
       "945229           123673441    5235365        Closed      currency 1   \n",
       "945230           123539211    5899696        Active      currency 1   \n",
       "945231           123686333    5445504        Closed      currency 1   \n",
       "945232           123508200    6679628        Active      currency 1   \n",
       "945233           123616774    6037196        Closed      currency 1   \n",
       "\n",
       "        DAYS_CREDIT  CREDIT_DAY_OVERDUE  DAYS_CREDIT_ENDDATE  \\\n",
       "0             718.0                   0                377.0   \n",
       "1             696.0                   0                511.0   \n",
       "2             165.0                   0                149.0   \n",
       "3              55.0                   0                310.0   \n",
       "4             358.0                   0                 35.0   \n",
       "...             ...                 ...                  ...   \n",
       "945229       2759.0                   0               1298.0   \n",
       "945230        359.0                   0               1467.0   \n",
       "945231       1102.0                   0                725.0   \n",
       "945232       1579.0                   0               2085.0   \n",
       "945233       1240.0                   0               1127.0   \n",
       "\n",
       "        DAYS_ENDDATE_FACT  AMT_CREDIT_MAX_OVERDUE  CNT_CREDIT_PROLONG  \\\n",
       "0                     NaN               19386.810                   0   \n",
       "1                   511.0                   0.000                   0   \n",
       "2                   160.0                     NaN                   0   \n",
       "3                     NaN                     NaN                   0   \n",
       "4                     NaN                     NaN                   0   \n",
       "...                   ...                     ...                 ...   \n",
       "945229             1834.0                     NaN                   0   \n",
       "945230                NaN                     NaN                   0   \n",
       "945231              370.0                     NaN                   0   \n",
       "945232                NaN                2339.955                   0   \n",
       "945233             1126.0                     NaN                   0   \n",
       "\n",
       "        AMT_CREDIT_SUM  AMT_CREDIT_SUM_DEBT  AMT_CREDIT_SUM_LIMIT  \\\n",
       "0            675000.00           320265.495                   0.0   \n",
       "1             93111.66                0.000                   0.0   \n",
       "2             36000.00                0.000                   0.0   \n",
       "3             38664.00            37858.500                   NaN   \n",
       "4             67500.00                0.000                   0.0   \n",
       "...                ...                  ...                   ...   \n",
       "945229       332725.50                0.000                   NaN   \n",
       "945230      1471500.00          1320183.000                   0.0   \n",
       "945231       112500.00                0.000                   0.0   \n",
       "945232       108000.00                0.000                   0.0   \n",
       "945233        74250.00                0.000                   NaN   \n",
       "\n",
       "        AMT_CREDIT_SUM_OVERDUE      CREDIT_TYPE  DAYS_CREDIT_UPDATE  \\\n",
       "0                          0.0  Consumer credit                39.0   \n",
       "1                          0.0  Consumer credit               505.0   \n",
       "2                          0.0  Consumer credit               150.0   \n",
       "3                          0.0  Consumer credit                15.0   \n",
       "4                          0.0      Credit card               116.0   \n",
       "...                        ...              ...                 ...   \n",
       "945229                     0.0  Consumer credit              1707.0   \n",
       "945230                     0.0  Consumer credit                47.0   \n",
       "945231                     0.0  Consumer credit               233.0   \n",
       "945232                     0.0      Credit card                16.0   \n",
       "945233                     0.0  Consumer credit              1012.0   \n",
       "\n",
       "        AMT_ANNUITY  \n",
       "0               NaN  \n",
       "1               NaN  \n",
       "2               0.0  \n",
       "3               NaN  \n",
       "4               NaN  \n",
       "...             ...  \n",
       "945229          NaN  \n",
       "945230          NaN  \n",
       "945231          NaN  \n",
       "945232          NaN  \n",
       "945233          0.0  \n",
       "\n",
       "[945234 rows x 17 columns]"
      ]
     },
     "execution_count": 24,
     "metadata": {},
     "output_type": "execute_result"
    }
   ],
   "source": [
    "bki = pd.read_csv(patch_bki)\n",
    "bki"
   ]
  },
  {
   "cell_type": "code",
   "execution_count": 25,
   "metadata": {},
   "outputs": [
    {
     "name": "stdout",
     "output_type": "stream",
     "text": [
      "<class 'pandas.core.frame.DataFrame'>\n",
      "RangeIndex: 945234 entries, 0 to 945233\n",
      "Data columns (total 17 columns):\n",
      " #   Column                  Non-Null Count   Dtype  \n",
      "---  ------                  --------------   -----  \n",
      " 0   APPLICATION_NUMBER      945234 non-null  int64  \n",
      " 1   BUREAU_ID               945234 non-null  int64  \n",
      " 2   CREDIT_ACTIVE           945234 non-null  object \n",
      " 3   CREDIT_CURRENCY         945234 non-null  object \n",
      " 4   DAYS_CREDIT             945234 non-null  float64\n",
      " 5   CREDIT_DAY_OVERDUE      945234 non-null  int64  \n",
      " 6   DAYS_CREDIT_ENDDATE     886797 non-null  float64\n",
      " 7   DAYS_ENDDATE_FACT       596274 non-null  float64\n",
      " 8   AMT_CREDIT_MAX_OVERDUE  326557 non-null  float64\n",
      " 9   CNT_CREDIT_PROLONG      945234 non-null  int64  \n",
      " 10  AMT_CREDIT_SUM          945229 non-null  float64\n",
      " 11  AMT_CREDIT_SUM_DEBT     803483 non-null  float64\n",
      " 12  AMT_CREDIT_SUM_LIMIT    619267 non-null  float64\n",
      " 13  AMT_CREDIT_SUM_OVERDUE  945234 non-null  float64\n",
      " 14  CREDIT_TYPE             945234 non-null  object \n",
      " 15  DAYS_CREDIT_UPDATE      945234 non-null  float64\n",
      " 16  AMT_ANNUITY             269330 non-null  float64\n",
      "dtypes: float64(10), int64(4), object(3)\n",
      "memory usage: 122.6+ MB\n"
     ]
    }
   ],
   "source": [
    "bki.info()"
   ]
  },
  {
   "cell_type": "code",
   "execution_count": 26,
   "metadata": {},
   "outputs": [
    {
     "data": {
      "text/plain": [
       "877092"
      ]
     },
     "execution_count": 26,
     "metadata": {},
     "output_type": "execute_result"
    }
   ],
   "source": [
    "sum(bki.APPLICATION_NUMBER.duplicated(keep=False))"
   ]
  },
  {
   "cell_type": "markdown",
   "metadata": {},
   "source": [
    "Как видно из 945 234 заявок - 877092 повторяются"
   ]
  },
  {
   "cell_type": "markdown",
   "metadata": {},
   "source": [
    "Уникальных заявок"
   ]
  },
  {
   "cell_type": "code",
   "execution_count": 27,
   "metadata": {},
   "outputs": [
    {
     "data": {
      "text/plain": [
       "273131"
      ]
     },
     "execution_count": 27,
     "metadata": {},
     "output_type": "execute_result"
    }
   ],
   "source": [
    "bki.APPLICATION_NUMBER.nunique()"
   ]
  },
  {
   "cell_type": "code",
   "execution_count": 28,
   "metadata": {},
   "outputs": [
    {
     "data": {
      "text/plain": [
       "123444199    63\n",
       "123493043    51\n",
       "123641404    50\n",
       "123603494    39\n",
       "123574982    36\n",
       "123604794    36\n",
       "123543964    35\n",
       "123648693    34\n",
       "123718325    33\n",
       "123541514    32\n",
       "123748735    32\n",
       "123753600    32\n",
       "123568901    31\n",
       "123665184    31\n",
       "123603381    31\n",
       "123708472    30\n",
       "123619148    29\n",
       "123758609    29\n",
       "123700006    29\n",
       "123732165    29\n",
       "123699638    29\n",
       "123577547    28\n",
       "123628296    28\n",
       "123652611    28\n",
       "123533986    28\n",
       "Name: APPLICATION_NUMBER, dtype: int64"
      ]
     },
     "execution_count": 28,
     "metadata": {},
     "output_type": "execute_result"
    }
   ],
   "source": [
    "bki.APPLICATION_NUMBER.value_counts().head(25)"
   ]
  },
  {
   "cell_type": "markdown",
   "metadata": {},
   "source": [
    "Посмотрим максимально повторяющуюся заявку с 63 записями из бюро кредитных историй"
   ]
  },
  {
   "cell_type": "code",
   "execution_count": 29,
   "metadata": {},
   "outputs": [
    {
     "data": {
      "text/html": [
       "<div>\n",
       "<style scoped>\n",
       "    .dataframe tbody tr th:only-of-type {\n",
       "        vertical-align: middle;\n",
       "    }\n",
       "\n",
       "    .dataframe tbody tr th {\n",
       "        vertical-align: top;\n",
       "    }\n",
       "\n",
       "    .dataframe thead th {\n",
       "        text-align: right;\n",
       "    }\n",
       "</style>\n",
       "<table border=\"1\" class=\"dataframe\">\n",
       "  <thead>\n",
       "    <tr style=\"text-align: right;\">\n",
       "      <th></th>\n",
       "      <th>APPLICATION_NUMBER</th>\n",
       "      <th>BUREAU_ID</th>\n",
       "      <th>CREDIT_ACTIVE</th>\n",
       "      <th>CREDIT_CURRENCY</th>\n",
       "      <th>DAYS_CREDIT</th>\n",
       "      <th>CREDIT_DAY_OVERDUE</th>\n",
       "      <th>DAYS_CREDIT_ENDDATE</th>\n",
       "      <th>DAYS_ENDDATE_FACT</th>\n",
       "      <th>AMT_CREDIT_MAX_OVERDUE</th>\n",
       "      <th>CNT_CREDIT_PROLONG</th>\n",
       "      <th>AMT_CREDIT_SUM</th>\n",
       "      <th>AMT_CREDIT_SUM_DEBT</th>\n",
       "      <th>AMT_CREDIT_SUM_LIMIT</th>\n",
       "      <th>AMT_CREDIT_SUM_OVERDUE</th>\n",
       "      <th>CREDIT_TYPE</th>\n",
       "      <th>DAYS_CREDIT_UPDATE</th>\n",
       "      <th>AMT_ANNUITY</th>\n",
       "    </tr>\n",
       "  </thead>\n",
       "  <tbody>\n",
       "    <tr>\n",
       "      <th>13351</th>\n",
       "      <td>123444199</td>\n",
       "      <td>6867146</td>\n",
       "      <td>Closed</td>\n",
       "      <td>currency 1</td>\n",
       "      <td>221.0</td>\n",
       "      <td>0</td>\n",
       "      <td>210.0</td>\n",
       "      <td>217.0</td>\n",
       "      <td>NaN</td>\n",
       "      <td>0</td>\n",
       "      <td>23400.0</td>\n",
       "      <td>0.00</td>\n",
       "      <td>NaN</td>\n",
       "      <td>0.0</td>\n",
       "      <td>Microloan</td>\n",
       "      <td>199.0</td>\n",
       "      <td>0.0</td>\n",
       "    </tr>\n",
       "    <tr>\n",
       "      <th>22605</th>\n",
       "      <td>123444199</td>\n",
       "      <td>6838810</td>\n",
       "      <td>Closed</td>\n",
       "      <td>currency 1</td>\n",
       "      <td>35.0</td>\n",
       "      <td>0</td>\n",
       "      <td>15.0</td>\n",
       "      <td>33.0</td>\n",
       "      <td>NaN</td>\n",
       "      <td>0</td>\n",
       "      <td>18900.0</td>\n",
       "      <td>0.00</td>\n",
       "      <td>NaN</td>\n",
       "      <td>0.0</td>\n",
       "      <td>Microloan</td>\n",
       "      <td>14.0</td>\n",
       "      <td>0.0</td>\n",
       "    </tr>\n",
       "    <tr>\n",
       "      <th>23775</th>\n",
       "      <td>123444199</td>\n",
       "      <td>6809390</td>\n",
       "      <td>Closed</td>\n",
       "      <td>currency 1</td>\n",
       "      <td>385.0</td>\n",
       "      <td>0</td>\n",
       "      <td>364.0</td>\n",
       "      <td>375.0</td>\n",
       "      <td>0.0</td>\n",
       "      <td>0</td>\n",
       "      <td>18000.0</td>\n",
       "      <td>0.00</td>\n",
       "      <td>0.00</td>\n",
       "      <td>0.0</td>\n",
       "      <td>Microloan</td>\n",
       "      <td>370.0</td>\n",
       "      <td>0.0</td>\n",
       "    </tr>\n",
       "    <tr>\n",
       "      <th>60695</th>\n",
       "      <td>123444199</td>\n",
       "      <td>6876163</td>\n",
       "      <td>Closed</td>\n",
       "      <td>currency 1</td>\n",
       "      <td>148.0</td>\n",
       "      <td>0</td>\n",
       "      <td>139.0</td>\n",
       "      <td>139.0</td>\n",
       "      <td>NaN</td>\n",
       "      <td>0</td>\n",
       "      <td>31500.0</td>\n",
       "      <td>0.00</td>\n",
       "      <td>NaN</td>\n",
       "      <td>0.0</td>\n",
       "      <td>Microloan</td>\n",
       "      <td>0.0</td>\n",
       "      <td>0.0</td>\n",
       "    </tr>\n",
       "    <tr>\n",
       "      <th>108977</th>\n",
       "      <td>123444199</td>\n",
       "      <td>6858817</td>\n",
       "      <td>Closed</td>\n",
       "      <td>currency 1</td>\n",
       "      <td>314.0</td>\n",
       "      <td>0</td>\n",
       "      <td>294.0</td>\n",
       "      <td>300.0</td>\n",
       "      <td>NaN</td>\n",
       "      <td>0</td>\n",
       "      <td>49500.0</td>\n",
       "      <td>0.00</td>\n",
       "      <td>NaN</td>\n",
       "      <td>0.0</td>\n",
       "      <td>Microloan</td>\n",
       "      <td>284.0</td>\n",
       "      <td>0.0</td>\n",
       "    </tr>\n",
       "    <tr>\n",
       "      <th>...</th>\n",
       "      <td>...</td>\n",
       "      <td>...</td>\n",
       "      <td>...</td>\n",
       "      <td>...</td>\n",
       "      <td>...</td>\n",
       "      <td>...</td>\n",
       "      <td>...</td>\n",
       "      <td>...</td>\n",
       "      <td>...</td>\n",
       "      <td>...</td>\n",
       "      <td>...</td>\n",
       "      <td>...</td>\n",
       "      <td>...</td>\n",
       "      <td>...</td>\n",
       "      <td>...</td>\n",
       "      <td>...</td>\n",
       "      <td>...</td>\n",
       "    </tr>\n",
       "    <tr>\n",
       "      <th>829178</th>\n",
       "      <td>123444199</td>\n",
       "      <td>6883034</td>\n",
       "      <td>Active</td>\n",
       "      <td>currency 1</td>\n",
       "      <td>768.0</td>\n",
       "      <td>0</td>\n",
       "      <td>1059.0</td>\n",
       "      <td>NaN</td>\n",
       "      <td>NaN</td>\n",
       "      <td>0</td>\n",
       "      <td>495000.0</td>\n",
       "      <td>8087.58</td>\n",
       "      <td>486912.42</td>\n",
       "      <td>0.0</td>\n",
       "      <td>Credit card</td>\n",
       "      <td>56.0</td>\n",
       "      <td>NaN</td>\n",
       "    </tr>\n",
       "    <tr>\n",
       "      <th>851540</th>\n",
       "      <td>123444199</td>\n",
       "      <td>6885992</td>\n",
       "      <td>Closed</td>\n",
       "      <td>currency 1</td>\n",
       "      <td>315.0</td>\n",
       "      <td>0</td>\n",
       "      <td>300.0</td>\n",
       "      <td>315.0</td>\n",
       "      <td>NaN</td>\n",
       "      <td>0</td>\n",
       "      <td>42750.0</td>\n",
       "      <td>0.00</td>\n",
       "      <td>NaN</td>\n",
       "      <td>0.0</td>\n",
       "      <td>Microloan</td>\n",
       "      <td>299.0</td>\n",
       "      <td>0.0</td>\n",
       "    </tr>\n",
       "    <tr>\n",
       "      <th>871239</th>\n",
       "      <td>123444199</td>\n",
       "      <td>6897991</td>\n",
       "      <td>Closed</td>\n",
       "      <td>currency 1</td>\n",
       "      <td>253.0</td>\n",
       "      <td>0</td>\n",
       "      <td>244.0</td>\n",
       "      <td>244.0</td>\n",
       "      <td>0.0</td>\n",
       "      <td>0</td>\n",
       "      <td>45000.0</td>\n",
       "      <td>0.00</td>\n",
       "      <td>0.00</td>\n",
       "      <td>0.0</td>\n",
       "      <td>Microloan</td>\n",
       "      <td>242.0</td>\n",
       "      <td>0.0</td>\n",
       "    </tr>\n",
       "    <tr>\n",
       "      <th>898236</th>\n",
       "      <td>123444199</td>\n",
       "      <td>6876234</td>\n",
       "      <td>Closed</td>\n",
       "      <td>currency 1</td>\n",
       "      <td>427.0</td>\n",
       "      <td>0</td>\n",
       "      <td>409.0</td>\n",
       "      <td>409.0</td>\n",
       "      <td>0.0</td>\n",
       "      <td>0</td>\n",
       "      <td>22500.0</td>\n",
       "      <td>0.00</td>\n",
       "      <td>0.00</td>\n",
       "      <td>0.0</td>\n",
       "      <td>Microloan</td>\n",
       "      <td>337.0</td>\n",
       "      <td>67500.0</td>\n",
       "    </tr>\n",
       "    <tr>\n",
       "      <th>928816</th>\n",
       "      <td>123444199</td>\n",
       "      <td>6831236</td>\n",
       "      <td>Closed</td>\n",
       "      <td>currency 1</td>\n",
       "      <td>1014.0</td>\n",
       "      <td>0</td>\n",
       "      <td>362.0</td>\n",
       "      <td>362.0</td>\n",
       "      <td>NaN</td>\n",
       "      <td>0</td>\n",
       "      <td>170640.0</td>\n",
       "      <td>0.00</td>\n",
       "      <td>NaN</td>\n",
       "      <td>0.0</td>\n",
       "      <td>Consumer credit</td>\n",
       "      <td>267.0</td>\n",
       "      <td>2434.5</td>\n",
       "    </tr>\n",
       "  </tbody>\n",
       "</table>\n",
       "<p>63 rows × 17 columns</p>\n",
       "</div>"
      ],
      "text/plain": [
       "        APPLICATION_NUMBER  BUREAU_ID CREDIT_ACTIVE CREDIT_CURRENCY  \\\n",
       "13351            123444199    6867146        Closed      currency 1   \n",
       "22605            123444199    6838810        Closed      currency 1   \n",
       "23775            123444199    6809390        Closed      currency 1   \n",
       "60695            123444199    6876163        Closed      currency 1   \n",
       "108977           123444199    6858817        Closed      currency 1   \n",
       "...                    ...        ...           ...             ...   \n",
       "829178           123444199    6883034        Active      currency 1   \n",
       "851540           123444199    6885992        Closed      currency 1   \n",
       "871239           123444199    6897991        Closed      currency 1   \n",
       "898236           123444199    6876234        Closed      currency 1   \n",
       "928816           123444199    6831236        Closed      currency 1   \n",
       "\n",
       "        DAYS_CREDIT  CREDIT_DAY_OVERDUE  DAYS_CREDIT_ENDDATE  \\\n",
       "13351         221.0                   0                210.0   \n",
       "22605          35.0                   0                 15.0   \n",
       "23775         385.0                   0                364.0   \n",
       "60695         148.0                   0                139.0   \n",
       "108977        314.0                   0                294.0   \n",
       "...             ...                 ...                  ...   \n",
       "829178        768.0                   0               1059.0   \n",
       "851540        315.0                   0                300.0   \n",
       "871239        253.0                   0                244.0   \n",
       "898236        427.0                   0                409.0   \n",
       "928816       1014.0                   0                362.0   \n",
       "\n",
       "        DAYS_ENDDATE_FACT  AMT_CREDIT_MAX_OVERDUE  CNT_CREDIT_PROLONG  \\\n",
       "13351               217.0                     NaN                   0   \n",
       "22605                33.0                     NaN                   0   \n",
       "23775               375.0                     0.0                   0   \n",
       "60695               139.0                     NaN                   0   \n",
       "108977              300.0                     NaN                   0   \n",
       "...                   ...                     ...                 ...   \n",
       "829178                NaN                     NaN                   0   \n",
       "851540              315.0                     NaN                   0   \n",
       "871239              244.0                     0.0                   0   \n",
       "898236              409.0                     0.0                   0   \n",
       "928816              362.0                     NaN                   0   \n",
       "\n",
       "        AMT_CREDIT_SUM  AMT_CREDIT_SUM_DEBT  AMT_CREDIT_SUM_LIMIT  \\\n",
       "13351          23400.0                 0.00                   NaN   \n",
       "22605          18900.0                 0.00                   NaN   \n",
       "23775          18000.0                 0.00                  0.00   \n",
       "60695          31500.0                 0.00                   NaN   \n",
       "108977         49500.0                 0.00                   NaN   \n",
       "...                ...                  ...                   ...   \n",
       "829178        495000.0              8087.58             486912.42   \n",
       "851540         42750.0                 0.00                   NaN   \n",
       "871239         45000.0                 0.00                  0.00   \n",
       "898236         22500.0                 0.00                  0.00   \n",
       "928816        170640.0                 0.00                   NaN   \n",
       "\n",
       "        AMT_CREDIT_SUM_OVERDUE      CREDIT_TYPE  DAYS_CREDIT_UPDATE  \\\n",
       "13351                      0.0        Microloan               199.0   \n",
       "22605                      0.0        Microloan                14.0   \n",
       "23775                      0.0        Microloan               370.0   \n",
       "60695                      0.0        Microloan                 0.0   \n",
       "108977                     0.0        Microloan               284.0   \n",
       "...                        ...              ...                 ...   \n",
       "829178                     0.0      Credit card                56.0   \n",
       "851540                     0.0        Microloan               299.0   \n",
       "871239                     0.0        Microloan               242.0   \n",
       "898236                     0.0        Microloan               337.0   \n",
       "928816                     0.0  Consumer credit               267.0   \n",
       "\n",
       "        AMT_ANNUITY  \n",
       "13351           0.0  \n",
       "22605           0.0  \n",
       "23775           0.0  \n",
       "60695           0.0  \n",
       "108977          0.0  \n",
       "...             ...  \n",
       "829178          NaN  \n",
       "851540          0.0  \n",
       "871239          0.0  \n",
       "898236      67500.0  \n",
       "928816       2434.5  \n",
       "\n",
       "[63 rows x 17 columns]"
      ]
     },
     "execution_count": 29,
     "metadata": {},
     "output_type": "execute_result"
    }
   ],
   "source": [
    "bki[bki.APPLICATION_NUMBER==123444199]"
   ]
  },
  {
   "cell_type": "code",
   "execution_count": 30,
   "metadata": {},
   "outputs": [
    {
     "data": {
      "text/plain": [
       "6867146    1\n",
       "6804488    1\n",
       "6832096    1\n",
       "5114367    1\n",
       "6839868    1\n",
       "          ..\n",
       "6847810    1\n",
       "6844249    1\n",
       "6824815    1\n",
       "6895163    1\n",
       "6831236    1\n",
       "Name: BUREAU_ID, Length: 63, dtype: int64"
      ]
     },
     "execution_count": 30,
     "metadata": {},
     "output_type": "execute_result"
    }
   ],
   "source": [
    "bki[bki.APPLICATION_NUMBER==123444199].BUREAU_ID.value_counts()"
   ]
  },
  {
   "cell_type": "markdown",
   "metadata": {},
   "source": [
    "не смотря на то, что 63 записи  - из бюро по заявке, все завписи уникальны"
   ]
  },
  {
   "cell_type": "markdown",
   "metadata": {},
   "source": [
    "посмотрим уникальность ключа APPLICATION_NUMBER + BUREAU_ID , по иде это должен быть уникальный ключ таблицы"
   ]
  },
  {
   "cell_type": "code",
   "execution_count": 31,
   "metadata": {},
   "outputs": [
    {
     "data": {
      "text/plain": [
       "28"
      ]
     },
     "execution_count": 31,
     "metadata": {},
     "output_type": "execute_result"
    }
   ],
   "source": [
    "sum(bki[['APPLICATION_NUMBER','BUREAU_ID']].duplicated(keep=False))"
   ]
  },
  {
   "cell_type": "markdown",
   "metadata": {},
   "source": [
    "Как видно 28 записей имееют одинаковый номер заявки и запись из бюро"
   ]
  },
  {
   "cell_type": "code",
   "execution_count": 32,
   "metadata": {},
   "outputs": [
    {
     "data": {
      "text/html": [
       "<div>\n",
       "<style scoped>\n",
       "    .dataframe tbody tr th:only-of-type {\n",
       "        vertical-align: middle;\n",
       "    }\n",
       "\n",
       "    .dataframe tbody tr th {\n",
       "        vertical-align: top;\n",
       "    }\n",
       "\n",
       "    .dataframe thead th {\n",
       "        text-align: right;\n",
       "    }\n",
       "</style>\n",
       "<table border=\"1\" class=\"dataframe\">\n",
       "  <thead>\n",
       "    <tr style=\"text-align: right;\">\n",
       "      <th></th>\n",
       "      <th>APPLICATION_NUMBER</th>\n",
       "      <th>BUREAU_ID</th>\n",
       "      <th>CREDIT_ACTIVE</th>\n",
       "      <th>CREDIT_CURRENCY</th>\n",
       "      <th>DAYS_CREDIT</th>\n",
       "      <th>CREDIT_DAY_OVERDUE</th>\n",
       "      <th>DAYS_CREDIT_ENDDATE</th>\n",
       "      <th>DAYS_ENDDATE_FACT</th>\n",
       "      <th>AMT_CREDIT_MAX_OVERDUE</th>\n",
       "      <th>CNT_CREDIT_PROLONG</th>\n",
       "      <th>AMT_CREDIT_SUM</th>\n",
       "      <th>AMT_CREDIT_SUM_DEBT</th>\n",
       "      <th>AMT_CREDIT_SUM_LIMIT</th>\n",
       "      <th>AMT_CREDIT_SUM_OVERDUE</th>\n",
       "      <th>CREDIT_TYPE</th>\n",
       "      <th>DAYS_CREDIT_UPDATE</th>\n",
       "      <th>AMT_ANNUITY</th>\n",
       "    </tr>\n",
       "  </thead>\n",
       "  <tbody>\n",
       "    <tr>\n",
       "      <th>18373</th>\n",
       "      <td>123736638</td>\n",
       "      <td>6234312</td>\n",
       "      <td>Closed</td>\n",
       "      <td>currency 1</td>\n",
       "      <td>1235.0</td>\n",
       "      <td>0</td>\n",
       "      <td>885.0</td>\n",
       "      <td>1039.0</td>\n",
       "      <td>NaN</td>\n",
       "      <td>0</td>\n",
       "      <td>52861.5</td>\n",
       "      <td>0.0</td>\n",
       "      <td>0.0</td>\n",
       "      <td>0.0</td>\n",
       "      <td>Consumer credit</td>\n",
       "      <td>1022.0</td>\n",
       "      <td>5359.5</td>\n",
       "    </tr>\n",
       "    <tr>\n",
       "      <th>31486</th>\n",
       "      <td>123769092</td>\n",
       "      <td>6483553</td>\n",
       "      <td>Closed</td>\n",
       "      <td>currency 1</td>\n",
       "      <td>1055.0</td>\n",
       "      <td>0</td>\n",
       "      <td>325.0</td>\n",
       "      <td>325.0</td>\n",
       "      <td>43056.0</td>\n",
       "      <td>0</td>\n",
       "      <td>900000.0</td>\n",
       "      <td>0.0</td>\n",
       "      <td>0.0</td>\n",
       "      <td>0.0</td>\n",
       "      <td>Consumer credit</td>\n",
       "      <td>325.0</td>\n",
       "      <td>0.0</td>\n",
       "    </tr>\n",
       "    <tr>\n",
       "      <th>70642</th>\n",
       "      <td>123546507</td>\n",
       "      <td>6690286</td>\n",
       "      <td>Active</td>\n",
       "      <td>currency 1</td>\n",
       "      <td>375.0</td>\n",
       "      <td>0</td>\n",
       "      <td>1451.0</td>\n",
       "      <td>NaN</td>\n",
       "      <td>0.0</td>\n",
       "      <td>0</td>\n",
       "      <td>344389.5</td>\n",
       "      <td>245682.0</td>\n",
       "      <td>0.0</td>\n",
       "      <td>0.0</td>\n",
       "      <td>Consumer credit</td>\n",
       "      <td>10.0</td>\n",
       "      <td>NaN</td>\n",
       "    </tr>\n",
       "    <tr>\n",
       "      <th>102496</th>\n",
       "      <td>123546507</td>\n",
       "      <td>6690286</td>\n",
       "      <td>Closed</td>\n",
       "      <td>currency 1</td>\n",
       "      <td>1035.0</td>\n",
       "      <td>0</td>\n",
       "      <td>822.0</td>\n",
       "      <td>853.0</td>\n",
       "      <td>0.0</td>\n",
       "      <td>0</td>\n",
       "      <td>36784.8</td>\n",
       "      <td>0.0</td>\n",
       "      <td>0.0</td>\n",
       "      <td>0.0</td>\n",
       "      <td>Consumer credit</td>\n",
       "      <td>853.0</td>\n",
       "      <td>NaN</td>\n",
       "    </tr>\n",
       "    <tr>\n",
       "      <th>158248</th>\n",
       "      <td>123736638</td>\n",
       "      <td>6234312</td>\n",
       "      <td>Closed</td>\n",
       "      <td>currency 1</td>\n",
       "      <td>2047.0</td>\n",
       "      <td>0</td>\n",
       "      <td>12630.0</td>\n",
       "      <td>395.0</td>\n",
       "      <td>NaN</td>\n",
       "      <td>0</td>\n",
       "      <td>495000.0</td>\n",
       "      <td>0.0</td>\n",
       "      <td>NaN</td>\n",
       "      <td>0.0</td>\n",
       "      <td>Credit card</td>\n",
       "      <td>395.0</td>\n",
       "      <td>0.0</td>\n",
       "    </tr>\n",
       "  </tbody>\n",
       "</table>\n",
       "</div>"
      ],
      "text/plain": [
       "        APPLICATION_NUMBER  BUREAU_ID CREDIT_ACTIVE CREDIT_CURRENCY  \\\n",
       "18373            123736638    6234312        Closed      currency 1   \n",
       "31486            123769092    6483553        Closed      currency 1   \n",
       "70642            123546507    6690286        Active      currency 1   \n",
       "102496           123546507    6690286        Closed      currency 1   \n",
       "158248           123736638    6234312        Closed      currency 1   \n",
       "\n",
       "        DAYS_CREDIT  CREDIT_DAY_OVERDUE  DAYS_CREDIT_ENDDATE  \\\n",
       "18373        1235.0                   0                885.0   \n",
       "31486        1055.0                   0                325.0   \n",
       "70642         375.0                   0               1451.0   \n",
       "102496       1035.0                   0                822.0   \n",
       "158248       2047.0                   0              12630.0   \n",
       "\n",
       "        DAYS_ENDDATE_FACT  AMT_CREDIT_MAX_OVERDUE  CNT_CREDIT_PROLONG  \\\n",
       "18373              1039.0                     NaN                   0   \n",
       "31486               325.0                 43056.0                   0   \n",
       "70642                 NaN                     0.0                   0   \n",
       "102496              853.0                     0.0                   0   \n",
       "158248              395.0                     NaN                   0   \n",
       "\n",
       "        AMT_CREDIT_SUM  AMT_CREDIT_SUM_DEBT  AMT_CREDIT_SUM_LIMIT  \\\n",
       "18373          52861.5                  0.0                   0.0   \n",
       "31486         900000.0                  0.0                   0.0   \n",
       "70642         344389.5             245682.0                   0.0   \n",
       "102496         36784.8                  0.0                   0.0   \n",
       "158248        495000.0                  0.0                   NaN   \n",
       "\n",
       "        AMT_CREDIT_SUM_OVERDUE      CREDIT_TYPE  DAYS_CREDIT_UPDATE  \\\n",
       "18373                      0.0  Consumer credit              1022.0   \n",
       "31486                      0.0  Consumer credit               325.0   \n",
       "70642                      0.0  Consumer credit                10.0   \n",
       "102496                     0.0  Consumer credit               853.0   \n",
       "158248                     0.0      Credit card               395.0   \n",
       "\n",
       "        AMT_ANNUITY  \n",
       "18373        5359.5  \n",
       "31486           0.0  \n",
       "70642           NaN  \n",
       "102496          NaN  \n",
       "158248          0.0  "
      ]
     },
     "execution_count": 32,
     "metadata": {},
     "output_type": "execute_result"
    }
   ],
   "source": [
    "bki[bki[['APPLICATION_NUMBER','BUREAU_ID']].duplicated(keep=False)].head(5)\n",
    "\n"
   ]
  },
  {
   "cell_type": "code",
   "execution_count": 33,
   "metadata": {},
   "outputs": [
    {
     "data": {
      "text/html": [
       "<div>\n",
       "<style scoped>\n",
       "    .dataframe tbody tr th:only-of-type {\n",
       "        vertical-align: middle;\n",
       "    }\n",
       "\n",
       "    .dataframe tbody tr th {\n",
       "        vertical-align: top;\n",
       "    }\n",
       "\n",
       "    .dataframe thead th {\n",
       "        text-align: right;\n",
       "    }\n",
       "</style>\n",
       "<table border=\"1\" class=\"dataframe\">\n",
       "  <thead>\n",
       "    <tr style=\"text-align: right;\">\n",
       "      <th></th>\n",
       "      <th>APPLICATION_NUMBER</th>\n",
       "      <th>BUREAU_ID</th>\n",
       "      <th>CREDIT_ACTIVE</th>\n",
       "      <th>CREDIT_CURRENCY</th>\n",
       "      <th>DAYS_CREDIT</th>\n",
       "      <th>CREDIT_DAY_OVERDUE</th>\n",
       "      <th>DAYS_CREDIT_ENDDATE</th>\n",
       "      <th>DAYS_ENDDATE_FACT</th>\n",
       "      <th>AMT_CREDIT_MAX_OVERDUE</th>\n",
       "      <th>CNT_CREDIT_PROLONG</th>\n",
       "      <th>AMT_CREDIT_SUM</th>\n",
       "      <th>AMT_CREDIT_SUM_DEBT</th>\n",
       "      <th>AMT_CREDIT_SUM_LIMIT</th>\n",
       "      <th>AMT_CREDIT_SUM_OVERDUE</th>\n",
       "      <th>CREDIT_TYPE</th>\n",
       "      <th>DAYS_CREDIT_UPDATE</th>\n",
       "      <th>AMT_ANNUITY</th>\n",
       "    </tr>\n",
       "  </thead>\n",
       "  <tbody>\n",
       "    <tr>\n",
       "      <th>18373</th>\n",
       "      <td>123736638</td>\n",
       "      <td>6234312</td>\n",
       "      <td>Closed</td>\n",
       "      <td>currency 1</td>\n",
       "      <td>1235.0</td>\n",
       "      <td>0</td>\n",
       "      <td>885.0</td>\n",
       "      <td>1039.0</td>\n",
       "      <td>NaN</td>\n",
       "      <td>0</td>\n",
       "      <td>52861.5</td>\n",
       "      <td>0.0</td>\n",
       "      <td>0.0</td>\n",
       "      <td>0.0</td>\n",
       "      <td>Consumer credit</td>\n",
       "      <td>1022.0</td>\n",
       "      <td>5359.5</td>\n",
       "    </tr>\n",
       "    <tr>\n",
       "      <th>158248</th>\n",
       "      <td>123736638</td>\n",
       "      <td>6234312</td>\n",
       "      <td>Closed</td>\n",
       "      <td>currency 1</td>\n",
       "      <td>2047.0</td>\n",
       "      <td>0</td>\n",
       "      <td>12630.0</td>\n",
       "      <td>395.0</td>\n",
       "      <td>NaN</td>\n",
       "      <td>0</td>\n",
       "      <td>495000.0</td>\n",
       "      <td>0.0</td>\n",
       "      <td>NaN</td>\n",
       "      <td>0.0</td>\n",
       "      <td>Credit card</td>\n",
       "      <td>395.0</td>\n",
       "      <td>0.0</td>\n",
       "    </tr>\n",
       "  </tbody>\n",
       "</table>\n",
       "</div>"
      ],
      "text/plain": [
       "        APPLICATION_NUMBER  BUREAU_ID CREDIT_ACTIVE CREDIT_CURRENCY  \\\n",
       "18373            123736638    6234312        Closed      currency 1   \n",
       "158248           123736638    6234312        Closed      currency 1   \n",
       "\n",
       "        DAYS_CREDIT  CREDIT_DAY_OVERDUE  DAYS_CREDIT_ENDDATE  \\\n",
       "18373        1235.0                   0                885.0   \n",
       "158248       2047.0                   0              12630.0   \n",
       "\n",
       "        DAYS_ENDDATE_FACT  AMT_CREDIT_MAX_OVERDUE  CNT_CREDIT_PROLONG  \\\n",
       "18373              1039.0                     NaN                   0   \n",
       "158248              395.0                     NaN                   0   \n",
       "\n",
       "        AMT_CREDIT_SUM  AMT_CREDIT_SUM_DEBT  AMT_CREDIT_SUM_LIMIT  \\\n",
       "18373          52861.5                  0.0                   0.0   \n",
       "158248        495000.0                  0.0                   NaN   \n",
       "\n",
       "        AMT_CREDIT_SUM_OVERDUE      CREDIT_TYPE  DAYS_CREDIT_UPDATE  \\\n",
       "18373                      0.0  Consumer credit              1022.0   \n",
       "158248                     0.0      Credit card               395.0   \n",
       "\n",
       "        AMT_ANNUITY  \n",
       "18373        5359.5  \n",
       "158248          0.0  "
      ]
     },
     "execution_count": 33,
     "metadata": {},
     "output_type": "execute_result"
    }
   ],
   "source": [
    "bki[(bki.APPLICATION_NUMBER ==123736638) &(bki.BUREAU_ID == 6234312) ]"
   ]
  },
  {
   "cell_type": "markdown",
   "metadata": {},
   "source": [
    "Очень странно одна заявка, одно запись бюро, а информация разная"
   ]
  },
  {
   "cell_type": "code",
   "execution_count": 34,
   "metadata": {},
   "outputs": [
    {
     "data": {
      "text/plain": [
       "743651"
      ]
     },
     "execution_count": 34,
     "metadata": {},
     "output_type": "execute_result"
    }
   ],
   "source": [
    "bki['BUREAU_ID'].nunique()"
   ]
  },
  {
   "cell_type": "code",
   "execution_count": 35,
   "metadata": {},
   "outputs": [
    {
     "data": {
      "text/plain": [
       "371912"
      ]
     },
     "execution_count": 35,
     "metadata": {},
     "output_type": "execute_result"
    }
   ],
   "source": [
    "sum(bki['BUREAU_ID'].duplicated(keep=False))"
   ]
  },
  {
   "cell_type": "code",
   "execution_count": 36,
   "metadata": {},
   "outputs": [
    {
     "data": {
      "text/plain": [
       "5183679    7\n",
       "5929269    7\n",
       "5794512    7\n",
       "5800551    6\n",
       "6772730    6\n",
       "5205471    6\n",
       "5954685    6\n",
       "5676064    6\n",
       "6031936    6\n",
       "6435929    6\n",
       "5316508    6\n",
       "6429302    6\n",
       "5642133    6\n",
       "6643514    6\n",
       "5101211    6\n",
       "6491432    6\n",
       "5904401    6\n",
       "5944547    6\n",
       "6265842    6\n",
       "5285858    6\n",
       "Name: BUREAU_ID, dtype: int64"
      ]
     },
     "execution_count": 36,
     "metadata": {},
     "output_type": "execute_result"
    }
   ],
   "source": [
    "bki.BUREAU_ID.value_counts().head(20)"
   ]
  },
  {
   "cell_type": "markdown",
   "metadata": {},
   "source": [
    "связано это с тем, что по каждой заявке несколько записей в бюро кредитный историй"
   ]
  },
  {
   "cell_type": "code",
   "execution_count": 37,
   "metadata": {},
   "outputs": [
    {
     "data": {
      "text/plain": [
       "273131"
      ]
     },
     "execution_count": 37,
     "metadata": {},
     "output_type": "execute_result"
    }
   ],
   "source": [
    "bki.APPLICATION_NUMBER.nunique()"
   ]
  },
  {
   "cell_type": "markdown",
   "metadata": {},
   "source": [
    "273131 - уникальных заявок - это все равно меньше чем нужно"
   ]
  },
  {
   "cell_type": "code",
   "execution_count": 38,
   "metadata": {},
   "outputs": [
    {
     "data": {
      "text/plain": [
       "(1    126469\n",
       " 0     38672\n",
       " Name: is_bki_info, dtype: int64,\n",
       " 1    0.765824\n",
       " 0    0.234176\n",
       " Name: is_bki_info, dtype: float64)"
      ]
     },
     "execution_count": 38,
     "metadata": {},
     "output_type": "execute_result"
    }
   ],
   "source": [
    "bki_app_uniq = bki.APPLICATION_NUMBER.unique()\n",
    "d_map_app_index_bki = {i:1 for  i in bki_app_uniq}\n",
    "test['is_bki_info'] = test.APPLICATION_NUMBER.map(d_map_app_index_bki)\n",
    "test['is_bki_info'] = test['is_bki_info'].fillna(0)\n",
    "test['is_bki_info'] = test['is_bki_info'].astype(int)\n",
    "test.is_bki_info.value_counts(), test.is_bki_info.value_counts(normalize = True)"
   ]
  },
  {
   "cell_type": "code",
   "execution_count": 39,
   "metadata": {},
   "outputs": [
    {
     "data": {
      "text/plain": [
       "(1    84508\n",
       " 0    25585\n",
       " Name: is_bki_info, dtype: int64,\n",
       " 1    0.767606\n",
       " 0    0.232394\n",
       " Name: is_bki_info, dtype: float64)"
      ]
     },
     "execution_count": 39,
     "metadata": {},
     "output_type": "execute_result"
    }
   ],
   "source": [
    "\n",
    "train['is_bki_info'] = train.APPLICATION_NUMBER.map(d_map_app_index_bki)\n",
    "train['is_bki_info'] = train['is_bki_info'].fillna(0)\n",
    "train['is_bki_info'] = train['is_bki_info'].astype(int)\n",
    "train.is_bki_info.value_counts(), train.is_bki_info.value_counts(normalize = True)"
   ]
  },
  {
   "cell_type": "markdown",
   "metadata": {},
   "source": [
    "Так же не хватает данных обо всех клиентах"
   ]
  },
  {
   "cell_type": "code",
   "execution_count": 40,
   "metadata": {},
   "outputs": [
    {
     "data": {
      "text/html": [
       "<div>\n",
       "<style scoped>\n",
       "    .dataframe tbody tr th:only-of-type {\n",
       "        vertical-align: middle;\n",
       "    }\n",
       "\n",
       "    .dataframe tbody tr th {\n",
       "        vertical-align: top;\n",
       "    }\n",
       "\n",
       "    .dataframe thead th {\n",
       "        text-align: right;\n",
       "    }\n",
       "</style>\n",
       "<table border=\"1\" class=\"dataframe\">\n",
       "  <thead>\n",
       "    <tr style=\"text-align: right;\">\n",
       "      <th></th>\n",
       "      <th>PREV_APPLICATION_NUMBER</th>\n",
       "      <th>APPLICATION_NUMBER</th>\n",
       "      <th>NUM_INSTALMENT_VERSION</th>\n",
       "      <th>NUM_INSTALMENT_NUMBER</th>\n",
       "      <th>DAYS_INSTALMENT</th>\n",
       "      <th>DAYS_ENTRY_PAYMENT</th>\n",
       "      <th>AMT_INSTALMENT</th>\n",
       "      <th>AMT_PAYMENT</th>\n",
       "    </tr>\n",
       "  </thead>\n",
       "  <tbody>\n",
       "    <tr>\n",
       "      <th>0</th>\n",
       "      <td>49011181</td>\n",
       "      <td>123664960</td>\n",
       "      <td>1.0</td>\n",
       "      <td>5</td>\n",
       "      <td>1002.0</td>\n",
       "      <td>1015.0</td>\n",
       "      <td>12156.615</td>\n",
       "      <td>12156.615</td>\n",
       "    </tr>\n",
       "    <tr>\n",
       "      <th>1</th>\n",
       "      <td>48683432</td>\n",
       "      <td>123497205</td>\n",
       "      <td>1.0</td>\n",
       "      <td>13</td>\n",
       "      <td>442.0</td>\n",
       "      <td>432.0</td>\n",
       "      <td>18392.535</td>\n",
       "      <td>10047.645</td>\n",
       "    </tr>\n",
       "    <tr>\n",
       "      <th>2</th>\n",
       "      <td>48652024</td>\n",
       "      <td>123749925</td>\n",
       "      <td>1.0</td>\n",
       "      <td>10</td>\n",
       "      <td>8.0</td>\n",
       "      <td>23.0</td>\n",
       "      <td>5499.945</td>\n",
       "      <td>5499.945</td>\n",
       "    </tr>\n",
       "    <tr>\n",
       "      <th>3</th>\n",
       "      <td>48398897</td>\n",
       "      <td>123550846</td>\n",
       "      <td>0.0</td>\n",
       "      <td>82</td>\n",
       "      <td>398.0</td>\n",
       "      <td>398.0</td>\n",
       "      <td>7082.145</td>\n",
       "      <td>7082.145</td>\n",
       "    </tr>\n",
       "    <tr>\n",
       "      <th>4</th>\n",
       "      <td>49867197</td>\n",
       "      <td>123562174</td>\n",
       "      <td>0.0</td>\n",
       "      <td>63</td>\n",
       "      <td>1359.0</td>\n",
       "      <td>1359.0</td>\n",
       "      <td>156.735</td>\n",
       "      <td>156.735</td>\n",
       "    </tr>\n",
       "    <tr>\n",
       "      <th>...</th>\n",
       "      <td>...</td>\n",
       "      <td>...</td>\n",
       "      <td>...</td>\n",
       "      <td>...</td>\n",
       "      <td>...</td>\n",
       "      <td>...</td>\n",
       "      <td>...</td>\n",
       "      <td>...</td>\n",
       "    </tr>\n",
       "    <tr>\n",
       "      <th>1023927</th>\n",
       "      <td>50029793</td>\n",
       "      <td>123728077</td>\n",
       "      <td>0.0</td>\n",
       "      <td>123</td>\n",
       "      <td>993.0</td>\n",
       "      <td>993.0</td>\n",
       "      <td>2700.000</td>\n",
       "      <td>2700.000</td>\n",
       "    </tr>\n",
       "    <tr>\n",
       "      <th>1023928</th>\n",
       "      <td>48418780</td>\n",
       "      <td>123568892</td>\n",
       "      <td>0.0</td>\n",
       "      <td>73</td>\n",
       "      <td>529.0</td>\n",
       "      <td>529.0</td>\n",
       "      <td>232.335</td>\n",
       "      <td>232.335</td>\n",
       "    </tr>\n",
       "    <tr>\n",
       "      <th>1023929</th>\n",
       "      <td>49942303</td>\n",
       "      <td>123494001</td>\n",
       "      <td>2.0</td>\n",
       "      <td>24</td>\n",
       "      <td>389.0</td>\n",
       "      <td>393.0</td>\n",
       "      <td>23284.485</td>\n",
       "      <td>23284.485</td>\n",
       "    </tr>\n",
       "    <tr>\n",
       "      <th>1023930</th>\n",
       "      <td>50081462</td>\n",
       "      <td>123609565</td>\n",
       "      <td>0.0</td>\n",
       "      <td>4</td>\n",
       "      <td>2671.0</td>\n",
       "      <td>2671.0</td>\n",
       "      <td>9000.000</td>\n",
       "      <td>9000.000</td>\n",
       "    </tr>\n",
       "    <tr>\n",
       "      <th>1023931</th>\n",
       "      <td>48356590</td>\n",
       "      <td>123468672</td>\n",
       "      <td>3.0</td>\n",
       "      <td>28</td>\n",
       "      <td>109.0</td>\n",
       "      <td>117.0</td>\n",
       "      <td>17483.535</td>\n",
       "      <td>17483.535</td>\n",
       "    </tr>\n",
       "  </tbody>\n",
       "</table>\n",
       "<p>1023932 rows × 8 columns</p>\n",
       "</div>"
      ],
      "text/plain": [
       "         PREV_APPLICATION_NUMBER  APPLICATION_NUMBER  NUM_INSTALMENT_VERSION  \\\n",
       "0                       49011181           123664960                     1.0   \n",
       "1                       48683432           123497205                     1.0   \n",
       "2                       48652024           123749925                     1.0   \n",
       "3                       48398897           123550846                     0.0   \n",
       "4                       49867197           123562174                     0.0   \n",
       "...                          ...                 ...                     ...   \n",
       "1023927                 50029793           123728077                     0.0   \n",
       "1023928                 48418780           123568892                     0.0   \n",
       "1023929                 49942303           123494001                     2.0   \n",
       "1023930                 50081462           123609565                     0.0   \n",
       "1023931                 48356590           123468672                     3.0   \n",
       "\n",
       "         NUM_INSTALMENT_NUMBER  DAYS_INSTALMENT  DAYS_ENTRY_PAYMENT  \\\n",
       "0                            5           1002.0              1015.0   \n",
       "1                           13            442.0               432.0   \n",
       "2                           10              8.0                23.0   \n",
       "3                           82            398.0               398.0   \n",
       "4                           63           1359.0              1359.0   \n",
       "...                        ...              ...                 ...   \n",
       "1023927                    123            993.0               993.0   \n",
       "1023928                     73            529.0               529.0   \n",
       "1023929                     24            389.0               393.0   \n",
       "1023930                      4           2671.0              2671.0   \n",
       "1023931                     28            109.0               117.0   \n",
       "\n",
       "         AMT_INSTALMENT  AMT_PAYMENT  \n",
       "0             12156.615    12156.615  \n",
       "1             18392.535    10047.645  \n",
       "2              5499.945     5499.945  \n",
       "3              7082.145     7082.145  \n",
       "4               156.735      156.735  \n",
       "...                 ...          ...  \n",
       "1023927        2700.000     2700.000  \n",
       "1023928         232.335      232.335  \n",
       "1023929       23284.485    23284.485  \n",
       "1023930        9000.000     9000.000  \n",
       "1023931       17483.535    17483.535  \n",
       "\n",
       "[1023932 rows x 8 columns]"
      ]
     },
     "execution_count": 40,
     "metadata": {},
     "output_type": "execute_result"
    }
   ],
   "source": [
    "payments = pd.read_csv(patch_payments)\n",
    "payments"
   ]
  },
  {
   "cell_type": "code",
   "execution_count": 41,
   "metadata": {},
   "outputs": [
    {
     "data": {
      "text/plain": [
       "949089"
      ]
     },
     "execution_count": 41,
     "metadata": {},
     "output_type": "execute_result"
    }
   ],
   "source": [
    "sum(payments.APPLICATION_NUMBER.duplicated(keep=False))"
   ]
  },
  {
   "cell_type": "code",
   "execution_count": 42,
   "metadata": {},
   "outputs": [
    {
     "data": {
      "text/plain": [
       "264726"
      ]
     },
     "execution_count": 42,
     "metadata": {},
     "output_type": "execute_result"
    }
   ],
   "source": [
    "payments.APPLICATION_NUMBER.nunique()"
   ]
  },
  {
   "cell_type": "code",
   "execution_count": 43,
   "metadata": {},
   "outputs": [
    {
     "data": {
      "text/plain": [
       "123619703    37\n",
       "123486520    33\n",
       "123449869    31\n",
       "123682859    31\n",
       "123632163    31\n",
       "             ..\n",
       "123731958     1\n",
       "123778085     1\n",
       "123722215     1\n",
       "123639711     1\n",
       "123560468     1\n",
       "Name: APPLICATION_NUMBER, Length: 264726, dtype: int64"
      ]
     },
     "execution_count": 43,
     "metadata": {},
     "output_type": "execute_result"
    }
   ],
   "source": [
    "payments.APPLICATION_NUMBER.value_counts()"
   ]
  },
  {
   "cell_type": "code",
   "execution_count": 44,
   "metadata": {},
   "outputs": [
    {
     "data": {
      "text/plain": [
       "(1    122573\n",
       " 0     42568\n",
       " Name: is_payments_info, dtype: int64,\n",
       " 1    0.742232\n",
       " 0    0.257768\n",
       " Name: is_payments_info, dtype: float64)"
      ]
     },
     "execution_count": 44,
     "metadata": {},
     "output_type": "execute_result"
    }
   ],
   "source": [
    "payments_app_uniq = payments.APPLICATION_NUMBER.unique()\n",
    "d_map_app_index_payments = {i:1 for  i in payments_app_uniq}\n",
    "test['is_payments_info'] = test.APPLICATION_NUMBER.map(d_map_app_index_payments)\n",
    "test['is_payments_info'] = test['is_payments_info'].fillna(0)\n",
    "test['is_payments_info'] = test['is_payments_info'].astype(int)\n",
    "test.is_payments_info.value_counts(), test.is_payments_info.value_counts(normalize = True)"
   ]
  },
  {
   "cell_type": "code",
   "execution_count": 45,
   "metadata": {},
   "outputs": [
    {
     "data": {
      "text/plain": [
       "(1    81967\n",
       " 0    28126\n",
       " Name: is_payments_info, dtype: int64,\n",
       " 1    0.744525\n",
       " 0    0.255475\n",
       " Name: is_payments_info, dtype: float64)"
      ]
     },
     "execution_count": 45,
     "metadata": {},
     "output_type": "execute_result"
    }
   ],
   "source": [
    "train['is_payments_info'] = train.APPLICATION_NUMBER.map(d_map_app_index_payments)\n",
    "train['is_payments_info'] = train['is_payments_info'].fillna(0)\n",
    "train['is_payments_info'] = train['is_payments_info'].astype(int)\n",
    "train.is_payments_info.value_counts(), train.is_payments_info.value_counts(normalize = True)"
   ]
  },
  {
   "cell_type": "code",
   "execution_count": 46,
   "metadata": {},
   "outputs": [
    {
     "data": {
      "text/html": [
       "<div>\n",
       "<style scoped>\n",
       "    .dataframe tbody tr th:only-of-type {\n",
       "        vertical-align: middle;\n",
       "    }\n",
       "\n",
       "    .dataframe tbody tr th {\n",
       "        vertical-align: top;\n",
       "    }\n",
       "\n",
       "    .dataframe thead th {\n",
       "        text-align: right;\n",
       "    }\n",
       "</style>\n",
       "<table border=\"1\" class=\"dataframe\">\n",
       "  <thead>\n",
       "    <tr style=\"text-align: right;\">\n",
       "      <th></th>\n",
       "      <th>PREV_APPLICATION_NUMBER</th>\n",
       "      <th>APPLICATION_NUMBER</th>\n",
       "      <th>NAME_CONTRACT_TYPE</th>\n",
       "      <th>AMOUNT_ANNUITY</th>\n",
       "      <th>AMT_APPLICATION</th>\n",
       "      <th>AMOUNT_CREDIT</th>\n",
       "      <th>AMOUNT_PAYMENT</th>\n",
       "      <th>AMOUNT_GOODS_PAYMENT</th>\n",
       "      <th>NAME_CONTRACT_STATUS</th>\n",
       "      <th>DAYS_DECISION</th>\n",
       "      <th>NAME_PAYMENT_TYPE</th>\n",
       "      <th>CODE_REJECT_REASON</th>\n",
       "      <th>NAME_TYPE_SUITE</th>\n",
       "      <th>NAME_CLIENT_TYPE</th>\n",
       "      <th>NAME_GOODS_CATEGORY</th>\n",
       "      <th>NAME_PORTFOLIO</th>\n",
       "      <th>NAME_PRODUCT_TYPE</th>\n",
       "      <th>SELLERPLACE_AREA</th>\n",
       "      <th>CNT_PAYMENT</th>\n",
       "      <th>NAME_YIELD_GROUP</th>\n",
       "      <th>DAYS_FIRST_DRAWING</th>\n",
       "      <th>DAYS_FIRST_DUE</th>\n",
       "      <th>DAYS_LAST_DUE_1ST_VERSION</th>\n",
       "      <th>DAYS_LAST_DUE</th>\n",
       "      <th>DAYS_TERMINATION</th>\n",
       "      <th>NFLAG_INSURED_ON_APPROVAL</th>\n",
       "    </tr>\n",
       "  </thead>\n",
       "  <tbody>\n",
       "    <tr>\n",
       "      <th>0</th>\n",
       "      <td>49298709</td>\n",
       "      <td>123595216</td>\n",
       "      <td>NaN</td>\n",
       "      <td>1730.430</td>\n",
       "      <td>17145.0</td>\n",
       "      <td>17145.0</td>\n",
       "      <td>0.0</td>\n",
       "      <td>17145.0</td>\n",
       "      <td>Approved</td>\n",
       "      <td>73</td>\n",
       "      <td>Cash through the bank</td>\n",
       "      <td>XAP</td>\n",
       "      <td>NaN</td>\n",
       "      <td>Repeater</td>\n",
       "      <td>Mobile</td>\n",
       "      <td>POS</td>\n",
       "      <td>XNA</td>\n",
       "      <td>35</td>\n",
       "      <td>12.0</td>\n",
       "      <td>middle</td>\n",
       "      <td>365243.0</td>\n",
       "      <td>42.0</td>\n",
       "      <td>300.0</td>\n",
       "      <td>42.0</td>\n",
       "      <td>37.0</td>\n",
       "      <td>0.0</td>\n",
       "    </tr>\n",
       "    <tr>\n",
       "      <th>1</th>\n",
       "      <td>50070639</td>\n",
       "      <td>123431468</td>\n",
       "      <td>Cash</td>\n",
       "      <td>25188.615</td>\n",
       "      <td>607500.0</td>\n",
       "      <td>679671.0</td>\n",
       "      <td>NaN</td>\n",
       "      <td>607500.0</td>\n",
       "      <td>Approved</td>\n",
       "      <td>164</td>\n",
       "      <td>XNA</td>\n",
       "      <td>XAP</td>\n",
       "      <td>Unaccompanied</td>\n",
       "      <td>Repeater</td>\n",
       "      <td>XNA</td>\n",
       "      <td>Cash</td>\n",
       "      <td>x-sell</td>\n",
       "      <td>-1</td>\n",
       "      <td>36.0</td>\n",
       "      <td>low_action</td>\n",
       "      <td>365243.0</td>\n",
       "      <td>134.0</td>\n",
       "      <td>916.0</td>\n",
       "      <td>365243.0</td>\n",
       "      <td>365243.0</td>\n",
       "      <td>1.0</td>\n",
       "    </tr>\n",
       "    <tr>\n",
       "      <th>2</th>\n",
       "      <td>49791680</td>\n",
       "      <td>123445379</td>\n",
       "      <td>Cash</td>\n",
       "      <td>15060.735</td>\n",
       "      <td>112500.0</td>\n",
       "      <td>136444.5</td>\n",
       "      <td>NaN</td>\n",
       "      <td>112500.0</td>\n",
       "      <td>Approved</td>\n",
       "      <td>301</td>\n",
       "      <td>Cash through the bank</td>\n",
       "      <td>XAP</td>\n",
       "      <td>Spouse, partner</td>\n",
       "      <td>Repeater</td>\n",
       "      <td>XNA</td>\n",
       "      <td>Cash</td>\n",
       "      <td>x-sell</td>\n",
       "      <td>-1</td>\n",
       "      <td>12.0</td>\n",
       "      <td>high</td>\n",
       "      <td>365243.0</td>\n",
       "      <td>271.0</td>\n",
       "      <td>59.0</td>\n",
       "      <td>365243.0</td>\n",
       "      <td>365243.0</td>\n",
       "      <td>1.0</td>\n",
       "    </tr>\n",
       "    <tr>\n",
       "      <th>3</th>\n",
       "      <td>50087457</td>\n",
       "      <td>123499497</td>\n",
       "      <td>Cash</td>\n",
       "      <td>47041.335</td>\n",
       "      <td>450000.0</td>\n",
       "      <td>470790.0</td>\n",
       "      <td>NaN</td>\n",
       "      <td>450000.0</td>\n",
       "      <td>Approved</td>\n",
       "      <td>512</td>\n",
       "      <td>Cash through the bank</td>\n",
       "      <td>XAP</td>\n",
       "      <td>NaN</td>\n",
       "      <td>Repeater</td>\n",
       "      <td>XNA</td>\n",
       "      <td>Cash</td>\n",
       "      <td>x-sell</td>\n",
       "      <td>-1</td>\n",
       "      <td>12.0</td>\n",
       "      <td>middle</td>\n",
       "      <td>365243.0</td>\n",
       "      <td>482.0</td>\n",
       "      <td>152.0</td>\n",
       "      <td>182.0</td>\n",
       "      <td>177.0</td>\n",
       "      <td>1.0</td>\n",
       "    </tr>\n",
       "    <tr>\n",
       "      <th>4</th>\n",
       "      <td>49052479</td>\n",
       "      <td>123525393</td>\n",
       "      <td>Cash</td>\n",
       "      <td>31924.395</td>\n",
       "      <td>337500.0</td>\n",
       "      <td>404055.0</td>\n",
       "      <td>NaN</td>\n",
       "      <td>337500.0</td>\n",
       "      <td>Refused</td>\n",
       "      <td>781</td>\n",
       "      <td>Cash through the bank</td>\n",
       "      <td>HC</td>\n",
       "      <td>NaN</td>\n",
       "      <td>Repeater</td>\n",
       "      <td>XNA</td>\n",
       "      <td>Cash</td>\n",
       "      <td>walk-in</td>\n",
       "      <td>-1</td>\n",
       "      <td>24.0</td>\n",
       "      <td>high</td>\n",
       "      <td>NaN</td>\n",
       "      <td>NaN</td>\n",
       "      <td>NaN</td>\n",
       "      <td>NaN</td>\n",
       "      <td>NaN</td>\n",
       "      <td>NaN</td>\n",
       "    </tr>\n",
       "    <tr>\n",
       "      <th>...</th>\n",
       "      <td>...</td>\n",
       "      <td>...</td>\n",
       "      <td>...</td>\n",
       "      <td>...</td>\n",
       "      <td>...</td>\n",
       "      <td>...</td>\n",
       "      <td>...</td>\n",
       "      <td>...</td>\n",
       "      <td>...</td>\n",
       "      <td>...</td>\n",
       "      <td>...</td>\n",
       "      <td>...</td>\n",
       "      <td>...</td>\n",
       "      <td>...</td>\n",
       "      <td>...</td>\n",
       "      <td>...</td>\n",
       "      <td>...</td>\n",
       "      <td>...</td>\n",
       "      <td>...</td>\n",
       "      <td>...</td>\n",
       "      <td>...</td>\n",
       "      <td>...</td>\n",
       "      <td>...</td>\n",
       "      <td>...</td>\n",
       "      <td>...</td>\n",
       "      <td>...</td>\n",
       "    </tr>\n",
       "    <tr>\n",
       "      <th>1670209</th>\n",
       "      <td>49568678</td>\n",
       "      <td>123675354</td>\n",
       "      <td>NaN</td>\n",
       "      <td>14704.290</td>\n",
       "      <td>267295.5</td>\n",
       "      <td>311400.0</td>\n",
       "      <td>0.0</td>\n",
       "      <td>267295.5</td>\n",
       "      <td>Approved</td>\n",
       "      <td>544</td>\n",
       "      <td>Cash through the bank</td>\n",
       "      <td>XAP</td>\n",
       "      <td>NaN</td>\n",
       "      <td>Refreshed</td>\n",
       "      <td>Furniture</td>\n",
       "      <td>POS</td>\n",
       "      <td>XNA</td>\n",
       "      <td>43</td>\n",
       "      <td>30.0</td>\n",
       "      <td>low_normal</td>\n",
       "      <td>365243.0</td>\n",
       "      <td>508.0</td>\n",
       "      <td>362.0</td>\n",
       "      <td>358.0</td>\n",
       "      <td>351.0</td>\n",
       "      <td>0.0</td>\n",
       "    </tr>\n",
       "    <tr>\n",
       "      <th>1670210</th>\n",
       "      <td>49625245</td>\n",
       "      <td>123657974</td>\n",
       "      <td>NaN</td>\n",
       "      <td>6622.020</td>\n",
       "      <td>87750.0</td>\n",
       "      <td>64291.5</td>\n",
       "      <td>29250.0</td>\n",
       "      <td>87750.0</td>\n",
       "      <td>Approved</td>\n",
       "      <td>1694</td>\n",
       "      <td>Cash through the bank</td>\n",
       "      <td>XAP</td>\n",
       "      <td>Unaccompanied</td>\n",
       "      <td>New</td>\n",
       "      <td>Furniture</td>\n",
       "      <td>POS</td>\n",
       "      <td>XNA</td>\n",
       "      <td>43</td>\n",
       "      <td>12.0</td>\n",
       "      <td>middle</td>\n",
       "      <td>365243.0</td>\n",
       "      <td>1604.0</td>\n",
       "      <td>1274.0</td>\n",
       "      <td>1304.0</td>\n",
       "      <td>1297.0</td>\n",
       "      <td>0.0</td>\n",
       "    </tr>\n",
       "    <tr>\n",
       "      <th>1670211</th>\n",
       "      <td>49927846</td>\n",
       "      <td>123572883</td>\n",
       "      <td>NaN</td>\n",
       "      <td>11520.855</td>\n",
       "      <td>105237.0</td>\n",
       "      <td>102523.5</td>\n",
       "      <td>10525.5</td>\n",
       "      <td>105237.0</td>\n",
       "      <td>Approved</td>\n",
       "      <td>1488</td>\n",
       "      <td>Cash through the bank</td>\n",
       "      <td>XAP</td>\n",
       "      <td>Spouse, partner</td>\n",
       "      <td>Repeater</td>\n",
       "      <td>Consumer Electronics</td>\n",
       "      <td>POS</td>\n",
       "      <td>XNA</td>\n",
       "      <td>1370</td>\n",
       "      <td>10.0</td>\n",
       "      <td>low_normal</td>\n",
       "      <td>365243.0</td>\n",
       "      <td>1457.0</td>\n",
       "      <td>1187.0</td>\n",
       "      <td>1187.0</td>\n",
       "      <td>1181.0</td>\n",
       "      <td>0.0</td>\n",
       "    </tr>\n",
       "    <tr>\n",
       "      <th>1670212</th>\n",
       "      <td>50053796</td>\n",
       "      <td>123723656</td>\n",
       "      <td>Cash</td>\n",
       "      <td>18821.520</td>\n",
       "      <td>180000.0</td>\n",
       "      <td>191880.0</td>\n",
       "      <td>NaN</td>\n",
       "      <td>180000.0</td>\n",
       "      <td>Approved</td>\n",
       "      <td>1185</td>\n",
       "      <td>Cash through the bank</td>\n",
       "      <td>XAP</td>\n",
       "      <td>Family</td>\n",
       "      <td>Repeater</td>\n",
       "      <td>XNA</td>\n",
       "      <td>Cash</td>\n",
       "      <td>x-sell</td>\n",
       "      <td>-1</td>\n",
       "      <td>12.0</td>\n",
       "      <td>low_normal</td>\n",
       "      <td>365243.0</td>\n",
       "      <td>1155.0</td>\n",
       "      <td>825.0</td>\n",
       "      <td>825.0</td>\n",
       "      <td>817.0</td>\n",
       "      <td>1.0</td>\n",
       "    </tr>\n",
       "    <tr>\n",
       "      <th>1670213</th>\n",
       "      <td>49686976</td>\n",
       "      <td>123584551</td>\n",
       "      <td>Cash</td>\n",
       "      <td>16431.300</td>\n",
       "      <td>360000.0</td>\n",
       "      <td>360000.0</td>\n",
       "      <td>NaN</td>\n",
       "      <td>360000.0</td>\n",
       "      <td>Approved</td>\n",
       "      <td>1193</td>\n",
       "      <td>Cash through the bank</td>\n",
       "      <td>XAP</td>\n",
       "      <td>Family</td>\n",
       "      <td>Repeater</td>\n",
       "      <td>XNA</td>\n",
       "      <td>Cash</td>\n",
       "      <td>x-sell</td>\n",
       "      <td>-1</td>\n",
       "      <td>48.0</td>\n",
       "      <td>middle</td>\n",
       "      <td>365243.0</td>\n",
       "      <td>1163.0</td>\n",
       "      <td>247.0</td>\n",
       "      <td>443.0</td>\n",
       "      <td>423.0</td>\n",
       "      <td>0.0</td>\n",
       "    </tr>\n",
       "  </tbody>\n",
       "</table>\n",
       "<p>1670214 rows × 26 columns</p>\n",
       "</div>"
      ],
      "text/plain": [
       "         PREV_APPLICATION_NUMBER  APPLICATION_NUMBER NAME_CONTRACT_TYPE  \\\n",
       "0                       49298709           123595216                NaN   \n",
       "1                       50070639           123431468               Cash   \n",
       "2                       49791680           123445379               Cash   \n",
       "3                       50087457           123499497               Cash   \n",
       "4                       49052479           123525393               Cash   \n",
       "...                          ...                 ...                ...   \n",
       "1670209                 49568678           123675354                NaN   \n",
       "1670210                 49625245           123657974                NaN   \n",
       "1670211                 49927846           123572883                NaN   \n",
       "1670212                 50053796           123723656               Cash   \n",
       "1670213                 49686976           123584551               Cash   \n",
       "\n",
       "         AMOUNT_ANNUITY  AMT_APPLICATION  AMOUNT_CREDIT  AMOUNT_PAYMENT  \\\n",
       "0              1730.430          17145.0        17145.0             0.0   \n",
       "1             25188.615         607500.0       679671.0             NaN   \n",
       "2             15060.735         112500.0       136444.5             NaN   \n",
       "3             47041.335         450000.0       470790.0             NaN   \n",
       "4             31924.395         337500.0       404055.0             NaN   \n",
       "...                 ...              ...            ...             ...   \n",
       "1670209       14704.290         267295.5       311400.0             0.0   \n",
       "1670210        6622.020          87750.0        64291.5         29250.0   \n",
       "1670211       11520.855         105237.0       102523.5         10525.5   \n",
       "1670212       18821.520         180000.0       191880.0             NaN   \n",
       "1670213       16431.300         360000.0       360000.0             NaN   \n",
       "\n",
       "         AMOUNT_GOODS_PAYMENT NAME_CONTRACT_STATUS  DAYS_DECISION  \\\n",
       "0                     17145.0             Approved             73   \n",
       "1                    607500.0             Approved            164   \n",
       "2                    112500.0             Approved            301   \n",
       "3                    450000.0             Approved            512   \n",
       "4                    337500.0              Refused            781   \n",
       "...                       ...                  ...            ...   \n",
       "1670209              267295.5             Approved            544   \n",
       "1670210               87750.0             Approved           1694   \n",
       "1670211              105237.0             Approved           1488   \n",
       "1670212              180000.0             Approved           1185   \n",
       "1670213              360000.0             Approved           1193   \n",
       "\n",
       "             NAME_PAYMENT_TYPE CODE_REJECT_REASON  NAME_TYPE_SUITE  \\\n",
       "0        Cash through the bank                XAP              NaN   \n",
       "1                          XNA                XAP    Unaccompanied   \n",
       "2        Cash through the bank                XAP  Spouse, partner   \n",
       "3        Cash through the bank                XAP              NaN   \n",
       "4        Cash through the bank                 HC              NaN   \n",
       "...                        ...                ...              ...   \n",
       "1670209  Cash through the bank                XAP              NaN   \n",
       "1670210  Cash through the bank                XAP    Unaccompanied   \n",
       "1670211  Cash through the bank                XAP  Spouse, partner   \n",
       "1670212  Cash through the bank                XAP           Family   \n",
       "1670213  Cash through the bank                XAP           Family   \n",
       "\n",
       "        NAME_CLIENT_TYPE   NAME_GOODS_CATEGORY NAME_PORTFOLIO  \\\n",
       "0               Repeater                Mobile            POS   \n",
       "1               Repeater                   XNA           Cash   \n",
       "2               Repeater                   XNA           Cash   \n",
       "3               Repeater                   XNA           Cash   \n",
       "4               Repeater                   XNA           Cash   \n",
       "...                  ...                   ...            ...   \n",
       "1670209        Refreshed             Furniture            POS   \n",
       "1670210              New             Furniture            POS   \n",
       "1670211         Repeater  Consumer Electronics            POS   \n",
       "1670212         Repeater                   XNA           Cash   \n",
       "1670213         Repeater                   XNA           Cash   \n",
       "\n",
       "        NAME_PRODUCT_TYPE  SELLERPLACE_AREA  CNT_PAYMENT NAME_YIELD_GROUP  \\\n",
       "0                     XNA                35         12.0           middle   \n",
       "1                  x-sell                -1         36.0       low_action   \n",
       "2                  x-sell                -1         12.0             high   \n",
       "3                  x-sell                -1         12.0           middle   \n",
       "4                 walk-in                -1         24.0             high   \n",
       "...                   ...               ...          ...              ...   \n",
       "1670209               XNA                43         30.0       low_normal   \n",
       "1670210               XNA                43         12.0           middle   \n",
       "1670211               XNA              1370         10.0       low_normal   \n",
       "1670212            x-sell                -1         12.0       low_normal   \n",
       "1670213            x-sell                -1         48.0           middle   \n",
       "\n",
       "         DAYS_FIRST_DRAWING  DAYS_FIRST_DUE  DAYS_LAST_DUE_1ST_VERSION  \\\n",
       "0                  365243.0            42.0                      300.0   \n",
       "1                  365243.0           134.0                      916.0   \n",
       "2                  365243.0           271.0                       59.0   \n",
       "3                  365243.0           482.0                      152.0   \n",
       "4                       NaN             NaN                        NaN   \n",
       "...                     ...             ...                        ...   \n",
       "1670209            365243.0           508.0                      362.0   \n",
       "1670210            365243.0          1604.0                     1274.0   \n",
       "1670211            365243.0          1457.0                     1187.0   \n",
       "1670212            365243.0          1155.0                      825.0   \n",
       "1670213            365243.0          1163.0                      247.0   \n",
       "\n",
       "         DAYS_LAST_DUE  DAYS_TERMINATION  NFLAG_INSURED_ON_APPROVAL  \n",
       "0                 42.0              37.0                        0.0  \n",
       "1             365243.0          365243.0                        1.0  \n",
       "2             365243.0          365243.0                        1.0  \n",
       "3                182.0             177.0                        1.0  \n",
       "4                  NaN               NaN                        NaN  \n",
       "...                ...               ...                        ...  \n",
       "1670209          358.0             351.0                        0.0  \n",
       "1670210         1304.0            1297.0                        0.0  \n",
       "1670211         1187.0            1181.0                        0.0  \n",
       "1670212          825.0             817.0                        1.0  \n",
       "1670213          443.0             423.0                        0.0  \n",
       "\n",
       "[1670214 rows x 26 columns]"
      ]
     },
     "execution_count": 46,
     "metadata": {},
     "output_type": "execute_result"
    }
   ],
   "source": [
    "applications_history = pd.read_csv(patch_applications_history)\n",
    "applications_history"
   ]
  },
  {
   "cell_type": "code",
   "execution_count": 47,
   "metadata": {},
   "outputs": [
    {
     "name": "stdout",
     "output_type": "stream",
     "text": [
      "<class 'pandas.core.frame.DataFrame'>\n",
      "RangeIndex: 1670214 entries, 0 to 1670213\n",
      "Data columns (total 26 columns):\n",
      " #   Column                     Non-Null Count    Dtype  \n",
      "---  ------                     --------------    -----  \n",
      " 0   PREV_APPLICATION_NUMBER    1670214 non-null  int64  \n",
      " 1   APPLICATION_NUMBER         1670214 non-null  int64  \n",
      " 2   NAME_CONTRACT_TYPE         940717 non-null   object \n",
      " 3   AMOUNT_ANNUITY             1297979 non-null  float64\n",
      " 4   AMT_APPLICATION            1670214 non-null  float64\n",
      " 5   AMOUNT_CREDIT              1670213 non-null  float64\n",
      " 6   AMOUNT_PAYMENT             774370 non-null   float64\n",
      " 7   AMOUNT_GOODS_PAYMENT       1284699 non-null  float64\n",
      " 8   NAME_CONTRACT_STATUS       1670214 non-null  object \n",
      " 9   DAYS_DECISION              1670214 non-null  int64  \n",
      " 10  NAME_PAYMENT_TYPE          1670214 non-null  object \n",
      " 11  CODE_REJECT_REASON         1670214 non-null  object \n",
      " 12  NAME_TYPE_SUITE            849809 non-null   object \n",
      " 13  NAME_CLIENT_TYPE           1670214 non-null  object \n",
      " 14  NAME_GOODS_CATEGORY        1670214 non-null  object \n",
      " 15  NAME_PORTFOLIO             1670214 non-null  object \n",
      " 16  NAME_PRODUCT_TYPE          1670214 non-null  object \n",
      " 17  SELLERPLACE_AREA           1670214 non-null  int64  \n",
      " 18  CNT_PAYMENT                1297984 non-null  float64\n",
      " 19  NAME_YIELD_GROUP           1670214 non-null  object \n",
      " 20  DAYS_FIRST_DRAWING         997149 non-null   float64\n",
      " 21  DAYS_FIRST_DUE             997149 non-null   float64\n",
      " 22  DAYS_LAST_DUE_1ST_VERSION  997149 non-null   float64\n",
      " 23  DAYS_LAST_DUE              997149 non-null   float64\n",
      " 24  DAYS_TERMINATION           997149 non-null   float64\n",
      " 25  NFLAG_INSURED_ON_APPROVAL  997149 non-null   float64\n",
      "dtypes: float64(12), int64(4), object(10)\n",
      "memory usage: 331.3+ MB\n"
     ]
    }
   ],
   "source": [
    "applications_history.info()"
   ]
  },
  {
   "cell_type": "code",
   "execution_count": 48,
   "metadata": {},
   "outputs": [
    {
     "data": {
      "text/plain": [
       "1609756"
      ]
     },
     "execution_count": 48,
     "metadata": {},
     "output_type": "execute_result"
    }
   ],
   "source": [
    "sum(applications_history.APPLICATION_NUMBER.duplicated(keep=False))"
   ]
  },
  {
   "cell_type": "code",
   "execution_count": 49,
   "metadata": {},
   "outputs": [
    {
     "data": {
      "text/plain": [
       "338857"
      ]
     },
     "execution_count": 49,
     "metadata": {},
     "output_type": "execute_result"
    }
   ],
   "source": [
    "applications_history.APPLICATION_NUMBER.nunique()"
   ]
  },
  {
   "cell_type": "code",
   "execution_count": 50,
   "metadata": {},
   "outputs": [
    {
     "data": {
      "text/plain": [
       "123511207    77\n",
       "123589020    73\n",
       "123497019    72\n",
       "123565751    68\n",
       "123530122    67\n",
       "             ..\n",
       "123458624     1\n",
       "123635299     1\n",
       "123750475     1\n",
       "123564773     1\n",
       "123514968     1\n",
       "Name: APPLICATION_NUMBER, Length: 338857, dtype: int64"
      ]
     },
     "execution_count": 50,
     "metadata": {},
     "output_type": "execute_result"
    }
   ],
   "source": [
    "applications_history.APPLICATION_NUMBER.value_counts()"
   ]
  },
  {
   "cell_type": "code",
   "execution_count": 51,
   "metadata": {},
   "outputs": [
    {
     "data": {
      "text/plain": [
       "(1    157084\n",
       " 0      8057\n",
       " Name: is_history_info, dtype: int64,\n",
       " 1    0.951211\n",
       " 0    0.048789\n",
       " Name: is_history_info, dtype: float64)"
      ]
     },
     "execution_count": 51,
     "metadata": {},
     "output_type": "execute_result"
    }
   ],
   "source": [
    "applications_history_app_uniq = applications_history.APPLICATION_NUMBER.unique()\n",
    "d_map_app_index_applications_history = {i:1 for  i in applications_history_app_uniq}\n",
    "test['is_history_info'] = test.APPLICATION_NUMBER.map(d_map_app_index_applications_history)\n",
    "test['is_history_info'] = test['is_history_info'].fillna(0)\n",
    "test['is_history_info'] = test['is_history_info'].astype(int)\n",
    "test.is_history_info.value_counts(), test.is_history_info.value_counts(normalize = True)"
   ]
  },
  {
   "cell_type": "code",
   "execution_count": 52,
   "metadata": {},
   "outputs": [
    {
     "data": {
      "text/plain": [
       "(1    104656\n",
       " 0      5437\n",
       " Name: is_history_info, dtype: int64,\n",
       " 1    0.950614\n",
       " 0    0.049386\n",
       " Name: is_history_info, dtype: float64)"
      ]
     },
     "execution_count": 52,
     "metadata": {},
     "output_type": "execute_result"
    }
   ],
   "source": [
    "\n",
    "train['is_history_info'] = train.APPLICATION_NUMBER.map(d_map_app_index_applications_history)\n",
    "train['is_history_info'] = train['is_history_info'].fillna(0)\n",
    "train['is_history_info'] = train['is_history_info'].astype(int)\n",
    "train.is_history_info.value_counts(), train.is_history_info.value_counts(normalize = True)"
   ]
  },
  {
   "cell_type": "code",
   "execution_count": 53,
   "metadata": {},
   "outputs": [],
   "source": [
    "train['all_info'] = train.is_bki_info+train.is_client_info+train.is_history_info + train.is_payments_info\n",
    "test['all_info'] = test.is_bki_info+test.is_client_info+test.is_history_info + test.is_payments_info"
   ]
  },
  {
   "cell_type": "code",
   "execution_count": 54,
   "metadata": {},
   "outputs": [
    {
     "data": {
      "text/plain": [
       "(4    51666\n",
       " 3    40629\n",
       " 2    14608\n",
       " 1     2903\n",
       " 0      287\n",
       " Name: all_info, dtype: int64,\n",
       " 4    76630\n",
       " 3    61863\n",
       " 2    21906\n",
       " 1     4381\n",
       " 0      361\n",
       " Name: all_info, dtype: int64)"
      ]
     },
     "execution_count": 54,
     "metadata": {},
     "output_type": "execute_result"
    }
   ],
   "source": [
    "train.all_info.value_counts(),test.all_info.value_counts()"
   ]
  },
  {
   "cell_type": "code",
   "execution_count": 55,
   "metadata": {},
   "outputs": [
    {
     "data": {
      "text/html": [
       "<div>\n",
       "<style scoped>\n",
       "    .dataframe tbody tr th:only-of-type {\n",
       "        vertical-align: middle;\n",
       "    }\n",
       "\n",
       "    .dataframe tbody tr th {\n",
       "        vertical-align: top;\n",
       "    }\n",
       "\n",
       "    .dataframe thead th {\n",
       "        text-align: right;\n",
       "    }\n",
       "</style>\n",
       "<table border=\"1\" class=\"dataframe\">\n",
       "  <thead>\n",
       "    <tr style=\"text-align: right;\">\n",
       "      <th></th>\n",
       "      <th>APPLICATION_NUMBER</th>\n",
       "      <th>TARGET</th>\n",
       "      <th>NAME_CONTRACT_TYPE</th>\n",
       "      <th>is_client_info</th>\n",
       "      <th>is_bki_info</th>\n",
       "      <th>is_payments_info</th>\n",
       "      <th>is_history_info</th>\n",
       "      <th>all_info</th>\n",
       "    </tr>\n",
       "  </thead>\n",
       "  <tbody>\n",
       "    <tr>\n",
       "      <th>0</th>\n",
       "      <td>123687442</td>\n",
       "      <td>0</td>\n",
       "      <td>Cash</td>\n",
       "      <td>1</td>\n",
       "      <td>1</td>\n",
       "      <td>1</td>\n",
       "      <td>1</td>\n",
       "      <td>4</td>\n",
       "    </tr>\n",
       "    <tr>\n",
       "      <th>1</th>\n",
       "      <td>123597908</td>\n",
       "      <td>1</td>\n",
       "      <td>Cash</td>\n",
       "      <td>0</td>\n",
       "      <td>1</td>\n",
       "      <td>1</td>\n",
       "      <td>1</td>\n",
       "      <td>3</td>\n",
       "    </tr>\n",
       "    <tr>\n",
       "      <th>2</th>\n",
       "      <td>123526683</td>\n",
       "      <td>0</td>\n",
       "      <td>Cash</td>\n",
       "      <td>1</td>\n",
       "      <td>1</td>\n",
       "      <td>1</td>\n",
       "      <td>1</td>\n",
       "      <td>4</td>\n",
       "    </tr>\n",
       "  </tbody>\n",
       "</table>\n",
       "</div>"
      ],
      "text/plain": [
       "   APPLICATION_NUMBER  TARGET NAME_CONTRACT_TYPE  is_client_info  is_bki_info  \\\n",
       "0           123687442       0               Cash               1            1   \n",
       "1           123597908       1               Cash               0            1   \n",
       "2           123526683       0               Cash               1            1   \n",
       "\n",
       "   is_payments_info  is_history_info  all_info  \n",
       "0                 1                1         4  \n",
       "1                 1                1         3  \n",
       "2                 1                1         4  "
      ]
     },
     "execution_count": 55,
     "metadata": {},
     "output_type": "execute_result"
    }
   ],
   "source": [
    "train.head(3)"
   ]
  },
  {
   "cell_type": "code",
   "execution_count": 56,
   "metadata": {},
   "outputs": [
    {
     "data": {
      "text/plain": [
       "(0    265\n",
       " 1     22\n",
       " Name: TARGET, dtype: int64,\n",
       " 0    0.923345\n",
       " 1    0.076655\n",
       " Name: TARGET, dtype: float64)"
      ]
     },
     "execution_count": 56,
     "metadata": {},
     "output_type": "execute_result"
    }
   ],
   "source": [
    "train[train.all_info==0].TARGET.value_counts(),train[train.all_info==0].TARGET.value_counts(normalize = True)"
   ]
  },
  {
   "cell_type": "markdown",
   "metadata": {},
   "source": [
    "287 и 361 (на трейн и тест) заявка без ккакой либо информации о пользователе, причем распределение положительного таргета примерно одинаковое"
   ]
  },
  {
   "cell_type": "markdown",
   "metadata": {},
   "source": [
    "### Как работать с данными.  \n",
    "пока вижу два подхода:  \n",
    "1. Получить из дополнительных файлов плоские статистики и признаки и привязать их к заявке на трейне  \n",
    "2. К трейну приявязать все возможные варианты по каждой заявке (типа OHE)  \n",
    "\n",
    "Начну со свторого, так как это проще. Буду использовать кросс валидацию и Hold валидацию\n",
    "\n"
   ]
  },
  {
   "cell_type": "markdown",
   "metadata": {},
   "source": [
    "## Обработка данных № 1"
   ]
  },
  {
   "cell_type": "code",
   "execution_count": 57,
   "metadata": {},
   "outputs": [],
   "source": [
    "def get_df(my_df,add):\n",
    "    df = my_df.copy()\n",
    "    for data,name  in add:\n",
    "        for ind in df.index:\n",
    "            columns = data.columns.to_list()\n",
    "            columns.remove('APPLICATION_NUMBER')\n",
    "            my_data = data[data.APPLICATION_NUMBER == df.loc[ind].APPLICATION_NUMBER]\n",
    "            for n,(z,i) in enumerate(my_data.iterrows()):\n",
    "                for column in columns:\n",
    "                    df.loc[ind,f'{name}_{n}_{column}']=i[column]\n",
    "    return df               \n",
    "\n",
    "\n"
   ]
  },
  {
   "cell_type": "code",
   "execution_count": 58,
   "metadata": {},
   "outputs": [
    {
     "name": "stdout",
     "output_type": "stream",
     "text": [
      "разница в колонках 787\n",
      "Wall time: 24min 52s\n"
     ]
    }
   ],
   "source": [
    "%%time\n",
    "ready_data = 1\n",
    "if ready_data==0:\n",
    "    # Создание данных\n",
    "    my_files=[(client,'client'),(bki,'bki'),(payments,'payments'),(applications_history,'applications_history')]\n",
    "    train_work_1 = get_df(train,my_files)\n",
    "    train_work_1.to_csv(PATCH + 'train_work_1',index=False)\n",
    "    test_work_1 = get_df(test,my_files)\n",
    "    test_work_1.to_csv(PATCH + 'test_work_1',index=False)\n",
    "else:\n",
    "#     загрузка данных\n",
    "    train_work_1 = pd.read_csv(PATCH + 'train_work_1')\n",
    "    test_work_1 = pd.read_csv(PATCH + 'test_work_1')\n",
    "    \n",
    "columns_train = set(train_work_1.columns.to_list())\n",
    "columns_test  = set(test_work_1.columns.to_list())\n",
    "diff = columns_test -columns_train \n",
    "diff = list(diff)\n",
    "print(f'разница в колонках {len(diff)}')\n",
    "# удалим лишние столбцы из теста\n",
    "for i in diff:\n",
    "    test_work_1.drop(i,axis=1,inplace=True)\n",
    "# уровняем колонки\n",
    "columns = train_work_1.drop('TARGET',axis = 1).columns.to_list()\n",
    "test_work_1 = test_work_1.reindex(columns=columns)\n",
    "columns.append('TARGET')\n",
    "train_work_1 = train_work_1.reindex(columns=columns)"
   ]
  },
  {
   "cell_type": "code",
   "execution_count": 59,
   "metadata": {},
   "outputs": [
    {
     "name": "stdout",
     "output_type": "stream",
     "text": [
      "<class 'pandas.core.frame.DataFrame'>\n",
      "RangeIndex: 110093 entries, 0 to 110092\n",
      "Columns: 2408 entries, APPLICATION_NUMBER to TARGET\n",
      "dtypes: float64(1655), int64(7), object(746)\n",
      "memory usage: 2.0+ GB\n"
     ]
    }
   ],
   "source": [
    "train_work_1.info()"
   ]
  },
  {
   "cell_type": "code",
   "execution_count": 60,
   "metadata": {},
   "outputs": [
    {
     "name": "stdout",
     "output_type": "stream",
     "text": [
      "<class 'pandas.core.frame.DataFrame'>\n",
      "RangeIndex: 165141 entries, 0 to 165140\n",
      "Columns: 2407 entries, APPLICATION_NUMBER to applications_history_63_NFLAG_INSURED_ON_APPROVAL\n",
      "dtypes: float64(1654), int64(6), object(747)\n",
      "memory usage: 3.0+ GB\n"
     ]
    }
   ],
   "source": [
    "test_work_1.info()"
   ]
  },
  {
   "cell_type": "code",
   "execution_count": 11,
   "metadata": {},
   "outputs": [],
   "source": []
  },
  {
   "cell_type": "markdown",
   "metadata": {},
   "source": [
    "## baseline"
   ]
  },
  {
   "cell_type": "markdown",
   "metadata": {},
   "source": [
    "Подготовим данные для бустинга"
   ]
  },
  {
   "cell_type": "code",
   "execution_count": 61,
   "metadata": {},
   "outputs": [
    {
     "name": "stdout",
     "output_type": "stream",
     "text": [
      "Wall time: 16min 18s\n"
     ]
    }
   ],
   "source": [
    "%%time\n",
    "cat_columns = test_work_1.select_dtypes(exclude=[np.number]).columns.to_list()\n",
    "train_work_1[cat_columns] = train_work_1[cat_columns].astype(str)\n",
    "test_work_1[cat_columns] = test_work_1[cat_columns].astype(str)\n",
    "train_work_1[cat_columns] = train_work_1[cat_columns].astype('category')\n",
    "test_work_1[cat_columns] = test_work_1[cat_columns].astype('category')"
   ]
  },
  {
   "cell_type": "markdown",
   "metadata": {},
   "source": [
    "#### LGBMClassifier"
   ]
  },
  {
   "cell_type": "code",
   "execution_count": 62,
   "metadata": {},
   "outputs": [],
   "source": [
    "model_lgb = lgb.LGBMClassifier(objective= \"binary\" ,metric= \"auc\", \n",
    "                                 n_jobs= 15,device=\"gpu\")"
   ]
  },
  {
   "cell_type": "code",
   "execution_count": 63,
   "metadata": {},
   "outputs": [
    {
     "name": "stdout",
     "output_type": "stream",
     "text": [
      "Wall time: 24.5 s\n"
     ]
    },
    {
     "data": {
      "text/plain": [
       "LGBMClassifier(device='gpu', metric='auc', n_jobs=15, objective='binary')"
      ]
     },
     "execution_count": 63,
     "metadata": {},
     "output_type": "execute_result"
    }
   ],
   "source": [
    "%%time\n",
    "model_lgb.fit(train_work_1.drop('TARGET',axis = 1),train_work_1['TARGET'],\\\n",
    "              eval_set = [(train_work_1.drop('TARGET',axis = 1),train_work_1['TARGET'])],verbose = False)"
   ]
  },
  {
   "cell_type": "code",
   "execution_count": 64,
   "metadata": {},
   "outputs": [
    {
     "data": {
      "text/plain": [
       "defaultdict(collections.OrderedDict,\n",
       "            {'valid_0': OrderedDict([('auc', 0.8395130743001351)])})"
      ]
     },
     "execution_count": 64,
     "metadata": {},
     "output_type": "execute_result"
    }
   ],
   "source": [
    "model_lgb.best_score_"
   ]
  },
  {
   "cell_type": "markdown",
   "metadata": {},
   "source": [
    "#### CatBoostClassifier"
   ]
  },
  {
   "cell_type": "code",
   "execution_count": 65,
   "metadata": {},
   "outputs": [],
   "source": [
    "model_cb = cb.CatBoostClassifier(loss_function= \"Logloss\",\n",
    "                                task_type= \"GPU\",\n",
    "                                devices='0',     \n",
    "                                verbose=False , \n",
    "                                eval_metric= \"AUC\",\n",
    "                                thread_count= 15,\n",
    "                                cat_features = cat_columns)"
   ]
  },
  {
   "cell_type": "code",
   "execution_count": 66,
   "metadata": {},
   "outputs": [
    {
     "name": "stdout",
     "output_type": "stream",
     "text": [
      "Wall time: 14min 19s\n"
     ]
    },
    {
     "data": {
      "text/plain": [
       "<catboost.core.CatBoostClassifier at 0x2b59b2e0df0>"
      ]
     },
     "execution_count": 66,
     "metadata": {},
     "output_type": "execute_result"
    }
   ],
   "source": [
    "%%time\n",
    "model_cb.fit(train_work_1.drop('TARGET',axis = 1),train_work_1['TARGET'],\\\n",
    "             eval_set =  [(train_work_1.drop('TARGET',axis = 1),train_work_1['TARGET'])],early_stopping_rounds  = 90)"
   ]
  },
  {
   "cell_type": "code",
   "execution_count": 67,
   "metadata": {},
   "outputs": [
    {
     "data": {
      "text/plain": [
       "{'learn': {'Logloss': 0.2471396874403913, 'AUC': 0.7592366635799408},\n",
       " 'validation': {'Logloss': 0.25486793693740745, 'AUC': 0.7257557809352875}}"
      ]
     },
     "execution_count": 67,
     "metadata": {},
     "output_type": "execute_result"
    }
   ],
   "source": [
    "model_cb.best_score_"
   ]
  },
  {
   "cell_type": "markdown",
   "metadata": {},
   "source": [
    "#### Hold out"
   ]
  },
  {
   "cell_type": "markdown",
   "metadata": {},
   "source": [
    "#### LGBMClassifier"
   ]
  },
  {
   "cell_type": "code",
   "execution_count": 68,
   "metadata": {},
   "outputs": [],
   "source": [
    "\n",
    "x_train,x_test, y_train,y_test = train_test_split(train_work_1.drop('TARGET',axis = 1),train_work_1['TARGET'],\\\n",
    "                                                 test_size= 0.2,random_state = 41,stratify = train_work_1['TARGET'] )"
   ]
  },
  {
   "cell_type": "code",
   "execution_count": 69,
   "metadata": {},
   "outputs": [],
   "source": [
    "model_lgb = lgb.LGBMClassifier(objective= \"binary\" ,metric= \"auc\", n_jobs= 15)"
   ]
  },
  {
   "cell_type": "code",
   "execution_count": 70,
   "metadata": {},
   "outputs": [
    {
     "name": "stdout",
     "output_type": "stream",
     "text": [
      "Wall time: 34.5 s\n"
     ]
    },
    {
     "data": {
      "text/plain": [
       "LGBMClassifier(metric='auc', n_jobs=15, objective='binary')"
      ]
     },
     "execution_count": 70,
     "metadata": {},
     "output_type": "execute_result"
    }
   ],
   "source": [
    "%%time\n",
    "model_lgb.fit(x_train,y_train,\\\n",
    "              eval_set = [(x_train,y_train),(x_test,y_test)],verbose = False,early_stopping_rounds  = 90)"
   ]
  },
  {
   "cell_type": "code",
   "execution_count": 71,
   "metadata": {},
   "outputs": [
    {
     "data": {
      "text/plain": [
       "(100,\n",
       " defaultdict(collections.OrderedDict,\n",
       "             {'training': OrderedDict([('auc', 0.8552263702131265)]),\n",
       "              'valid_1': OrderedDict([('auc', 0.7077339631004672)])}))"
      ]
     },
     "execution_count": 71,
     "metadata": {},
     "output_type": "execute_result"
    }
   ],
   "source": [
    "model_lgb.best_iteration_,model_lgb.best_score_"
   ]
  },
  {
   "cell_type": "markdown",
   "metadata": {},
   "source": [
    "#### CatBoostClassifier"
   ]
  },
  {
   "cell_type": "code",
   "execution_count": 72,
   "metadata": {},
   "outputs": [],
   "source": [
    "model_cb = cb.CatBoostClassifier(loss_function= \"Logloss\",\n",
    "                                task_type= \"GPU\",\n",
    "                                devices='0',     \n",
    "                                verbose=False , \n",
    "                                eval_metric= \"AUC\",\n",
    "                                thread_count= 15, )"
   ]
  },
  {
   "cell_type": "code",
   "execution_count": 73,
   "metadata": {},
   "outputs": [
    {
     "name": "stdout",
     "output_type": "stream",
     "text": [
      "Wall time: 6min 46s\n"
     ]
    },
    {
     "data": {
      "text/plain": [
       "<catboost.core.CatBoostClassifier at 0x2b7b092fd30>"
      ]
     },
     "execution_count": 73,
     "metadata": {},
     "output_type": "execute_result"
    }
   ],
   "source": [
    "%%time\n",
    "model_cb.fit(x_train,y_train,cat_features = cat_columns,\\\n",
    "              eval_set = [(x_test,y_test)],verbose = False,early_stopping_rounds  = 90)"
   ]
  },
  {
   "cell_type": "code",
   "execution_count": 74,
   "metadata": {},
   "outputs": [
    {
     "data": {
      "text/plain": [
       "(418,\n",
       " {'learn': {'Logloss': 0.25025214060051776, 'AUC': 0.7509132325649261},\n",
       "  'validation': {'Logloss': 0.2592167825940097, 'AUC': 0.7069675922393799}})"
      ]
     },
     "execution_count": 74,
     "metadata": {},
     "output_type": "execute_result"
    }
   ],
   "source": [
    "model_cb.best_iteration_,model_cb.best_score_"
   ]
  },
  {
   "cell_type": "markdown",
   "metadata": {},
   "source": [
    "### Подбор параметров"
   ]
  },
  {
   "cell_type": "code",
   "execution_count": 75,
   "metadata": {},
   "outputs": [],
   "source": [
    "cv_strategy = StratifiedKFold(n_splits=5,random_state = 41,shuffle =True)"
   ]
  },
  {
   "cell_type": "markdown",
   "metadata": {},
   "source": [
    "#### LGBMClassifier"
   ]
  },
  {
   "cell_type": "code",
   "execution_count": 76,
   "metadata": {},
   "outputs": [],
   "source": [
    "params_lgb = {\n",
    "        \"boosting_type\": \"gbdt\",\n",
    "        \"objective\": \"binary\",\n",
    "        'num_leaves':7,\n",
    "        'max_depth':7,\n",
    "        'learning_rate':0.25,\n",
    "        \"metric\": \"auc\",\n",
    "        \"n_jobs\": 15,\n",
    "        'reg_alpha':20,\n",
    "        'reg_lambda':20,\n",
    "        'n_estimators':100 ,  \n",
    "        \"random_state\": 27}"
   ]
  },
  {
   "cell_type": "code",
   "execution_count": 77,
   "metadata": {},
   "outputs": [
    {
     "name": "stdout",
     "output_type": "stream",
     "text": [
      "Wall time: 20.4 s\n"
     ]
    },
    {
     "data": {
      "text/plain": [
       "(100,\n",
       " defaultdict(collections.OrderedDict,\n",
       "             {'training': OrderedDict([('auc', 0.7584523555481649)]),\n",
       "              'valid_1': OrderedDict([('auc', 0.7121078397065457)])}))"
      ]
     },
     "execution_count": 77,
     "metadata": {},
     "output_type": "execute_result"
    }
   ],
   "source": [
    "%%time\n",
    "model_lgb = lgb.LGBMClassifier(**params_lgb)\n",
    "model_lgb.fit(x_train,y_train,\\\n",
    "              eval_set = [(x_train,y_train),(x_test,y_test)],verbose = False,early_stopping_rounds  = 90)\n",
    "model_lgb.best_iteration_,model_lgb.best_score_"
   ]
  },
  {
   "cell_type": "code",
   "execution_count": 78,
   "metadata": {},
   "outputs": [
    {
     "name": "stdout",
     "output_type": "stream",
     "text": [
      "Wall time: 15.2 s\n"
     ]
    },
    {
     "data": {
      "text/plain": [
       "(None,\n",
       " defaultdict(collections.OrderedDict,\n",
       "             {'training': OrderedDict([('auc', 0.7321917310880135)]),\n",
       "              'valid_1': OrderedDict([('auc', 0.714537245021518)])}))"
      ]
     },
     "execution_count": 78,
     "metadata": {},
     "output_type": "execute_result"
    }
   ],
   "source": [
    "%%time\n",
    "params_lgb = {\n",
    "        \"boosting_type\": \"gbdt\",\n",
    "        \"objective\": \"binary\",\n",
    "        'num_leaves':7,\n",
    "        'max_depth':7,\n",
    "        'learning_rate':0.25,\n",
    "        \"metric\": \"auc\",\n",
    "        \"n_jobs\": 15,\n",
    "        'reg_alpha':20,\n",
    "        'reg_lambda':20,\n",
    "        'n_estimators':31 ,  \n",
    "        \"random_state\": 27}\n",
    "\n",
    "model_lgb = lgb.LGBMClassifier(**params_lgb)\n",
    "model_lgb.fit(x_train,y_train,\\\n",
    "              eval_set = [(x_train,y_train),(x_test,y_test)],verbose = False)\n",
    "model_lgb.best_iteration_,model_lgb.best_score_"
   ]
  },
  {
   "cell_type": "code",
   "execution_count": 79,
   "metadata": {},
   "outputs": [
    {
     "name": "stdout",
     "output_type": "stream",
     "text": [
      "Fold: 1, train-observations = 88074, valid-observations = 22019\n",
      "train-score = 0.7333, valid-score = 0.7179\n",
      "=====================================================================\n",
      "Fold: 2, train-observations = 88074, valid-observations = 22019\n",
      "train-score = 0.7309, valid-score = 0.7267\n",
      "=====================================================================\n",
      "Fold: 3, train-observations = 88074, valid-observations = 22019\n",
      "train-score = 0.7319, valid-score = 0.7178\n",
      "=====================================================================\n",
      "Fold: 4, train-observations = 88075, valid-observations = 22018\n",
      "train-score = 0.7339, valid-score = 0.7074\n",
      "=====================================================================\n",
      "Fold: 5, train-observations = 88075, valid-observations = 22018\n",
      "train-score = 0.733, valid-score = 0.7163\n",
      "=====================================================================\n",
      "CV-results train: 0.7326 +/- 0.001\n",
      "CV-results valid: 0.7172 +/- 0.006\n",
      "OOF-score = 0.7171\n",
      "Wall time: 1min 49s\n"
     ]
    }
   ],
   "source": [
    "%%time\n",
    "res =make_cross_validation(train_work_1.drop('TARGET',axis = 1),\\\n",
    "                           train_work_1['TARGET'],model_lgb, roc_auc_score, cv_strategy)"
   ]
  },
  {
   "cell_type": "markdown",
   "metadata": {},
   "source": [
    "Валидация приличная"
   ]
  },
  {
   "cell_type": "markdown",
   "metadata": {},
   "source": [
    "Но скор маленький, нужно работать на данными"
   ]
  },
  {
   "cell_type": "markdown",
   "metadata": {},
   "source": [
    "#### CatBoostClassifier"
   ]
  },
  {
   "cell_type": "code",
   "execution_count": 81,
   "metadata": {},
   "outputs": [],
   "source": [
    "params_cb = {\n",
    "        \"loss_function\": \"Logloss\",     \n",
    "        'verbose':False , \n",
    "        \"eval_metric\": \"AUC\",\n",
    "        \"thread_count\": 15, \n",
    "        \"early_stopping_rounds\": 90,\n",
    "        \"random_seed\": 27, \n",
    "        'cat_features' : cat_columns,\n",
    "        'max_depth':4,      \n",
    "        'n_estimators':250 ,\n",
    "        'learning_rate':0.3, \n",
    "        'l2_leaf_reg':2,      \n",
    "        'min_child_samples':15,    \n",
    "        'max_bin': 45}"
   ]
  },
  {
   "cell_type": "code",
   "execution_count": 82,
   "metadata": {},
   "outputs": [
    {
     "name": "stdout",
     "output_type": "stream",
     "text": [
      "Wall time: 9min 8s\n"
     ]
    },
    {
     "data": {
      "text/plain": [
       "(82,\n",
       " {'learn': {'Logloss': 0.24653579161406874},\n",
       "  'validation_0': {'Logloss': 0.24726302446252665, 'AUC': 0.7510094884880941},\n",
       "  'validation_1': {'Logloss': 0.2572150102946844, 'AUC': 0.7143714159706901}})"
      ]
     },
     "execution_count": 82,
     "metadata": {},
     "output_type": "execute_result"
    }
   ],
   "source": [
    "%%time\n",
    "model_cb = cb.CatBoostClassifier(**params_cb )\n",
    "model_cb.fit(x_train,y_train,cat_features = cat_columns,\\\n",
    "              eval_set = [(x_train,y_train),(x_test,y_test)],verbose = False,early_stopping_rounds  = 90)\n",
    "model_cb.best_iteration_, model_cb.best_score_"
   ]
  },
  {
   "cell_type": "code",
   "execution_count": 83,
   "metadata": {},
   "outputs": [
    {
     "name": "stdout",
     "output_type": "stream",
     "text": [
      "Wall time: 58 s\n"
     ]
    },
    {
     "data": {
      "text/plain": [
       "(78,\n",
       " {'learn': {'Logloss': 0.2518067666198074},\n",
       "  'validation_0': {'Logloss': 0.252131296043299, 'AUC': 0.7337468184181887},\n",
       "  'validation_1': {'Logloss': 0.2575488376157917, 'AUC': 0.7137777529677596}})"
      ]
     },
     "execution_count": 83,
     "metadata": {},
     "output_type": "execute_result"
    }
   ],
   "source": [
    "%%time\n",
    "params_cb = {\n",
    "        \"loss_function\": \"Logloss\",     \n",
    "        'verbose':False , \n",
    "        \"eval_metric\": \"AUC\",\n",
    "        \"thread_count\": 15, \n",
    "#         \"early_stopping_rounds\": 90,\n",
    "        \"random_seed\": 27, \n",
    "        'cat_features' : cat_columns,\n",
    "        'max_depth':4,      \n",
    "        'n_estimators':79 ,\n",
    "        'learning_rate':0.3, \n",
    "        'l2_leaf_reg':2,      \n",
    "        'min_child_samples':15,    \n",
    "        'max_bin': 45}\n",
    "model_cb = cb.CatBoostClassifier(**params_cb )\n",
    "model_cb.fit(x_train,y_train,cat_features = cat_columns,\\\n",
    "              eval_set = [(x_train,y_train),(x_test,y_test)],verbose = False)\n",
    "model_cb.best_iteration_, model_cb.best_score_"
   ]
  },
  {
   "cell_type": "code",
   "execution_count": 84,
   "metadata": {},
   "outputs": [
    {
     "name": "stdout",
     "output_type": "stream",
     "text": [
      "Fold: 1, train-observations = 88074, valid-observations = 22019\n",
      "train-score = 0.7325, valid-score = 0.7158\n",
      "=====================================================================\n",
      "Fold: 2, train-observations = 88074, valid-observations = 22019\n",
      "train-score = 0.7297, valid-score = 0.7212\n",
      "=====================================================================\n",
      "Fold: 3, train-observations = 88074, valid-observations = 22019\n",
      "train-score = 0.7345, valid-score = 0.7151\n",
      "=====================================================================\n",
      "Fold: 4, train-observations = 88075, valid-observations = 22018\n",
      "train-score = 0.7355, valid-score = 0.7039\n",
      "=====================================================================\n",
      "Fold: 5, train-observations = 88075, valid-observations = 22018\n",
      "train-score = 0.7347, valid-score = 0.7129\n",
      "=====================================================================\n",
      "CV-results train: 0.7334 +/- 0.002\n",
      "CV-results valid: 0.7138 +/- 0.006\n",
      "CV-results train: 0.7334 +/- 0.002\n",
      "CV-results valid: 0.7138 +/- 0.006\n",
      "OOF-score = 0.7136\n",
      "Wall time: 5min 17s\n"
     ]
    }
   ],
   "source": [
    "%%time\n",
    "res_cb =make_cross_validation_cb(train_work_1.drop('TARGET',axis = 1),\\\n",
    "                           train_work_1['TARGET'],model_cb, roc_auc_score, cv_strategy)\n"
   ]
  },
  {
   "cell_type": "code",
   "execution_count": 85,
   "metadata": {},
   "outputs": [
    {
     "name": "stdout",
     "output_type": "stream",
     "text": [
      "56\n",
      "56\n",
      "56\n",
      "56\n",
      "56\n"
     ]
    }
   ],
   "source": [
    "for i in res_cb[0]:\n",
    "    print(i.best_iteration_)"
   ]
  },
  {
   "cell_type": "markdown",
   "metadata": {},
   "source": [
    "Вот такой совсем basline, без каоq либо обработки данных. К сожалению нужно успеть сдать работу\n",
    "Далее будем работать с данными.\n",
    "Что бы улучщать результат, пока как есть согласно задания сдаю на лидер борд оба варианта"
   ]
  },
  {
   "cell_type": "markdown",
   "metadata": {},
   "source": [
    "## Подготовка результатов"
   ]
  },
  {
   "cell_type": "markdown",
   "metadata": {},
   "source": [
    "#### LGBMClassifier"
   ]
  },
  {
   "cell_type": "code",
   "execution_count": 86,
   "metadata": {},
   "outputs": [
    {
     "name": "stdout",
     "output_type": "stream",
     "text": [
      "Wall time: 40.5 s\n"
     ]
    },
    {
     "data": {
      "text/plain": [
       "LGBMClassifier(learning_rate=0.25, max_depth=7, metric='auc', n_estimators=31,\n",
       "               n_jobs=15, num_leaves=7, objective='binary', random_state=27,\n",
       "               reg_alpha=20, reg_lambda=20)"
      ]
     },
     "execution_count": 86,
     "metadata": {},
     "output_type": "execute_result"
    }
   ],
   "source": [
    "%%time\n",
    "model_lgb.fit(train_work_1.drop('TARGET',axis = 1),train_work_1['TARGET'],verbose = False)"
   ]
  },
  {
   "cell_type": "code",
   "execution_count": 87,
   "metadata": {},
   "outputs": [],
   "source": [
    "pred = model_lgb.predict_proba(test_work_1)[:,1]"
   ]
  },
  {
   "cell_type": "code",
   "execution_count": 88,
   "metadata": {},
   "outputs": [],
   "source": [
    "submission_lgb_base = pd.DataFrame()\n",
    "submission_lgb_base['APPLICATION_NUMBER'] = test_work_1['APPLICATION_NUMBER']\n",
    "submission_lgb_base['TARGET'] = pred\n",
    "submission_lgb_base.to_csv(PATCH + 'submission_lgb_base_0.csv',index=False)\n",
    "\n"
   ]
  },
  {
   "cell_type": "markdown",
   "metadata": {},
   "source": [
    "#### CatBoostClassifier"
   ]
  },
  {
   "cell_type": "code",
   "execution_count": 89,
   "metadata": {},
   "outputs": [],
   "source": [
    "params_cb = {\n",
    "        \"loss_function\": \"Logloss\",     \n",
    "        'verbose':False , \n",
    "        \"eval_metric\": \"AUC\",\n",
    "        \"thread_count\": 15, \n",
    "#         \"early_stopping_rounds\": 90,\n",
    "        \"random_seed\": 27, \n",
    "#         'cat_features' : cat_columns,\n",
    "        'max_depth':5,      \n",
    "        'n_estimators':82 ,\n",
    "        'learning_rate':0.3, \n",
    "        'l2_leaf_reg':2,      \n",
    "        'min_child_samples':15,    \n",
    "        'max_bin': 45}\n",
    "model_cb = cb.CatBoostClassifier(**params_cb )"
   ]
  },
  {
   "cell_type": "code",
   "execution_count": 90,
   "metadata": {},
   "outputs": [
    {
     "name": "stdout",
     "output_type": "stream",
     "text": [
      "Wall time: 1min 7s\n"
     ]
    },
    {
     "data": {
      "text/plain": [
       "<catboost.core.CatBoostClassifier at 0x2b5a4538940>"
      ]
     },
     "execution_count": 90,
     "metadata": {},
     "output_type": "execute_result"
    }
   ],
   "source": [
    "%%time\n",
    "model_cb.fit(train_work_1.drop('TARGET',axis = 1),train_work_1['TARGET'],verbose = False,cat_features = cat_columns )"
   ]
  },
  {
   "cell_type": "code",
   "execution_count": 91,
   "metadata": {},
   "outputs": [],
   "source": [
    "pred = model_cb.predict_proba(test_work_1)[:,1]"
   ]
  },
  {
   "cell_type": "code",
   "execution_count": 92,
   "metadata": {},
   "outputs": [],
   "source": [
    "submission_cb_base = pd.DataFrame()\n",
    "submission_cb_base['APPLICATION_NUMBER'] = test_work_1['APPLICATION_NUMBER']\n",
    "submission_cb_base['TARGET'] = pred\n",
    "submission_cb_base.to_csv(PATCH + 'submission_cb_base_0',index=False)"
   ]
  },
  {
   "cell_type": "code",
   "execution_count": null,
   "metadata": {},
   "outputs": [],
   "source": []
  },
  {
   "cell_type": "code",
   "execution_count": null,
   "metadata": {},
   "outputs": [],
   "source": []
  }
 ],
 "metadata": {
  "kernelspec": {
   "display_name": "Python 3 (ipykernel)",
   "language": "python",
   "name": "python3"
  },
  "language_info": {
   "codemirror_mode": {
    "name": "ipython",
    "version": 3
   },
   "file_extension": ".py",
   "mimetype": "text/x-python",
   "name": "python",
   "nbconvert_exporter": "python",
   "pygments_lexer": "ipython3",
   "version": "3.8.5"
  }
 },
 "nbformat": 4,
 "nbformat_minor": 4
}
