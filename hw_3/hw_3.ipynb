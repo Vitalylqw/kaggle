{
 "cells": [
  {
   "cell_type": "markdown",
   "metadata": {},
   "source": [
    "### Основное задание:  \n",
    "Даны выборки для обучения и для тестирования.  Задание заключается в том, чтобы попробовать разные способы валидации, проанализировать плюсы / минусы каждой и сделать выводы о том, какой способ валидации наиболее устойчивый в данной задаче. \n",
    "  \n",
    "Метрика качества для оценки прогнозов - ROC-AUC, название целевой переменной - IsFraud. Рекомендуется использовать модели градиетного бустинга, реализация любая / гипепараметры любые.  Внимание! выборка assignment_2_test.csv - наш аналог лидерборда.  \n",
    "  \n",
    "Будем моделировать ситуацию отправки решения на лидерборд и сравнить значение метрики на лидерборде и на локальной валидации. Для других целей использовать выборку запрещено!."
   ]
  },
  {
   "cell_type": "markdown",
   "metadata": {},
   "source": [
    "### Терминалогия, используемая в задании:\n",
    "* обучающая выборка - выборка, которая передается в метод fit / train;\n",
    "* валидационная выборка - выборка, которая получается при Hold-Out на 2 выборки (train, valid);\n",
    "* тестовая выборка - выборка, которая получается при Hold-Out на 3 выборки (train, valid, test);\n",
    "* ЛБ - лидерборд, выборка assignment_2_test.csv."
   ]
  },
  {
   "cell_type": "markdown",
   "metadata": {},
   "source": [
    "#### Задание 1: сделать Hold-Out валидацию с разбиением, размер которого будет адеквтаным, по вашему мнению; разбиение проводить по id-транзакции (TransactionID), обучать модель градиетного бустинга любой реализации с подбором числа деревьев по early_stopping критерию до достижения сходимости. Оценить качество модели на валидационной выборке, оценить расхождение по сравнению с качеством на обучающей выборке и валидационной выборке. Оценить качество на ЛБ, сравнить с качеством на обучении и валидации. Сделать выводы.  \n",
    "​\n",
    "#### Задание 2: сделать Hold-Out валидацию с разбиением на 3 выборки, разбиение проводить по id-транзакции (TransactionID), размер каждой выборки подобрать самостоятельно. Повторить процедуру из п.1. для каждой выборки.  \n",
    "​\n",
    "#### Задание 3: построить доверительный интервал на данных из п.2 на основе бутстреп выборок, оценить качество модели на ЛБ относительно полученного доверительного интервала. Сделать выводы.  \n",
    " \n",
    "#### Задание 4: выполнить Adversarial Validation, подобрать объекты из обучающей выборки, которые сильно похожи на объекты из assignment_2_test.csv, и использовать их в качестве валидационного набора. Оценить качество модели на ЛБ, сделать выводы о полученных результатах.  \n",
    "​\n",
    "####  Задание 5: сделать KFold / StratifiedKFold валидацию (на ваше усмотрение), оценить получаемые качество и разброс по метрике качества. Сделать выводы об устойчивости кросс-валидации, сходимости оценки на кросс-валидации и отложенном наборе данных; Оценить качество на ЛБ, сделать выводы.  \n",
    "​\n",
    "#### Задание 6 (опциональное): сделать Hold-Out валидацию по времени (TransactionDT), повторить процедуры из п.1 / п.2 (на ваш выбор). Построить доверительный интервал, сравнить качество на ЛБ выборке с полученным доверительным интервалом. Сделать выводы.  \n",
    "​\n",
    "#####  Задание 7 (совсем опциональное): в данном наборе данных у нас есть ID-транзакции (TransactionID) и время транзакции (TransactionDT), но отсутствует ID-клиента, который совершал транзакции. Кажется, что в этой задаче валидация по клиенту работала бы хорошо. Предложить критерий, по которому можно выделить клиентов и сделать п.5, используя созданное определение клиента, используя валидацию по клиенту (GroupKFold).  "
   ]
  },
  {
   "cell_type": "code",
   "execution_count": 1,
   "metadata": {},
   "outputs": [],
   "source": [
    "import os, sys\n",
    "module_path = os.path.abspath(os.path.join(os.pardir))\n",
    "if module_path not in sys.path:\n",
    "    sys.path.append(module_path)"
   ]
  },
  {
   "cell_type": "code",
   "execution_count": 2,
   "metadata": {},
   "outputs": [],
   "source": [
    "import numpy as np\n",
    "import pandas as pd\n",
    "import xgboost as xgb\n",
    "import matplotlib.pyplot as plt\n",
    "import missingno as msno\n",
    "import lightgbm as lgb\n",
    "import catboost as cb\n",
    "from sklearn.model_selection import train_test_split, GroupKFold\n",
    "from sklearn import metrics\n",
    "import seaborn as sns\n",
    "from scipy.stats import probplot, ks_2samp\n",
    "import warnings\n",
    "from tqdm import tqdm\n",
    "from typing import List, Tuple\n",
    "from scipy.stats import ttest_rel\n",
    "from sklearn.metrics import r2_score, roc_auc_score\n",
    "from sklearn.model_selection import KFold, StratifiedKFold, train_test_split, cross_val_score\n",
    "from classes_and_functions import bootstrap_calculate_confidence_interval, make_cross_validation,make_cross_validation_gr\n",
    "\n",
    "warnings.simplefilter(\"ignore\")\n",
    "from sklearn.model_selection import TimeSeriesSplit\n",
    "%matplotlib inline"
   ]
  },
  {
   "cell_type": "code",
   "execution_count": 3,
   "metadata": {},
   "outputs": [],
   "source": [
    "train= pd.read_csv('train.csv')\n",
    "l_board = pd.read_csv('test.csv')"
   ]
  },
  {
   "cell_type": "code",
   "execution_count": 4,
   "metadata": {},
   "outputs": [],
   "source": [
    "train.set_index('TransactionID',inplace=True)\n",
    "l_board.set_index('TransactionID',inplace=True)"
   ]
  },
  {
   "cell_type": "code",
   "execution_count": 5,
   "metadata": {},
   "outputs": [
    {
     "data": {
      "text/html": [
       "<div>\n",
       "<style scoped>\n",
       "    .dataframe tbody tr th:only-of-type {\n",
       "        vertical-align: middle;\n",
       "    }\n",
       "\n",
       "    .dataframe tbody tr th {\n",
       "        vertical-align: top;\n",
       "    }\n",
       "\n",
       "    .dataframe thead th {\n",
       "        text-align: right;\n",
       "    }\n",
       "</style>\n",
       "<table border=\"1\" class=\"dataframe\">\n",
       "  <thead>\n",
       "    <tr style=\"text-align: right;\">\n",
       "      <th></th>\n",
       "      <th>isFraud</th>\n",
       "      <th>TransactionDT</th>\n",
       "      <th>TransactionAmt</th>\n",
       "      <th>ProductCD</th>\n",
       "      <th>card1</th>\n",
       "      <th>card2</th>\n",
       "      <th>card3</th>\n",
       "      <th>card4</th>\n",
       "      <th>card5</th>\n",
       "      <th>card6</th>\n",
       "      <th>...</th>\n",
       "      <th>V330</th>\n",
       "      <th>V331</th>\n",
       "      <th>V332</th>\n",
       "      <th>V333</th>\n",
       "      <th>V334</th>\n",
       "      <th>V335</th>\n",
       "      <th>V336</th>\n",
       "      <th>V337</th>\n",
       "      <th>V338</th>\n",
       "      <th>V339</th>\n",
       "    </tr>\n",
       "    <tr>\n",
       "      <th>TransactionID</th>\n",
       "      <th></th>\n",
       "      <th></th>\n",
       "      <th></th>\n",
       "      <th></th>\n",
       "      <th></th>\n",
       "      <th></th>\n",
       "      <th></th>\n",
       "      <th></th>\n",
       "      <th></th>\n",
       "      <th></th>\n",
       "      <th></th>\n",
       "      <th></th>\n",
       "      <th></th>\n",
       "      <th></th>\n",
       "      <th></th>\n",
       "      <th></th>\n",
       "      <th></th>\n",
       "      <th></th>\n",
       "      <th></th>\n",
       "      <th></th>\n",
       "      <th></th>\n",
       "    </tr>\n",
       "  </thead>\n",
       "  <tbody>\n",
       "    <tr>\n",
       "      <th>2987000</th>\n",
       "      <td>0</td>\n",
       "      <td>86400</td>\n",
       "      <td>68.5</td>\n",
       "      <td>W</td>\n",
       "      <td>13926</td>\n",
       "      <td>NaN</td>\n",
       "      <td>150.0</td>\n",
       "      <td>discover</td>\n",
       "      <td>142.0</td>\n",
       "      <td>credit</td>\n",
       "      <td>...</td>\n",
       "      <td>NaN</td>\n",
       "      <td>NaN</td>\n",
       "      <td>NaN</td>\n",
       "      <td>NaN</td>\n",
       "      <td>NaN</td>\n",
       "      <td>NaN</td>\n",
       "      <td>NaN</td>\n",
       "      <td>NaN</td>\n",
       "      <td>NaN</td>\n",
       "      <td>NaN</td>\n",
       "    </tr>\n",
       "    <tr>\n",
       "      <th>2987001</th>\n",
       "      <td>0</td>\n",
       "      <td>86401</td>\n",
       "      <td>29.0</td>\n",
       "      <td>W</td>\n",
       "      <td>2755</td>\n",
       "      <td>404.0</td>\n",
       "      <td>150.0</td>\n",
       "      <td>mastercard</td>\n",
       "      <td>102.0</td>\n",
       "      <td>credit</td>\n",
       "      <td>...</td>\n",
       "      <td>NaN</td>\n",
       "      <td>NaN</td>\n",
       "      <td>NaN</td>\n",
       "      <td>NaN</td>\n",
       "      <td>NaN</td>\n",
       "      <td>NaN</td>\n",
       "      <td>NaN</td>\n",
       "      <td>NaN</td>\n",
       "      <td>NaN</td>\n",
       "      <td>NaN</td>\n",
       "    </tr>\n",
       "    <tr>\n",
       "      <th>2987002</th>\n",
       "      <td>0</td>\n",
       "      <td>86469</td>\n",
       "      <td>59.0</td>\n",
       "      <td>W</td>\n",
       "      <td>4663</td>\n",
       "      <td>490.0</td>\n",
       "      <td>150.0</td>\n",
       "      <td>visa</td>\n",
       "      <td>166.0</td>\n",
       "      <td>debit</td>\n",
       "      <td>...</td>\n",
       "      <td>NaN</td>\n",
       "      <td>NaN</td>\n",
       "      <td>NaN</td>\n",
       "      <td>NaN</td>\n",
       "      <td>NaN</td>\n",
       "      <td>NaN</td>\n",
       "      <td>NaN</td>\n",
       "      <td>NaN</td>\n",
       "      <td>NaN</td>\n",
       "      <td>NaN</td>\n",
       "    </tr>\n",
       "    <tr>\n",
       "      <th>2987003</th>\n",
       "      <td>0</td>\n",
       "      <td>86499</td>\n",
       "      <td>50.0</td>\n",
       "      <td>W</td>\n",
       "      <td>18132</td>\n",
       "      <td>567.0</td>\n",
       "      <td>150.0</td>\n",
       "      <td>mastercard</td>\n",
       "      <td>117.0</td>\n",
       "      <td>debit</td>\n",
       "      <td>...</td>\n",
       "      <td>NaN</td>\n",
       "      <td>NaN</td>\n",
       "      <td>NaN</td>\n",
       "      <td>NaN</td>\n",
       "      <td>NaN</td>\n",
       "      <td>NaN</td>\n",
       "      <td>NaN</td>\n",
       "      <td>NaN</td>\n",
       "      <td>NaN</td>\n",
       "      <td>NaN</td>\n",
       "    </tr>\n",
       "    <tr>\n",
       "      <th>2987004</th>\n",
       "      <td>0</td>\n",
       "      <td>86506</td>\n",
       "      <td>50.0</td>\n",
       "      <td>H</td>\n",
       "      <td>4497</td>\n",
       "      <td>514.0</td>\n",
       "      <td>150.0</td>\n",
       "      <td>mastercard</td>\n",
       "      <td>102.0</td>\n",
       "      <td>credit</td>\n",
       "      <td>...</td>\n",
       "      <td>0.0</td>\n",
       "      <td>0.0</td>\n",
       "      <td>0.0</td>\n",
       "      <td>0.0</td>\n",
       "      <td>0.0</td>\n",
       "      <td>0.0</td>\n",
       "      <td>0.0</td>\n",
       "      <td>0.0</td>\n",
       "      <td>0.0</td>\n",
       "      <td>0.0</td>\n",
       "    </tr>\n",
       "  </tbody>\n",
       "</table>\n",
       "<p>5 rows × 393 columns</p>\n",
       "</div>"
      ],
      "text/plain": [
       "               isFraud  TransactionDT  TransactionAmt ProductCD  card1  card2  \\\n",
       "TransactionID                                                                   \n",
       "2987000              0          86400            68.5         W  13926    NaN   \n",
       "2987001              0          86401            29.0         W   2755  404.0   \n",
       "2987002              0          86469            59.0         W   4663  490.0   \n",
       "2987003              0          86499            50.0         W  18132  567.0   \n",
       "2987004              0          86506            50.0         H   4497  514.0   \n",
       "\n",
       "               card3       card4  card5   card6  ...  V330  V331  V332  V333  \\\n",
       "TransactionID                                    ...                           \n",
       "2987000        150.0    discover  142.0  credit  ...   NaN   NaN   NaN   NaN   \n",
       "2987001        150.0  mastercard  102.0  credit  ...   NaN   NaN   NaN   NaN   \n",
       "2987002        150.0        visa  166.0   debit  ...   NaN   NaN   NaN   NaN   \n",
       "2987003        150.0  mastercard  117.0   debit  ...   NaN   NaN   NaN   NaN   \n",
       "2987004        150.0  mastercard  102.0  credit  ...   0.0   0.0   0.0   0.0   \n",
       "\n",
       "              V334 V335  V336  V337  V338  V339  \n",
       "TransactionID                                    \n",
       "2987000        NaN  NaN   NaN   NaN   NaN   NaN  \n",
       "2987001        NaN  NaN   NaN   NaN   NaN   NaN  \n",
       "2987002        NaN  NaN   NaN   NaN   NaN   NaN  \n",
       "2987003        NaN  NaN   NaN   NaN   NaN   NaN  \n",
       "2987004        0.0  0.0   0.0   0.0   0.0   0.0  \n",
       "\n",
       "[5 rows x 393 columns]"
      ]
     },
     "execution_count": 5,
     "metadata": {},
     "output_type": "execute_result"
    }
   ],
   "source": [
    "train.head()"
   ]
  },
  {
   "cell_type": "code",
   "execution_count": 6,
   "metadata": {},
   "outputs": [
    {
     "name": "stdout",
     "output_type": "stream",
     "text": [
      "<class 'pandas.core.frame.DataFrame'>\n",
      "Int64Index: 180000 entries, 2987000 to 3166999\n",
      "Columns: 393 entries, isFraud to V339\n",
      "dtypes: float64(376), int64(3), object(14)\n",
      "memory usage: 541.1+ MB\n"
     ]
    }
   ],
   "source": [
    "train.info()"
   ]
  },
  {
   "cell_type": "code",
   "execution_count": 7,
   "metadata": {},
   "outputs": [
    {
     "name": "stdout",
     "output_type": "stream",
     "text": [
      "<class 'pandas.core.frame.DataFrame'>\n",
      "Int64Index: 100001 entries, 3287000 to 3387000\n",
      "Columns: 393 entries, isFraud to V339\n",
      "dtypes: float64(376), int64(3), object(14)\n",
      "memory usage: 300.6+ MB\n"
     ]
    }
   ],
   "source": [
    "l_board.info()"
   ]
  },
  {
   "cell_type": "code",
   "execution_count": 8,
   "metadata": {},
   "outputs": [
    {
     "data": {
      "image/png": "[encoded data removed]",
      "text/plain": [
       "<Figure size 1080x360 with 1 Axes>"
      ]
     },
     "metadata": {
      "needs_background": "light"
     },
     "output_type": "display_data"
    }
   ],
   "source": [
    "fig = plt.figure(figsize=(15, 5))\n",
    "train_stats, test_stats = train.skew(), l_board.skew()\n",
    "plt.plot(train_stats, color=\"blue\", label=\"train\")\n",
    "plt.plot(test_stats, color=\"green\", label=\"test\")\n",
    "plt.xticks(range(train_stats.shape[0]), train_stats.index, rotation=90)\n",
    "plt.xlabel(\"features\", size=15)\n",
    "plt.xlim(0, len(train_stats))\n",
    "plt.ylabel(\"skew\", size=15)\n",
    "plt.show()"
   ]
  },
  {
   "cell_type": "code",
   "execution_count": 9,
   "metadata": {},
   "outputs": [
    {
     "data": {
      "image/png": "[encoded data removed]",
      "text/plain": [
       "<Figure size 1080x360 with 1 Axes>"
      ]
     },
     "metadata": {
      "needs_background": "light"
     },
     "output_type": "display_data"
    }
   ],
   "source": [
    "fig = plt.figure(figsize=(15, 5))\n",
    "train_stats, test_stats = train.kurtosis(), l_board.kurtosis()\n",
    "plt.plot(train_stats, color=\"blue\", label=\"train\")\n",
    "plt.plot(test_stats, color=\"green\", label=\"test\")\n",
    "plt.xticks(range(train_stats.shape[0]), train_stats.index, rotation=90)\n",
    "plt.xlabel(\"features\", size=15)\n",
    "plt.ylabel(\"kurtosis\", size=15)\n",
    "plt.xlim(0, len(train_stats))\n",
    "plt.show()"
   ]
  },
  {
   "cell_type": "markdown",
   "metadata": {},
   "source": [
    " ##### Как видно статистики на данных и ледерборде серьезно отличаются, поэтому в лоб, ожидать схожих данных на валидации и лидерюорде не приходиться"
   ]
  },
  {
   "cell_type": "markdown",
   "metadata": {},
   "source": [
    "#### Задание 1: сделать Hold-Out валидацию с разбиением, размер которого будет адеквтаным, по вашему мнению; разбиение проводить по id-транзакции (TransactionID), обучать модель градиетного бустинга любой реализации с подбором числа деревьев по early_stopping критерию до достижения сходимости. Оценить качество модели на валидационной выборке, оценить расхождение по сравнению с качеством на обучающей выборке и валидационной выборке. Оценить качество на ЛБ, сравнить с качеством на обучении и валидации. Сделать выводы."
   ]
  },
  {
   "cell_type": "code",
   "execution_count": 5,
   "metadata": {},
   "outputs": [],
   "source": [
    "object_features = train.select_dtypes(include=[np.object]).columns"
   ]
  },
  {
   "cell_type": "code",
   "execution_count": 13,
   "metadata": {},
   "outputs": [],
   "source": [
    "train[object_features]= train[object_features].astype('category')\n",
    "l_board[object_features]= l_board[object_features].astype('category')"
   ]
  },
  {
   "cell_type": "code",
   "execution_count": 8,
   "metadata": {},
   "outputs": [],
   "source": [
    "x_train,x_valid,y_train,y_valid =\\\n",
    "train_test_split(train.drop('isFraud',axis=1),train['isFraud'], test_size = 0.2,random_state=30,stratify =train['isFraud'])"
   ]
  },
  {
   "cell_type": "code",
   "execution_count": 8,
   "metadata": {},
   "outputs": [],
   "source": [
    "params_1 = {\n",
    "    \"boosting_type\": \"gbdt\",\n",
    "    \"objective\": \"binary\",\n",
    "    'num_leaves':55,\n",
    "    'max_depth':7,\n",
    "    'learning_rate':0.2,\n",
    "    'n_estimators':800,\n",
    "    \"metric\": \"auc\",\n",
    "    \"n_jobs\": 15,\n",
    "    'reg_alpha':0.5,\n",
    "    'reg_lambda':0.5,\n",
    "    \"random_state\": 30,\n",
    "    'device':\"gpu\"\n",
    "}\n"
   ]
  },
  {
   "cell_type": "code",
   "execution_count": 14,
   "metadata": {},
   "outputs": [],
   "source": [
    "model_1 = lgb.LGBMClassifier(**params_1)"
   ]
  },
  {
   "cell_type": "code",
   "execution_count": 15,
   "metadata": {},
   "outputs": [
    {
     "name": "stdout",
     "output_type": "stream",
     "text": [
      "Wall time: 20.6 s\n"
     ]
    },
    {
     "data": {
      "text/plain": [
       "LGBMClassifier(device='gpu', learning_rate=0.2, max_depth=7, metric='auc',\n",
       "               n_estimators=800, n_jobs=15, num_leaves=55, objective='binary',\n",
       "               random_state=30, reg_alpha=0.5, reg_lambda=0.5)"
      ]
     },
     "execution_count": 15,
     "metadata": {},
     "output_type": "execute_result"
    }
   ],
   "source": [
    "%%time\n",
    "model_1.fit(x_train,y_train,early_stopping_rounds  = 50,\\\n",
    "            eval_set =[(x_train,y_train),(x_valid,y_valid)],verbose = False)"
   ]
  },
  {
   "cell_type": "code",
   "execution_count": 16,
   "metadata": {},
   "outputs": [
    {
     "data": {
      "text/plain": [
       "(557,\n",
       " defaultdict(collections.OrderedDict,\n",
       "             {'training': OrderedDict([('auc', 0.9999999965238866)]),\n",
       "              'valid_1': OrderedDict([('auc', 0.955143520041158)])}))"
      ]
     },
     "execution_count": 16,
     "metadata": {},
     "output_type": "execute_result"
    }
   ],
   "source": [
    "model_1.best_iteration_,model_1.best_score_"
   ]
  },
  {
   "cell_type": "markdown",
   "metadata": {},
   "source": [
    "Качество модели на валидационной выборке 0,958  что кажется очень хорошим результатом. При  этом на трейн почти единица. \n",
    "Что говорит, что модель сильно подстроилась под данные, но при этом разность не сильно большая меньеше 5%"
   ]
  },
  {
   "cell_type": "markdown",
   "metadata": {},
   "source": [
    "Оценим качество на лидер борде"
   ]
  },
  {
   "cell_type": "code",
   "execution_count": 17,
   "metadata": {},
   "outputs": [
    {
     "data": {
      "text/plain": [
       "0.8411316228406028"
      ]
     },
     "execution_count": 17,
     "metadata": {},
     "output_type": "execute_result"
    }
   ],
   "source": [
    "roc_auc_score(l_board['isFraud'], model_1.predict_proba(l_board.drop('isFraud',axis=1))[:,1])"
   ]
  },
  {
   "cell_type": "markdown",
   "metadata": {},
   "source": [
    "Наблюдаем сильное отличие показателя качества на валидации и лидерборде, почти 10%  \n",
    "Сказывается серьезные отличия в данныых на трйн и LB. Я думааю нужно упростить модель и увеличить регурлиризацию. Это скорее всего уменьшит скор валидации, но может привезти к росту качетсва на LB"
   ]
  },
  {
   "cell_type": "code",
   "execution_count": 7,
   "metadata": {},
   "outputs": [],
   "source": [
    "params_2 = {\n",
    "    \"boosting_type\": \"gbdt\",\n",
    "    \"objective\": \"binary\",\n",
    "    'num_leaves':45,\n",
    "    'max_depth':4,\n",
    "    'learning_rate':0.1,\n",
    "    'n_estimators':250,\n",
    "    \"metric\": \"auc\",\n",
    "    \"n_jobs\": 15,\n",
    "    'reg_alpha':2,\n",
    "    'reg_lambda':2,\n",
    "    \"random_state\": 30,\n",
    "    'device':\"gpu\"\n",
    "}"
   ]
  },
  {
   "cell_type": "code",
   "execution_count": 19,
   "metadata": {},
   "outputs": [],
   "source": [
    "model_2 = lgb.LGBMClassifier(**params_2)"
   ]
  },
  {
   "cell_type": "code",
   "execution_count": 20,
   "metadata": {},
   "outputs": [
    {
     "name": "stdout",
     "output_type": "stream",
     "text": [
      "Wall time: 5.91 s\n"
     ]
    },
    {
     "data": {
      "text/plain": [
       "LGBMClassifier(device='gpu', max_depth=4, metric='auc', n_estimators=250,\n",
       "               n_jobs=15, num_leaves=45, objective='binary', random_state=30,\n",
       "               reg_alpha=2, reg_lambda=2)"
      ]
     },
     "execution_count": 20,
     "metadata": {},
     "output_type": "execute_result"
    }
   ],
   "source": [
    "%%time\n",
    "model_2.fit(x_train,y_train,early_stopping_rounds  = 50,\\\n",
    "            eval_set =[(x_train,y_train),(x_valid,y_valid)],verbose = False)"
   ]
  },
  {
   "cell_type": "code",
   "execution_count": 21,
   "metadata": {},
   "outputs": [
    {
     "data": {
      "text/plain": [
       "(250,\n",
       " defaultdict(collections.OrderedDict,\n",
       "             {'training': OrderedDict([('auc', 0.9499340651688626)]),\n",
       "              'valid_1': OrderedDict([('auc', 0.9214691653267028)])}),\n",
       " 0.865096111426706)"
      ]
     },
     "execution_count": 21,
     "metadata": {},
     "output_type": "execute_result"
    }
   ],
   "source": [
    "model_2.best_iteration_,\\\n",
    "model_2.best_score_,roc_auc_score(l_board['isFraud'],\\\n",
    "            model_2.predict_proba(l_board.drop('isFraud',axis=1))[:,1])\n"
   ]
  },
  {
   "cell_type": "markdown",
   "metadata": {},
   "source": [
    "Как  видно упростив модель, скор на валилдации заметно упал, но зато немного прибавил скор на лидер борде. Но все равно разность большая"
   ]
  },
  {
   "cell_type": "code",
   "execution_count": null,
   "metadata": {},
   "outputs": [],
   "source": []
  },
  {
   "cell_type": "markdown",
   "metadata": {},
   "source": [
    "#### Задание 2: сделать Hold-Out валидацию с разбиением на 3 выборки, разбиение проводить по id-транзакции (TransactionID), размер каждой выборки подобрать самостоятельно. Повторить процедуру из п.1. для каждой выборки."
   ]
  },
  {
   "cell_type": "code",
   "execution_count": 22,
   "metadata": {},
   "outputs": [],
   "source": [
    "x_train,x_valid,y_train,y_valid = \\\n",
    "train_test_split(train.drop('isFraud',axis=1),train['isFraud'], test_size = 0.3,random_state=30,stratify =train['isFraud'])"
   ]
  },
  {
   "cell_type": "code",
   "execution_count": 23,
   "metadata": {},
   "outputs": [],
   "source": [
    "x_valid,x_test,y_valid,y_test = \\\n",
    "    train_test_split(x_valid,y_valid, test_size = 0.5 ,random_state=30,stratify =y_valid)"
   ]
  },
  {
   "cell_type": "code",
   "execution_count": 24,
   "metadata": {},
   "outputs": [
    {
     "name": "stdout",
     "output_type": "stream",
     "text": [
      "<class 'pandas.core.frame.DataFrame'>\n",
      "Int64Index: 27000 entries, 3087188 to 3115977\n",
      "Columns: 392 entries, TransactionDT to V339\n",
      "dtypes: category(14), float64(376), int64(2)\n",
      "memory usage: 78.4 MB\n"
     ]
    }
   ],
   "source": [
    "x_valid.info()\n"
   ]
  },
  {
   "cell_type": "code",
   "execution_count": 25,
   "metadata": {},
   "outputs": [
    {
     "name": "stdout",
     "output_type": "stream",
     "text": [
      "<class 'pandas.core.frame.DataFrame'>\n",
      "Int64Index: 27000 entries, 3027424 to 2992991\n",
      "Columns: 392 entries, TransactionDT to V339\n",
      "dtypes: category(14), float64(376), int64(2)\n",
      "memory usage: 78.4 MB\n"
     ]
    }
   ],
   "source": [
    "x_test.info()"
   ]
  },
  {
   "cell_type": "code",
   "execution_count": 26,
   "metadata": {},
   "outputs": [],
   "source": [
    "model_1 = lgb.LGBMClassifier(**params_1)"
   ]
  },
  {
   "cell_type": "code",
   "execution_count": 27,
   "metadata": {},
   "outputs": [
    {
     "name": "stdout",
     "output_type": "stream",
     "text": [
      "Wall time: 11.6 s\n"
     ]
    },
    {
     "data": {
      "text/plain": [
       "LGBMClassifier(device='gpu', learning_rate=0.2, max_depth=7, metric='auc',\n",
       "               n_estimators=800, n_jobs=15, num_leaves=55, objective='binary',\n",
       "               random_state=30, reg_alpha=0.5, reg_lambda=0.5)"
      ]
     },
     "execution_count": 27,
     "metadata": {},
     "output_type": "execute_result"
    }
   ],
   "source": [
    "%%time\n",
    "model_1.fit(x_train,y_train,early_stopping_rounds  = 50,\\\n",
    "            eval_set =[(x_train,y_train),(x_valid,y_valid)],verbose = False)"
   ]
  },
  {
   "cell_type": "code",
   "execution_count": 28,
   "metadata": {},
   "outputs": [
    {
     "name": "stdout",
     "output_type": "stream",
     "text": [
      "лучшая итерация 312\n",
      "Лучший скор трайн 0.9998021934013668 на валидации  0.9490083327238654\n",
      "Cкор на отложенной выборке 0.9579443926953064\n",
      "Cкор на либерборде 0.8427258009591625\n"
     ]
    }
   ],
   "source": [
    "print(f'лучшая итерация {model_1.best_iteration_}')\n",
    "print(f\"Лучший скор трайн {model_1.best_score_['training']['auc']} на валидации  {model_1.best_score_['valid_1']['auc']}\")\n",
    "print(f'Cкор на отложенной выборке {roc_auc_score(y_test, model_1.predict_proba(x_test)[:,1])}')\n",
    "print(f\"Cкор на либерборде {roc_auc_score(l_board['isFraud'], model_1.predict_proba(l_board.drop('isFraud',axis=1))[:,1])}\")"
   ]
  },
  {
   "cell_type": "markdown",
   "metadata": {},
   "source": [
    "Как видно скор на отложенной выборке почти такой же как и на валидации, что говорит о тоом, что на обучающей выбоке схожие данные. Но лидер борде, опять имеем очень сильный отрыв .  \n",
    "Опять попробуем упростить модель"
   ]
  },
  {
   "cell_type": "code",
   "execution_count": 29,
   "metadata": {},
   "outputs": [],
   "source": [
    "model_2 = lgb.LGBMClassifier(**params_2)"
   ]
  },
  {
   "cell_type": "code",
   "execution_count": 30,
   "metadata": {},
   "outputs": [
    {
     "name": "stdout",
     "output_type": "stream",
     "text": [
      "Wall time: 5.38 s\n"
     ]
    },
    {
     "data": {
      "text/plain": [
       "LGBMClassifier(device='gpu', max_depth=4, metric='auc', n_estimators=250,\n",
       "               n_jobs=15, num_leaves=45, objective='binary', random_state=30,\n",
       "               reg_alpha=2, reg_lambda=2)"
      ]
     },
     "execution_count": 30,
     "metadata": {},
     "output_type": "execute_result"
    }
   ],
   "source": [
    "%%time\n",
    "model_2.fit(x_train,y_train,early_stopping_rounds  = 50,\\\n",
    "            eval_set =[(x_train,y_train),(x_valid,y_valid)],verbose = False)"
   ]
  },
  {
   "cell_type": "code",
   "execution_count": 31,
   "metadata": {},
   "outputs": [
    {
     "name": "stdout",
     "output_type": "stream",
     "text": [
      "лучшая итерация 250\n",
      "Лучший скор трайн 0.9523132200046518 на валидации  0.9206329426458837\n",
      "Cкор на отложенной выборке 0.926264969730092\n",
      "Cкор на либерборде 0.8625098265152018\n"
     ]
    }
   ],
   "source": [
    "print(f'лучшая итерация {model_2.best_iteration_}')\n",
    "print(f\"Лучший скор трайн {model_2.best_score_['training']['auc']} на валидации  {model_2.best_score_['valid_1']['auc']}\")\n",
    "print(f'Cкор на отложенной выборке {roc_auc_score(y_test, model_2.predict_proba(x_test)[:,1])}')\n",
    "print(f\"Cкор на либерборде {roc_auc_score(l_board['isFraud'], model_2.predict_proba(l_board.drop('isFraud',axis=1))[:,1])}\")"
   ]
  },
  {
   "cell_type": "markdown",
   "metadata": {},
   "source": [
    "Как видно показатель качества не сильно отличается на валидационной и на тестовой выборке и их сильно преврсходит лидерборд. То есть модель на своих данных стабильна. Но как только появляются данне м ЛБ, все идет не так. Таким образом,  модель на ЛБ будет работать по доугому, видимо данные сильно отличаются"
   ]
  },
  {
   "cell_type": "code",
   "execution_count": null,
   "metadata": {},
   "outputs": [],
   "source": []
  },
  {
   "cell_type": "markdown",
   "metadata": {},
   "source": [
    "### Задание 3: построить доверительный интервал на данных из п.2 на основе бутстреп выборок, оценить качество модели на ЛБ относительно полученного доверительного интервала. Сделать выводы."
   ]
  },
  {
   "cell_type": "code",
   "execution_count": 32,
   "metadata": {},
   "outputs": [
    {
     "data": {
      "text/plain": [
       "(0.914454705239818, 0.9376253936288247)"
      ]
     },
     "execution_count": 32,
     "metadata": {},
     "output_type": "execute_result"
    }
   ],
   "source": [
    "# доверительный интервал на данных из п.2 на основе бутстреп выборок\n",
    "np.random.seed(1)\n",
    "bootstrap_calculate_confidence_interval(y_test,model_2.predict_proba(x_test)[:,1], roc_auc_score)\n"
   ]
  },
  {
   "cell_type": "code",
   "execution_count": 33,
   "metadata": {},
   "outputs": [
    {
     "data": {
      "text/plain": [
       "0.8625098265152018"
      ]
     },
     "execution_count": 33,
     "metadata": {},
     "output_type": "execute_result"
    }
   ],
   "source": [
    "# Скор на лидерборде\n",
    "roc_auc_score(l_board['isFraud'], model_2.predict_proba(l_board.drop('isFraud',axis=1))[:,1])"
   ]
  },
  {
   "cell_type": "markdown",
   "metadata": {},
   "source": [
    "Данные на лидерборде не попадают в доверительный интервал"
   ]
  },
  {
   "cell_type": "markdown",
   "metadata": {},
   "source": [
    " Видимо данные сильно отличаются в моделе и лидерборде."
   ]
  },
  {
   "cell_type": "markdown",
   "metadata": {},
   "source": [
    "### Задание 4: выполнить Adversarial Validation, подобрать объекты из обучающей выборки, которые сильно похожи на объекты из assignment_2_test.csv, и использовать их в качестве валидационного набора. Оценить качество модели на ЛБ, сделать выводы о полученных результатах."
   ]
  },
  {
   "cell_type": "markdown",
   "metadata": {},
   "source": [
    "Пробовал на полнойм трейне весь результат лежит до 0,1 , дмного вариантов пробовал, такой подход дал результат по лучше  \n",
    "Поэтому  \n",
    "Возмем из трейна , для обучения Adversarial Validation случайные 100 000 , а на остальных 80 000 будем отбирать выборку для валидации"
   ]
  },
  {
   "cell_type": "markdown",
   "metadata": {},
   "source": [
    "Так же обязательно нужно убрать TransactionDT, так как по нему модель чекто понимает из какой выборки данные"
   ]
  },
  {
   "cell_type": "code",
   "execution_count": 9,
   "metadata": {},
   "outputs": [],
   "source": [
    "n = 80000\n",
    "x_adv_tr,x_adv_test = train_test_split(train.drop(['isFraud','TransactionDT'],axis=1), \\\n",
    "                                test_size = n,random_state=31,stratify =train['isFraud'],shuffle = True)"
   ]
  },
  {
   "cell_type": "code",
   "execution_count": 10,
   "metadata": {},
   "outputs": [
    {
     "data": {
      "text/plain": [
       "((100000, 391), (80000, 391))"
      ]
     },
     "execution_count": 10,
     "metadata": {},
     "output_type": "execute_result"
    }
   ],
   "source": [
    "x_adv_tr.shape, x_adv_test.shape"
   ]
  },
  {
   "cell_type": "code",
   "execution_count": 11,
   "metadata": {},
   "outputs": [],
   "source": [
    "x_adv = pd.concat([\n",
    "    x_adv_tr, l_board.drop(['isFraud','TransactionDT'],axis=1)], axis=0\n",
    ")\n",
    "y_adv = np.hstack((np.zeros(x_adv_tr.shape[0]), np.ones(l_board.shape[0])))\n",
    "assert x_adv.shape[0] == y_adv.shape[0]"
   ]
  },
  {
   "cell_type": "code",
   "execution_count": 16,
   "metadata": {},
   "outputs": [],
   "source": [
    "x_adv[object_features]= x_adv[object_features].astype('category')"
   ]
  },
  {
   "cell_type": "markdown",
   "metadata": {},
   "source": [
    "Поскольку признаки сильно разные, необходимо  сильно упростить и ослабить модель, что бы она могла не переобучилась на тренировочной выборке"
   ]
  },
  {
   "cell_type": "code",
   "execution_count": null,
   "metadata": {},
   "outputs": [],
   "source": []
  },
  {
   "cell_type": "code",
   "execution_count": 20,
   "metadata": {},
   "outputs": [
    {
     "name": "stdout",
     "output_type": "stream",
     "text": [
      "Wall time: 4.9 s\n"
     ]
    },
    {
     "data": {
      "text/plain": [
       "LGBMClassifier()"
      ]
     },
     "execution_count": 20,
     "metadata": {},
     "output_type": "execute_result"
    }
   ],
   "source": [
    "%%time\n",
    "model_adv = lgb.LGBMClassifier()\n",
    "model_adv.fit(x_adv,y_adv,verbose = False )\n"
   ]
  },
  {
   "cell_type": "code",
   "execution_count": 21,
   "metadata": {},
   "outputs": [
    {
     "data": {
      "text/plain": [
       "0.9195630957190428"
      ]
     },
     "execution_count": 21,
     "metadata": {},
     "output_type": "execute_result"
    }
   ],
   "source": [
    "roc_auc_score(y_adv, model_adv.predict_proba(x_adv)[:,1])"
   ]
  },
  {
   "cell_type": "markdown",
   "metadata": {},
   "source": [
    "Как видно 'auc' очень высокий"
   ]
  },
  {
   "cell_type": "code",
   "execution_count": 22,
   "metadata": {},
   "outputs": [],
   "source": [
    "\n",
    "pred = model_adv.predict_proba(x_adv_test)[:,1]"
   ]
  },
  {
   "cell_type": "code",
   "execution_count": 23,
   "metadata": {},
   "outputs": [
    {
     "data": {
      "text/plain": [
       "(0.0, 0.1]    15753\n",
       "(0.1, 0.2]    22487\n",
       "(0.2, 0.3]    18201\n",
       "(0.3, 0.4]     8261\n",
       "(0.4, 0.5]     6625\n",
       "(0.5, 0.6]     3275\n",
       "(0.6, 0.7]     2571\n",
       "(0.7, 0.8]     2492\n",
       "(0.8, 0.9]      241\n",
       "(0.9, 1.0]       94\n",
       "dtype: int64"
      ]
     },
     "execution_count": 23,
     "metadata": {},
     "output_type": "execute_result"
    }
   ],
   "source": [
    "pd.cut(\n",
    "    pred, bins=np.arange(0, 1.01, 0.1)\n",
    ").value_counts().sort_index()"
   ]
  },
  {
   "cell_type": "markdown",
   "metadata": {},
   "source": [
    "Возмем на валидацию, все что больше или равно 0,3"
   ]
  },
  {
   "cell_type": "code",
   "execution_count": 24,
   "metadata": {},
   "outputs": [],
   "source": [
    "# индексы, где значение вероятности более 0,3\n",
    "ind_val = np.where(pred>0.35)[0]"
   ]
  },
  {
   "cell_type": "code",
   "execution_count": 25,
   "metadata": {},
   "outputs": [
    {
     "data": {
      "text/plain": [
       "18674"
      ]
     },
     "execution_count": 25,
     "metadata": {},
     "output_type": "execute_result"
    }
   ],
   "source": [
    "len(ind_val)"
   ]
  },
  {
   "cell_type": "markdown",
   "metadata": {},
   "source": [
    "Получилось 18674 строк для валидации - это не плохо. Посмотрим как распределен таргет в этой выборке и сравним его с общим"
   ]
  },
  {
   "cell_type": "code",
   "execution_count": 26,
   "metadata": {},
   "outputs": [
    {
     "data": {
      "text/plain": [
       "0    0.971439\n",
       "1    0.028561\n",
       "Name: isFraud, dtype: float64"
      ]
     },
     "execution_count": 26,
     "metadata": {},
     "output_type": "execute_result"
    }
   ],
   "source": [
    "# Общий таргет\n",
    "a = train['isFraud'].value_counts(normalize = True)\n",
    "a"
   ]
  },
  {
   "cell_type": "code",
   "execution_count": 27,
   "metadata": {},
   "outputs": [
    {
     "data": {
      "text/plain": [
       "0    0.973653\n",
       "1    0.026347\n",
       "Name: isFraud, dtype: float64"
      ]
     },
     "execution_count": 27,
     "metadata": {},
     "output_type": "execute_result"
    }
   ],
   "source": [
    "# Таргет в нашей выборке\n",
    "b = train.iloc[ind_val]['isFraud'].value_counts(normalize = True)\n",
    "b"
   ]
  },
  {
   "cell_type": "markdown",
   "metadata": {},
   "source": [
    "Как видно есть различия. Уберем немного нулевых значений, что бы сравнять распределение"
   ]
  },
  {
   "cell_type": "code",
   "execution_count": 28,
   "metadata": {},
   "outputs": [
    {
     "name": "stdout",
     "output_type": "stream",
     "text": [
      "общий объем выборки 18674\n",
      "убрать -  41\n",
      "остается 18633\n"
     ]
    }
   ],
   "source": [
    "print(f'общий объем выборки {len(ind_val)}')\n",
    "for_del = int(len(ind_val)*b[0] - len(ind_val)*a[0])\n",
    "print(f'убрать -  {for_del}')\n",
    "count = len(ind_val) - for_del\n",
    "print(f'остается {count}')"
   ]
  },
  {
   "cell_type": "code",
   "execution_count": 29,
   "metadata": {},
   "outputs": [],
   "source": [
    "k=0\n",
    "while k<for_del:\n",
    "    ind =  np.random.choice(ind_val)\n",
    "    if train.iloc[ind]['isFraud']==0:\n",
    "        index = np.argwhere(ind_val==ind)\n",
    "        ind_val = np.delete(ind_val,index)\n",
    "        k+=1"
   ]
  },
  {
   "cell_type": "code",
   "execution_count": 30,
   "metadata": {},
   "outputs": [
    {
     "data": {
      "text/plain": [
       "18633"
      ]
     },
     "execution_count": 30,
     "metadata": {},
     "output_type": "execute_result"
    }
   ],
   "source": [
    "len(ind_val)"
   ]
  },
  {
   "cell_type": "code",
   "execution_count": 31,
   "metadata": {},
   "outputs": [
    {
     "data": {
      "text/plain": [
       "0    0.973595\n",
       "1    0.026405\n",
       "Name: isFraud, dtype: float64"
      ]
     },
     "execution_count": 31,
     "metadata": {},
     "output_type": "execute_result"
    }
   ],
   "source": [
    "train.iloc[ind_val]['isFraud'].value_counts(normalize = True)"
   ]
  },
  {
   "cell_type": "code",
   "execution_count": 32,
   "metadata": {},
   "outputs": [],
   "source": [
    "X_test = train.iloc[ind_val]"
   ]
  },
  {
   "cell_type": "code",
   "execution_count": 33,
   "metadata": {},
   "outputs": [
    {
     "name": "stdout",
     "output_type": "stream",
     "text": [
      "<class 'pandas.core.frame.DataFrame'>\n",
      "Int64Index: 18633 entries, 2987005 to 3066998\n",
      "Columns: 393 entries, isFraud to V339\n",
      "dtypes: category(14), float64(376), int64(3)\n",
      "memory usage: 54.3 MB\n"
     ]
    }
   ],
   "source": [
    "X_test.info()"
   ]
  },
  {
   "cell_type": "code",
   "execution_count": 34,
   "metadata": {},
   "outputs": [],
   "source": [
    "X_train= train.drop(X_test.index)"
   ]
  },
  {
   "cell_type": "code",
   "execution_count": 35,
   "metadata": {},
   "outputs": [
    {
     "name": "stdout",
     "output_type": "stream",
     "text": [
      "<class 'pandas.core.frame.DataFrame'>\n",
      "Int64Index: 161367 entries, 2987000 to 3166999\n",
      "Columns: 393 entries, isFraud to V339\n",
      "dtypes: category(14), float64(376), int64(3)\n",
      "memory usage: 470.0 MB\n"
     ]
    }
   ],
   "source": [
    "X_train.info()"
   ]
  },
  {
   "cell_type": "code",
   "execution_count": 36,
   "metadata": {},
   "outputs": [],
   "source": [
    "y_train=X_train['isFraud']\n",
    "y_test=X_test['isFraud']\n",
    "X_train=X_train.drop('isFraud',axis=1)\n",
    "X_test=X_test.drop('isFraud',axis=1)\n"
   ]
  },
  {
   "cell_type": "code",
   "execution_count": 37,
   "metadata": {},
   "outputs": [],
   "source": [
    "model_3 = lgb.LGBMClassifier()"
   ]
  },
  {
   "cell_type": "code",
   "execution_count": 38,
   "metadata": {},
   "outputs": [
    {
     "name": "stdout",
     "output_type": "stream",
     "text": [
      "Wall time: 4.25 s\n"
     ]
    },
    {
     "data": {
      "text/plain": [
       "LGBMClassifier()"
      ]
     },
     "execution_count": 38,
     "metadata": {},
     "output_type": "execute_result"
    }
   ],
   "source": [
    "%%time\n",
    "model_3.fit(X_train,y_train,verbose = False)\n"
   ]
  },
  {
   "cell_type": "code",
   "execution_count": 39,
   "metadata": {},
   "outputs": [
    {
     "data": {
      "text/plain": [
       "(0.8664550705058922, 0.9297316683271016)"
      ]
     },
     "execution_count": 39,
     "metadata": {},
     "output_type": "execute_result"
    }
   ],
   "source": [
    "# Скор на валидации и лидерборде\n",
    "\n",
    "roc_auc_score(l_board['isFraud'], model_3.predict_proba(l_board.drop('isFraud',axis=1))[:,1]),\\\n",
    "roc_auc_score(y_test, model_3.predict_proba(X_test)[:,1])"
   ]
  },
  {
   "cell_type": "markdown",
   "metadata": {},
   "source": [
    "В общем два дня крутил, не получается приблизить скор валидационной выборки к тестовой"
   ]
  },
  {
   "cell_type": "markdown",
   "metadata": {},
   "source": [
    "### Задание 5: сделать KFold / StratifiedKFold валидацию (на ваше усмотрение), оценить получаемые качество и разброс по метрике качества. Сделать выводы об устойчивости кросс-валидации, сходимости оценки на кросс-валидации и отложенном наборе данных; Оценить качество на ЛБ, сделать выводы"
   ]
  },
  {
   "cell_type": "code",
   "execution_count": 1274,
   "metadata": {},
   "outputs": [],
   "source": [
    "# создадим отложенную выборку\n",
    "x_train,x_test,y_train,y_test = \\\n",
    "    train_test_split(train.drop('isFraud',axis=1),train['isFraud'], test_size = 0.2,random_state=1)"
   ]
  },
  {
   "cell_type": "code",
   "execution_count": 1275,
   "metadata": {},
   "outputs": [],
   "source": [
    "model=lgb.LGBMClassifier(**params_1)"
   ]
  },
  {
   "cell_type": "code",
   "execution_count": 1280,
   "metadata": {},
   "outputs": [],
   "source": [
    "cv_strategy = KFold(n_splits=10, shuffle=True, random_state=1)"
   ]
  },
  {
   "cell_type": "code",
   "execution_count": 1281,
   "metadata": {},
   "outputs": [
    {
     "name": "stdout",
     "output_type": "stream",
     "text": [
      "Fold: 1, train-observations = 129600, valid-observations = 14400\n",
      "train-score = 1.0, valid-score = 0.9556\n",
      "=====================================================================\n",
      "Fold: 2, train-observations = 129600, valid-observations = 14400\n",
      "train-score = 1.0, valid-score = 0.9545\n",
      "=====================================================================\n",
      "Fold: 3, train-observations = 129600, valid-observations = 14400\n",
      "train-score = 1.0, valid-score = 0.9553\n",
      "=====================================================================\n",
      "Fold: 4, train-observations = 129600, valid-observations = 14400\n",
      "train-score = 0.9974, valid-score = 0.9615\n",
      "=====================================================================\n",
      "Fold: 5, train-observations = 129600, valid-observations = 14400\n",
      "train-score = 0.9998, valid-score = 0.9612\n",
      "=====================================================================\n",
      "Fold: 6, train-observations = 129600, valid-observations = 14400\n",
      "train-score = 1.0, valid-score = 0.9542\n",
      "=====================================================================\n",
      "Fold: 7, train-observations = 129600, valid-observations = 14400\n",
      "train-score = 0.9996, valid-score = 0.9577\n",
      "=====================================================================\n",
      "Fold: 8, train-observations = 129600, valid-observations = 14400\n",
      "train-score = 0.9998, valid-score = 0.9663\n",
      "=====================================================================\n",
      "Fold: 9, train-observations = 129600, valid-observations = 14400\n",
      "train-score = 1.0, valid-score = 0.956\n",
      "=====================================================================\n",
      "Fold: 10, train-observations = 129600, valid-observations = 14400\n",
      "train-score = 1.0, valid-score = 0.9562\n",
      "=====================================================================\n",
      "CV-results train: 0.9996 +/- 0.001\n",
      "CV-results valid: 0.9579 +/- 0.004\n",
      "OOF-score = 0.9546\n"
     ]
    }
   ],
   "source": [
    "cv =  make_cross_validation(x_train,\n",
    "                          y_train,\n",
    "                          model,\n",
    "                          roc_auc_score,\n",
    "                          cv_strategy)"
   ]
  },
  {
   "cell_type": "code",
   "execution_count": 1282,
   "metadata": {},
   "outputs": [
    {
     "data": {
      "text/plain": [
       "(0.9662971693203914, 0.9542470380490544)"
      ]
     },
     "execution_count": 1282,
     "metadata": {},
     "output_type": "execute_result"
    }
   ],
   "source": [
    "max(cv[3]),min(cv[3])"
   ]
  },
  {
   "cell_type": "markdown",
   "metadata": {},
   "source": [
    "Как видно даже при 10 сплитах валидация на обучающей выборке стабильна."
   ]
  },
  {
   "cell_type": "code",
   "execution_count": 1283,
   "metadata": {},
   "outputs": [
    {
     "data": {
      "text/plain": [
       "0.9560178745315245"
      ]
     },
     "execution_count": 1283,
     "metadata": {},
     "output_type": "execute_result"
    }
   ],
   "source": [
    "# Скор на отложенной выборке\n",
    "model.fit(x_train,y_train)\n",
    "roc_auc_score(y_test, model.predict_proba(x_test)[:,1])"
   ]
  },
  {
   "cell_type": "markdown",
   "metadata": {},
   "source": [
    "Результат на отлоденной выборке так же говорит о том, что валидация на тренировочных данныхз стабильна"
   ]
  },
  {
   "cell_type": "code",
   "execution_count": 1284,
   "metadata": {},
   "outputs": [
    {
     "data": {
      "text/plain": [
       "0.8497950752720054"
      ]
     },
     "execution_count": 1284,
     "metadata": {},
     "output_type": "execute_result"
    }
   ],
   "source": [
    "# Скор на лидерборде\n",
    "roc_auc_score(l_board['isFraud'], model.predict_proba(l_board.drop('isFraud',axis=1))[:,1])"
   ]
  },
  {
   "cell_type": "markdown",
   "metadata": {},
   "source": [
    "Однако традиционно имеем совршенно иной результат на лидерборде"
   ]
  },
  {
   "cell_type": "markdown",
   "metadata": {},
   "source": [
    "### Задание 6 (опциональное): сделать Hold-Out валидацию по времени (TransactionDT), повторить процедуры из п.1 / п.2 (на ваш выбор). Построить доверительный интервал, сравнить качество на ЛБ выборке с полученным доверительным интервалом. Сделать выводы."
   ]
  },
  {
   "cell_type": "code",
   "execution_count": 1286,
   "metadata": {},
   "outputs": [
    {
     "data": {
      "text/plain": [
       "(180000, 393)"
      ]
     },
     "execution_count": 1286,
     "metadata": {},
     "output_type": "execute_result"
    }
   ],
   "source": [
    "data = train.sort_values(by='TransactionDT')\n",
    "data.shape"
   ]
  },
  {
   "cell_type": "code",
   "execution_count": 1287,
   "metadata": {},
   "outputs": [],
   "source": [
    "x_train = data.drop('isFraud',axis=1).iloc[:150000]\n",
    "x_valid = data.drop('isFraud',axis=1).iloc[150000:]\n",
    "y_train = data['isFraud'].iloc[:150000]\n",
    "y_valid = data['isFraud'].iloc[150000:]"
   ]
  },
  {
   "cell_type": "code",
   "execution_count": 1288,
   "metadata": {},
   "outputs": [
    {
     "data": {
      "text/plain": [
       "((150000, 392), (30000, 392), (150000,), (30000,))"
      ]
     },
     "execution_count": 1288,
     "metadata": {},
     "output_type": "execute_result"
    }
   ],
   "source": [
    "x_train.shape ,x_valid.shape ,y_train.shape ,y_valid.shape "
   ]
  },
  {
   "cell_type": "code",
   "execution_count": 1289,
   "metadata": {},
   "outputs": [],
   "source": [
    "x_test = x_valid.iloc[:20000]\n",
    "x_valid = x_valid.iloc[20000:]\n",
    "y_test = y_valid.iloc[:20000]\n",
    "y_valid = y_valid.iloc[20000:]\n"
   ]
  },
  {
   "cell_type": "code",
   "execution_count": 1290,
   "metadata": {},
   "outputs": [
    {
     "data": {
      "text/plain": [
       "((20000, 392), (10000, 392), (20000,), (10000,))"
      ]
     },
     "execution_count": 1290,
     "metadata": {},
     "output_type": "execute_result"
    }
   ],
   "source": [
    "x_test.shape ,x_valid.shape ,y_test.shape ,y_valid.shape "
   ]
  },
  {
   "cell_type": "code",
   "execution_count": 1291,
   "metadata": {},
   "outputs": [],
   "source": [
    "dtrain = lgb.Dataset(data=x_train, label=y_train,categorical_feature=object_features.to_list())\n",
    "dvalid = lgb.Dataset(data=x_valid, label=y_valid,categorical_feature=object_features.to_list())"
   ]
  },
  {
   "cell_type": "code",
   "execution_count": 1292,
   "metadata": {},
   "outputs": [],
   "source": [
    "params_t = {\n",
    "    \"boosting_type\": \"gbdt\",\n",
    "    \"objective\": \"binary\",\n",
    "    \"metric\": \"auc\",\n",
    "    \"learning_rate\": 0.05,\n",
    "    \"n_estimators\": 1000,\n",
    "    \"n_jobs\": 15,\n",
    "    \"seed\": 5\n",
    "}"
   ]
  },
  {
   "cell_type": "code",
   "execution_count": 1293,
   "metadata": {},
   "outputs": [
    {
     "name": "stdout",
     "output_type": "stream",
     "text": [
      "[LightGBM] [Info] Number of positive: 3970, number of negative: 146030\n",
      "[LightGBM] [Warning] Auto-choosing row-wise multi-threading, the overhead of testing was 0.028345 seconds.\n",
      "You can set `force_row_wise=true` to remove the overhead.\n",
      "And if memory is not enough, you can set `force_col_wise=true`.\n",
      "[LightGBM] [Info] Total Bins 31874\n",
      "[LightGBM] [Info] Number of data points in the train set: 150000, number of used features: 390\n",
      "[LightGBM] [Info] [binary:BoostFromScore]: pavg=0.026467 -> initscore=-3.605046\n",
      "[LightGBM] [Info] Start training from score -3.605046\n"
     ]
    }
   ],
   "source": [
    "model_t = lgb.train(\n",
    "    params=params_t,\n",
    "    train_set=dtrain,\n",
    "    num_boost_round=10000,\n",
    "    valid_sets=[dtrain, dvalid],\n",
    "    categorical_feature=object_features.to_list(),\n",
    "    early_stopping_rounds=90,\n",
    "    verbose_eval=None\n",
    ")"
   ]
  },
  {
   "cell_type": "code",
   "execution_count": 1294,
   "metadata": {},
   "outputs": [
    {
     "data": {
      "text/plain": [
       "defaultdict(collections.OrderedDict,\n",
       "            {'training': OrderedDict([('auc', 0.9806719488128367)]),\n",
       "             'valid_1': OrderedDict([('auc', 0.9302275318103045)])})"
      ]
     },
     "execution_count": 1294,
     "metadata": {},
     "output_type": "execute_result"
    }
   ],
   "source": [
    "model_t.best_score"
   ]
  },
  {
   "cell_type": "code",
   "execution_count": 1295,
   "metadata": {},
   "outputs": [
    {
     "data": {
      "text/plain": [
       "0.9227191579683471"
      ]
     },
     "execution_count": 1295,
     "metadata": {},
     "output_type": "execute_result"
    }
   ],
   "source": [
    "roc_auc_score(y_test, model_t.predict(x_test))"
   ]
  },
  {
   "cell_type": "code",
   "execution_count": 1297,
   "metadata": {},
   "outputs": [
    {
     "data": {
      "text/plain": [
       "0.8713025757026576"
      ]
     },
     "execution_count": 1297,
     "metadata": {},
     "output_type": "execute_result"
    }
   ],
   "source": [
    "roc_auc_score(l_board['isFraud'], model_t.predict(l_board.drop('isFraud',axis=1)))"
   ]
  },
  {
   "cell_type": "code",
   "execution_count": 1300,
   "metadata": {},
   "outputs": [
    {
     "data": {
      "text/plain": [
       "(0.9120344036371724, 0.9336053222419792)"
      ]
     },
     "execution_count": 1300,
     "metadata": {},
     "output_type": "execute_result"
    }
   ],
   "source": [
    "# доверительный интервал на данных из п.2 на основе бутстреп выборок\n",
    "np.random.seed(1)\n",
    "bootstrap_calculate_confidence_interval(y_test,model_t.predict(x_test), roc_auc_score)"
   ]
  },
  {
   "cell_type": "markdown",
   "metadata": {},
   "source": [
    "Мимо!"
   ]
  },
  {
   "cell_type": "markdown",
   "metadata": {},
   "source": [
    "### Задание 7 (совсем опциональное): в данном наборе данных у нас есть ID-транзакции (TransactionID) и время транзакции (TransactionDT), но отсутствует ID-клиента, который совершал транзакции. Кажется, что в этой задаче валидация по клиенту работала бы хорошо. Предложить критерий, по которому можно выделить клиентов и сделать п.5, используя созданное определение клиента, используя валидацию по клиенту (GroupKFold)."
   ]
  },
  {
   "cell_type": "code",
   "execution_count": 41,
   "metadata": {},
   "outputs": [],
   "source": [
    "def conc_client(x):\n",
    "    z = ''\n",
    "    for i in x[object_features]:\n",
    "        z += \" \" +str(i)\n",
    "    return z    \n",
    "        "
   ]
  },
  {
   "cell_type": "code",
   "execution_count": 42,
   "metadata": {},
   "outputs": [],
   "source": [
    "a = pd.concat([train,l_board],axis=0)"
   ]
  },
  {
   "cell_type": "code",
   "execution_count": 43,
   "metadata": {},
   "outputs": [],
   "source": [
    "a['client'] = a.apply(conc_client , axis = 1)"
   ]
  },
  {
   "cell_type": "code",
   "execution_count": 44,
   "metadata": {},
   "outputs": [],
   "source": [
    "a['client'] = a['client'].map(a['client'].value_counts())"
   ]
  },
  {
   "cell_type": "code",
   "execution_count": 45,
   "metadata": {},
   "outputs": [],
   "source": [
    "train = a.iloc[:train.shape[0]]\n",
    "l_board = a.iloc[train.shape[0]:]"
   ]
  },
  {
   "cell_type": "code",
   "execution_count": 46,
   "metadata": {},
   "outputs": [],
   "source": [
    "train[object_features]=train[object_features].astype('category')\n",
    "l_board[object_features]=l_board[object_features].astype('category')"
   ]
  },
  {
   "cell_type": "code",
   "execution_count": 47,
   "metadata": {},
   "outputs": [],
   "source": [
    "group_kfold = GroupKFold(n_splits=5)\n",
    "X = train.drop(['isFraud'],axis=1)\n",
    "y = train['isFraud']\n",
    "groups = train['client']\n",
    "cv_strategy = group_kfold"
   ]
  },
  {
   "cell_type": "code",
   "execution_count": 48,
   "metadata": {},
   "outputs": [],
   "source": [
    "model=lgb.LGBMClassifier()"
   ]
  },
  {
   "cell_type": "code",
   "execution_count": 49,
   "metadata": {},
   "outputs": [
    {
     "name": "stdout",
     "output_type": "stream",
     "text": [
      "Fold: 1, train-observations = 144014, valid-observations = 35986\n",
      "train-score = 0.9771, valid-score = 0.9216\n",
      "=====================================================================\n",
      "Fold: 2, train-observations = 143998, valid-observations = 36002\n",
      "train-score = 0.9746, valid-score = 0.9074\n",
      "=====================================================================\n",
      "Fold: 3, train-observations = 143986, valid-observations = 36014\n",
      "train-score = 0.9737, valid-score = 0.9246\n",
      "=====================================================================\n",
      "Fold: 4, train-observations = 143991, valid-observations = 36009\n",
      "train-score = 0.9776, valid-score = 0.8783\n",
      "=====================================================================\n",
      "Fold: 5, train-observations = 144011, valid-observations = 35989\n",
      "train-score = 0.9743, valid-score = 0.9188\n",
      "=====================================================================\n",
      "CV-results train: 0.9755 +/- 0.002\n",
      "CV-results valid: 0.9101 +/- 0.017\n",
      "OOF-score = 0.9129\n"
     ]
    }
   ],
   "source": [
    "cv =  make_cross_validation_gr(X,\n",
    "                          y,\n",
    "                          model,\n",
    "                          roc_auc_score,\n",
    "                          cv_strategy,groups)"
   ]
  },
  {
   "cell_type": "code",
   "execution_count": 50,
   "metadata": {},
   "outputs": [
    {
     "data": {
      "text/plain": [
       "(0.9245989654058079, 0.8783245982837067)"
      ]
     },
     "execution_count": 50,
     "metadata": {},
     "output_type": "execute_result"
    }
   ],
   "source": [
    "max(cv[3]),min(cv[3])"
   ]
  },
  {
   "cell_type": "code",
   "execution_count": 51,
   "metadata": {},
   "outputs": [
    {
     "data": {
      "text/plain": [
       "LGBMClassifier()"
      ]
     },
     "execution_count": 51,
     "metadata": {},
     "output_type": "execute_result"
    }
   ],
   "source": [
    "model.fit(X,y)"
   ]
  },
  {
   "cell_type": "code",
   "execution_count": 52,
   "metadata": {},
   "outputs": [
    {
     "data": {
      "text/plain": [
       "0.6499901998557179"
      ]
     },
     "execution_count": 52,
     "metadata": {},
     "output_type": "execute_result"
    }
   ],
   "source": [
    "roc_auc_score(l_board['isFraud'], model.predict(l_board.drop('isFraud',axis=1)))"
   ]
  },
  {
   "cell_type": "markdown",
   "metadata": {},
   "source": [
    "Мимо"
   ]
  },
  {
   "cell_type": "code",
   "execution_count": null,
   "metadata": {},
   "outputs": [],
   "source": []
  }
 ],
 "metadata": {
  "kernelspec": {
   "display_name": "Python 3 (ipykernel)",
   "language": "python",
   "name": "python3"
  },
  "language_info": {
   "codemirror_mode": {
    "name": "ipython",
    "version": 3
   },
   "file_extension": ".py",
   "mimetype": "text/x-python",
   "name": "python",
   "nbconvert_exporter": "python",
   "pygments_lexer": "ipython3",
   "version": "3.8.5"
  }
 },
 "nbformat": 4,
 "nbformat_minor": 4
}
